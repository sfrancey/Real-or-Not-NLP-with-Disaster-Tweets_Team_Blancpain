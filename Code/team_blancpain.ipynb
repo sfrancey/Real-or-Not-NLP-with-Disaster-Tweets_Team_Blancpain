{
  "nbformat": 4,
  "nbformat_minor": 0,
  "metadata": {
    "colab": {
      "name": "team_blancpain.ipynb",
      "provenance": [],
      "collapsed_sections": [
        "FbefT-y0p_a8"
      ],
      "include_colab_link": true
    },
    "kernelspec": {
      "name": "python3",
      "display_name": "Python 3"
    }
  },
  "cells": [
    {
      "cell_type": "markdown",
      "metadata": {
        "id": "view-in-github",
        "colab_type": "text"
      },
      "source": [
        "<a href=\"https://colab.research.google.com/github/sfrancey/Real-or-Not-NLP-with-Disaster-Tweets_Team_Blancpain/blob/main/Code/team_blancpain.ipynb\" target=\"_parent\"><img src=\"https://colab.research.google.com/assets/colab-badge.svg\" alt=\"Open In Colab\"/></a>"
      ]
    },
    {
      "cell_type": "markdown",
      "metadata": {
        "id": "AXzHa0DHmtVT"
      },
      "source": [
        "#DMML TEAM BLANCPAIN\n",
        "\n"
      ]
    },
    {
      "cell_type": "code",
      "metadata": {
        "id": "JRjtY_22nCqP"
      },
      "source": [
        "%matplotlib inline\n",
        "import numpy as np\n",
        "import matplotlib.pyplot as plt\n",
        "from matplotlib import collections  as mc\n",
        "%load_ext autoreload\n",
        "%autoreload 2\n",
        "import pandas as pd \n",
        "import seaborn as sns\n",
        "from sklearn.preprocessing import LabelEncoder, OneHotEncoder\n",
        "sns.set_style(\"white\")"
      ],
      "execution_count": 1,
      "outputs": []
    },
    {
      "cell_type": "markdown",
      "metadata": {
        "id": "FbefT-y0p_a8"
      },
      "source": [
        "##Data Importation##"
      ]
    },
    {
      "cell_type": "code",
      "metadata": {
        "id": "zJ261KjjoGUD"
      },
      "source": [
        "df_train = pd.read_csv('https://raw.githubusercontent.com/sfrancey/Real-or-Not-NLP-with-Disaster-Tweets_Team_Blancpain/main/Data/training_data.csv')\n",
        "\n",
        "df_test = pd.read_csv('https://raw.githubusercontent.com/sfrancey/Real-or-Not-NLP-with-Disaster-Tweets_Team_Blancpain/main/Data/test_data.csv')\n",
        "\n",
        "df_sample = pd.read_csv('https://raw.githubusercontent.com/sfrancey/Real-or-Not-NLP-with-Disaster-Tweets_Team_Blancpain/main/Data/sample_submission.csv')"
      ],
      "execution_count": 2,
      "outputs": []
    },
    {
      "cell_type": "markdown",
      "metadata": {
        "id": "K0dr6-QBNMKL"
      },
      "source": [
        "##Data visualization##"
      ]
    },
    {
      "cell_type": "code",
      "metadata": {
        "id": "-SxdnAJ6oaRU",
        "colab": {
          "base_uri": "https://localhost:8080/",
          "height": 362
        },
        "outputId": "f202d4e9-6fb9-4e0a-c217-3b856adc92e0"
      },
      "source": [
        "df_train.head(10)"
      ],
      "execution_count": 3,
      "outputs": [
        {
          "output_type": "execute_result",
          "data": {
            "text/html": [
              "<div>\n",
              "<style scoped>\n",
              "    .dataframe tbody tr th:only-of-type {\n",
              "        vertical-align: middle;\n",
              "    }\n",
              "\n",
              "    .dataframe tbody tr th {\n",
              "        vertical-align: top;\n",
              "    }\n",
              "\n",
              "    .dataframe thead th {\n",
              "        text-align: right;\n",
              "    }\n",
              "</style>\n",
              "<table border=\"1\" class=\"dataframe\">\n",
              "  <thead>\n",
              "    <tr style=\"text-align: right;\">\n",
              "      <th></th>\n",
              "      <th>id</th>\n",
              "      <th>keyword</th>\n",
              "      <th>location</th>\n",
              "      <th>text</th>\n",
              "      <th>target</th>\n",
              "    </tr>\n",
              "  </thead>\n",
              "  <tbody>\n",
              "    <tr>\n",
              "      <th>0</th>\n",
              "      <td>3738</td>\n",
              "      <td>destroyed</td>\n",
              "      <td>USA</td>\n",
              "      <td>Black Eye 9: A space battle occurred at Star O...</td>\n",
              "      <td>0</td>\n",
              "    </tr>\n",
              "    <tr>\n",
              "      <th>1</th>\n",
              "      <td>853</td>\n",
              "      <td>bioterror</td>\n",
              "      <td>NaN</td>\n",
              "      <td>#world FedEx no longer to transport bioterror ...</td>\n",
              "      <td>0</td>\n",
              "    </tr>\n",
              "    <tr>\n",
              "      <th>2</th>\n",
              "      <td>10540</td>\n",
              "      <td>windstorm</td>\n",
              "      <td>Palm Beach County, FL</td>\n",
              "      <td>Reality Training: Train falls off elevated tra...</td>\n",
              "      <td>1</td>\n",
              "    </tr>\n",
              "    <tr>\n",
              "      <th>3</th>\n",
              "      <td>5988</td>\n",
              "      <td>hazardous</td>\n",
              "      <td>USA</td>\n",
              "      <td>#Taiwan Grace: expect that large rocks trees m...</td>\n",
              "      <td>1</td>\n",
              "    </tr>\n",
              "    <tr>\n",
              "      <th>4</th>\n",
              "      <td>6328</td>\n",
              "      <td>hostage</td>\n",
              "      <td>Australia</td>\n",
              "      <td>New ISIS Video: ISIS Threatens to Behead Croat...</td>\n",
              "      <td>1</td>\n",
              "    </tr>\n",
              "    <tr>\n",
              "      <th>5</th>\n",
              "      <td>6669</td>\n",
              "      <td>landslide</td>\n",
              "      <td>Scotland</td>\n",
              "      <td>FreeBesieged: .MartinMJ22 YouGov Which '#Tory ...</td>\n",
              "      <td>1</td>\n",
              "    </tr>\n",
              "    <tr>\n",
              "      <th>6</th>\n",
              "      <td>9772</td>\n",
              "      <td>trapped</td>\n",
              "      <td>New York City</td>\n",
              "      <td>Billionaires have a plan to free half a billio...</td>\n",
              "      <td>0</td>\n",
              "    </tr>\n",
              "    <tr>\n",
              "      <th>7</th>\n",
              "      <td>10361</td>\n",
              "      <td>weapons</td>\n",
              "      <td>Multinational *****</td>\n",
              "      <td>@JamesMelville Some old testimony of weapons u...</td>\n",
              "      <td>0</td>\n",
              "    </tr>\n",
              "    <tr>\n",
              "      <th>8</th>\n",
              "      <td>1953</td>\n",
              "      <td>burning%20buildings</td>\n",
              "      <td>Los Angeles</td>\n",
              "      <td>Ali you flew planes and ran into burning build...</td>\n",
              "      <td>0</td>\n",
              "    </tr>\n",
              "    <tr>\n",
              "      <th>9</th>\n",
              "      <td>9586</td>\n",
              "      <td>thunder</td>\n",
              "      <td>NaN</td>\n",
              "      <td>The thunder shook my house woke my sister and ...</td>\n",
              "      <td>1</td>\n",
              "    </tr>\n",
              "  </tbody>\n",
              "</table>\n",
              "</div>"
            ],
            "text/plain": [
              "      id  ... target\n",
              "0   3738  ...      0\n",
              "1    853  ...      0\n",
              "2  10540  ...      1\n",
              "3   5988  ...      1\n",
              "4   6328  ...      1\n",
              "5   6669  ...      1\n",
              "6   9772  ...      0\n",
              "7  10361  ...      0\n",
              "8   1953  ...      0\n",
              "9   9586  ...      1\n",
              "\n",
              "[10 rows x 5 columns]"
            ]
          },
          "metadata": {
            "tags": []
          },
          "execution_count": 3
        }
      ]
    },
    {
      "cell_type": "code",
      "metadata": {
        "id": "nqHF4OATodQD",
        "colab": {
          "base_uri": "https://localhost:8080/"
        },
        "outputId": "094bd906-ba69-40b8-fc3f-b7e71e19c61c"
      },
      "source": [
        "print(\"There are {0} rows and {1} columns in the train dataset.\".format(df_train.shape[0],df_train.shape[1]))\n"
      ],
      "execution_count": 4,
      "outputs": [
        {
          "output_type": "stream",
          "text": [
            "There are 6471 rows and 5 columns in the train dataset.\n"
          ],
          "name": "stdout"
        }
      ]
    },
    {
      "cell_type": "code",
      "metadata": {
        "id": "N-llenpKopx2",
        "colab": {
          "base_uri": "https://localhost:8080/",
          "height": 362
        },
        "outputId": "91b10e74-ab58-4923-929b-898d0c6167ec"
      },
      "source": [
        "df_test.head(10)"
      ],
      "execution_count": 5,
      "outputs": [
        {
          "output_type": "execute_result",
          "data": {
            "text/html": [
              "<div>\n",
              "<style scoped>\n",
              "    .dataframe tbody tr th:only-of-type {\n",
              "        vertical-align: middle;\n",
              "    }\n",
              "\n",
              "    .dataframe tbody tr th {\n",
              "        vertical-align: top;\n",
              "    }\n",
              "\n",
              "    .dataframe thead th {\n",
              "        text-align: right;\n",
              "    }\n",
              "</style>\n",
              "<table border=\"1\" class=\"dataframe\">\n",
              "  <thead>\n",
              "    <tr style=\"text-align: right;\">\n",
              "      <th></th>\n",
              "      <th>id</th>\n",
              "      <th>keyword</th>\n",
              "      <th>location</th>\n",
              "      <th>text</th>\n",
              "    </tr>\n",
              "  </thead>\n",
              "  <tbody>\n",
              "    <tr>\n",
              "      <th>0</th>\n",
              "      <td>9972</td>\n",
              "      <td>tsunami</td>\n",
              "      <td>NaN</td>\n",
              "      <td>Crptotech tsunami and banks.\\n http://t.co/KHz...</td>\n",
              "    </tr>\n",
              "    <tr>\n",
              "      <th>1</th>\n",
              "      <td>9865</td>\n",
              "      <td>traumatised</td>\n",
              "      <td>Portsmouth, UK</td>\n",
              "      <td>I'm that traumatised that I can't even spell p...</td>\n",
              "    </tr>\n",
              "    <tr>\n",
              "      <th>2</th>\n",
              "      <td>1937</td>\n",
              "      <td>burning%20buildings</td>\n",
              "      <td>NaN</td>\n",
              "      <td>@foxnewsvideo @AIIAmericanGirI @ANHQDC So ... ...</td>\n",
              "    </tr>\n",
              "    <tr>\n",
              "      <th>3</th>\n",
              "      <td>3560</td>\n",
              "      <td>desolate</td>\n",
              "      <td>NaN</td>\n",
              "      <td>Me watching Law &amp;amp; Order (IB: @sauldale305)...</td>\n",
              "    </tr>\n",
              "    <tr>\n",
              "      <th>4</th>\n",
              "      <td>2731</td>\n",
              "      <td>crushed</td>\n",
              "      <td>bahstun/porta reeko</td>\n",
              "      <td>Papi absolutely crushed that ball</td>\n",
              "    </tr>\n",
              "    <tr>\n",
              "      <th>5</th>\n",
              "      <td>10020</td>\n",
              "      <td>twister</td>\n",
              "      <td>NaN</td>\n",
              "      <td>Brain twister let drop up telly structuring ca...</td>\n",
              "    </tr>\n",
              "    <tr>\n",
              "      <th>6</th>\n",
              "      <td>8676</td>\n",
              "      <td>sinkhole</td>\n",
              "      <td>San Diego, CA</td>\n",
              "      <td>RT twit_san_diego 'Possible sinkhole disrupts ...</td>\n",
              "    </tr>\n",
              "    <tr>\n",
              "      <th>7</th>\n",
              "      <td>3131</td>\n",
              "      <td>debris</td>\n",
              "      <td>NaN</td>\n",
              "      <td>Aircraft debris found on island is from MH370 ...</td>\n",
              "    </tr>\n",
              "    <tr>\n",
              "      <th>8</th>\n",
              "      <td>2195</td>\n",
              "      <td>catastrophic</td>\n",
              "      <td>Dublin, Ireland</td>\n",
              "      <td>'Kessler Syndrome' is the name for the catastr...</td>\n",
              "    </tr>\n",
              "    <tr>\n",
              "      <th>9</th>\n",
              "      <td>3484</td>\n",
              "      <td>derailed</td>\n",
              "      <td>DC</td>\n",
              "      <td>So a train derailed and instead of me getting ...</td>\n",
              "    </tr>\n",
              "  </tbody>\n",
              "</table>\n",
              "</div>"
            ],
            "text/plain": [
              "      id  ...                                               text\n",
              "0   9972  ...  Crptotech tsunami and banks.\\n http://t.co/KHz...\n",
              "1   9865  ...  I'm that traumatised that I can't even spell p...\n",
              "2   1937  ...  @foxnewsvideo @AIIAmericanGirI @ANHQDC So ... ...\n",
              "3   3560  ...  Me watching Law &amp; Order (IB: @sauldale305)...\n",
              "4   2731  ...                  Papi absolutely crushed that ball\n",
              "5  10020  ...  Brain twister let drop up telly structuring ca...\n",
              "6   8676  ...  RT twit_san_diego 'Possible sinkhole disrupts ...\n",
              "7   3131  ...  Aircraft debris found on island is from MH370 ...\n",
              "8   2195  ...  'Kessler Syndrome' is the name for the catastr...\n",
              "9   3484  ...  So a train derailed and instead of me getting ...\n",
              "\n",
              "[10 rows x 4 columns]"
            ]
          },
          "metadata": {
            "tags": []
          },
          "execution_count": 5
        }
      ]
    },
    {
      "cell_type": "code",
      "metadata": {
        "id": "lDQGKCzYp3VU",
        "colab": {
          "base_uri": "https://localhost:8080/"
        },
        "outputId": "1006f11e-f62b-45e4-a14e-7288226930de"
      },
      "source": [
        "print(\"There are {0} rows and {1} columns in the test dataset.\".format(df_test.shape[0],df_test.shape[1]))\n"
      ],
      "execution_count": 6,
      "outputs": [
        {
          "output_type": "stream",
          "text": [
            "There are 1142 rows and 4 columns in the test dataset.\n"
          ],
          "name": "stdout"
        }
      ]
    },
    {
      "cell_type": "code",
      "metadata": {
        "id": "IM4UytkdMHOP",
        "outputId": "9ca016ee-b419-451a-c888-da47ac4631dd",
        "colab": {
          "base_uri": "https://localhost:8080/"
        }
      },
      "source": [
        "base_rate = max(len(df_train[df_train[\"target\"] == 0]) / len(df_train), len(df_train[df_train[\"target\"] == 1]) / len(df_train))\n",
        "print(\"The base rate for this problem is :\", base_rate)"
      ],
      "execution_count": 11,
      "outputs": [
        {
          "output_type": "stream",
          "text": [
            "The base rate for this problem is : 0.5719363313243703\n"
          ],
          "name": "stdout"
        }
      ]
    },
    {
      "cell_type": "markdown",
      "metadata": {
        "id": "KyHwOAcMZt5U"
      },
      "source": [
        "##EDA"
      ]
    },
    {
      "cell_type": "code",
      "metadata": {
        "id": "RPH-zP9IZ-V4"
      },
      "source": [
        "df_train.fillna(\"Unknown\", inplace = True)"
      ],
      "execution_count": null,
      "outputs": []
    },
    {
      "cell_type": "code",
      "metadata": {
        "id": "Edf36Mrbs5uB"
      },
      "source": [
        "df_train[\"keyword\"].replace([\"bush%20fires\",\"forest%20fires\",\"wild%20fires\",\"hellfire\",\"forest%20fire\"],\"natural_fires\", inplace = True)\n",
        "df_train[\"keyword\"].replace([\"suicide%20bomber\",\"suicide%20bombing\",\"suicide%20bomb\"],\"suicide_bombing\", inplace = True)\n",
        "df_train[\"keyword\"].replace([\"building%20fires\",\"buildings%20burning\",\"buildings%20on%20fire\",\"burning%20buildings\"],\"building_fires\", inplace = True)\n",
        "df_train[\"keyword\"].replace([\"blew%20up\",\"blown%20up\"],\"blew_up\", inplace = True)\n",
        "df_train[\"keyword\"].replace([\"structural%20failure\"],\"structural_failure\", inplace = True)\n",
        "df_train[\"keyword\"].replace([\"natural%20disaster\"],\"natural_disaster\", inplace = True)\n",
        "df_train[\"keyword\"].replace([\"body%20bags\",\"body%20bagging\",\"body%20bag\"],\"body_bags\", inplace = True)\n",
        "df_train[\"keyword\"].replace([\"emergency%20services\"],\"emergency_services\", inplace = True)\n",
        "df_train[\"keyword\"].replace([\"dust%20storm\"],\"dust_storm\", inplace = True)\n",
        "df_train[\"keyword\"].replace([\"heat%20wave\"],\"heat_wave\", inplace = True)\n",
        "df_train[\"keyword\"].replace([\"mass%20murder\",\"mass%20murderer\"],\"mass_murder\", inplace = True)\n",
        "df_train[\"keyword\"].replace([\"war%20zone\"],\"war_zone\", inplace = True)\n",
        "df_train[\"keyword\"].replace([\"emergency%20plan\"],\"emergency_plan\", inplace = True)\n",
        "df_train[\"keyword\"].replace([\"nuclear%20reactor\",\"nuclear%20disaster\"],\"nuclear\", inplace = True)\n",
        "df_train[\"keyword\"].replace([\"airplane%20accident\"],\"airplane_accident\", inplace = True)\n",
        "df_train[\"keyword\"].replace([\"chemical%20emergency\"],\"chemical_emergency\", inplace = True)\n",
        "df_train[\"keyword\"].replace([\"radiation%20emergency\"],\"radiation_emergency\", inplace = True)\n",
        "df_train[\"keyword\"].replace([\"oil%20spill\"],\"oil_spill\", inplace = True)\n",
        "df_train[\"keyword\"].replace([\"loud%20bang\"],\"loud_bang\", inplace = True)\n",
        "df_train[\"keyword\"].replace([\"cliff%20fall\"],\"cliff_fall\", inplace = True)\n",
        "df_train[\"keyword\"].replace([\"bridge%20collapse\"],\"bridge_collapse\", inplace = True)\n",
        "df_train[\"keyword\"].replace([\"fire%20truck\"],\"fire_truck\", inplace = True)\n",
        "df_train[\"keyword\"].replace([\"violent%20storm\"],\"violent_storm\", inplace = True)\n",
        "df_train[\"keyword\"].replace([\"first%20responders\"],\"first_responders\", inplace = True)\n",
        "df_train[\"keyword\"].replace([\"annihilated\",\"annihilation\"],\"annihilation\", inplace = True)\n",
        "df_train[\"keyword\"].replace([\"arson\",\"arsonist\"],\"arson\", inplace = True)\n",
        "df_train[\"keyword\"].replace([\"attacked\",\"attack\"],\"attack\", inplace = True)\n",
        "df_train[\"keyword\"].replace([\"bioterrorist\",\"bioterror\",\"bioterrorism\"],\"bioterrorist\", inplace = True)\n",
        "df_train[\"keyword\"].replace([\"blaze\",\"blazing\"],\"blaze\", inplace = True)\n",
        "df_train[\"keyword\"].replace([\"blood\",\"bloody\"],\"blood\", inplace = True)\n",
        "df_train[\"keyword\"].replace([\"bomb\",\"bombing\",\"bombed\"],\"bomb\", inplace = True)\n",
        "df_train[\"keyword\"].replace([\"burned\",\"burning\"],\"burning\", inplace = True)\n",
        "df_train[\"keyword\"].replace([\"casualty\",\"casualties\"],\"casualty\", inplace = True)\n",
        "df_train[\"keyword\"].replace([\"catastroph\",\"catastrophic\",\"catastrophe\"],\"catastroph\", inplace = True)\n",
        "df_train[\"keyword\"].replace([\"collapse\",\"collapsed\"],\"collapse\", inplace = True)\n",
        "df_train[\"keyword\"].replace([\"collision\",\"collide\"],\"collision\", inplace = True)\n",
        "df_train[\"keyword\"].replace([\"crash\",\"crashed\"],\"crashed\", inplace = True)\n",
        "df_train[\"keyword\"].replace([\"crush\",\"crushed\"],\"crush\", inplace = True)\n",
        "df_train[\"keyword\"].replace([\"death\",\"dead\",\"deaths\"],\"dead\", inplace = True)\n",
        "df_train[\"keyword\"].replace([\"deluge\",\"deluged\"],\"deluge\", inplace = True)\n",
        "df_train[\"keyword\"].replace([\"demolition\",\"demolish\",\"demolished\"],\"demolition\", inplace = True)\n",
        "df_train[\"keyword\"].replace([\"derail\",\"derailment\",\"derailed\"],\"derail\", inplace = True)\n",
        "df_train[\"keyword\"].replace([\"deluge\",\"deluged\"],\"deluge\", inplace = True)\n",
        "df_train[\"keyword\"].replace([\"destruction\",\"destroy\",\"destroyed\"],\"destruction\", inplace = True)\n",
        "df_train[\"keyword\"].replace([\"desolation\",\"desolate\"],\"desolation\", inplace = True)\n",
        "df_train[\"keyword\"].replace([\"detonation\",\"detonate\"],\"detonation\", inplace = True)\n",
        "df_train[\"keyword\"].replace([\"devastation\",\"devastated\"],\"devastation\", inplace = True)\n",
        "df_train[\"keyword\"].replace([\"drown\",\"drowned\",\"drowning\"],\"drown\", inplace = True)\n",
        "df_train[\"keyword\"].replace([\"electrocute\",\"electrocuted\"],\"electrocute\", inplace = True)\n",
        "df_train[\"keyword\"].replace([\"emergency\",\"emergency_plan\",\"emergency_services\"],\"emergency\", inplace = True)\n",
        "df_train[\"keyword\"].replace([\"evacuation\",\"evacuated\",\"evacuate\"],\"evacuation\", inplace = True)\n",
        "df_train[\"keyword\"].replace([\"explosion\",\"exploded\",\"explode\"],\"explosion\", inplace = True)\n",
        "df_train[\"keyword\"].replace([\"fatal\",\"fatalities\", \"fatality\"],\"fatal\", inplace = True)\n",
        "df_train[\"keyword\"].replace([\"flood\",\"flooding\",\"floods\"],\"flood\", inplace = True)\n",
        "df_train[\"keyword\"].replace([\"hail\",\"hailstorm\"],\"hail\", inplace = True)\n",
        "df_train[\"keyword\"].replace([\"hazard\",\"hazardous\"],\"hazard\", inplace = True)\n",
        "df_train[\"keyword\"].replace([\"hijack\",\"hijacker\",\"hijacking\"],\"hijack\", inplace = True)\n",
        "df_train[\"keyword\"].replace([\"hostage\",\"hostages\"],\"hostage\", inplace = True)\n",
        "df_train[\"keyword\"].replace([\"injury\",\"injuries\",\"injured\"],\"injury\", inplace = True)\n",
        "df_train[\"keyword\"].replace([\"inundation\",\"inundated\"],\"inundation\", inplace = True)\n",
        "df_train[\"keyword\"].replace([\"obliteration\",\"obliterated\", \"obliterate\"],\"obliteration\", inplace = True)\n",
        "df_train[\"keyword\"].replace([\"panic\",\"panicking\"],\"panic\", inplace = True)\n",
        "df_train[\"keyword\"].replace([\"quarantine\",\"quarantined\"],\"quarantine\", inplace = True)\n",
        "df_train[\"keyword\"].replace([\"rescue\",\"rescued\",\"rescuers\"],\"rescue\", inplace = True)\n",
        "df_train[\"keyword\"].replace([\"riot\",\"rioting\"],\"riot\", inplace = True)\n",
        "df_train[\"keyword\"].replace([\"screams\",\"screaming\",\"screamed\"],\"scream\", inplace = True)\n",
        "df_train[\"keyword\"].replace([\"siren\",\"sirens\"],\"siren\", inplace = True)\n",
        "df_train[\"keyword\"].replace([\"survivors\",\"survive\",\"survived\"],\"survivor\", inplace = True)\n",
        "df_train[\"keyword\"].replace([\"terrorism\",\"terrorist\"],\"terrorist\", inplace = True)\n",
        "df_train[\"keyword\"].replace([\"trauma\",\"traumatised\"],\"trauma\", inplace = True)\n",
        "df_train[\"keyword\"].replace([\"weapon\",\"weapons\"],\"weapon\", inplace = True)\n",
        "df_train[\"keyword\"].replace([\"wounded\",\"wounds\"],\"wounds\", inplace = True)\n",
        "df_train[\"keyword\"].replace([\"wreck\",\"wreckage\",\"wrecked\"],\"wreckage\", inplace = True)"
      ],
      "execution_count": null,
      "outputs": []
    },
    {
      "cell_type": "code",
      "metadata": {
        "id": "MkPKcB3Maky4"
      },
      "source": [
        "df_deluge = pd.DataFrame(df_train[\"keyword\"].value_counts())"
      ],
      "execution_count": null,
      "outputs": []
    },
    {
      "cell_type": "code",
      "metadata": {
        "id": "SX1pg7O-fkj1"
      },
      "source": [
        "df_deluge.shape"
      ],
      "execution_count": null,
      "outputs": []
    },
    {
      "cell_type": "code",
      "metadata": {
        "id": "Ttt6bBILoV3Y"
      },
      "source": [
        "newlist=[]\n",
        "len = df_train.shape[0]\n",
        "i=0\n",
        "while i<len:\n",
        "  category = df_train['keyword'].iloc[i]\n",
        "  if category not in newlist:\n",
        "    newlist.append(category)\n",
        "  i+=1\n",
        "print(sorted(newlist))\n"
      ],
      "execution_count": null,
      "outputs": []
    },
    {
      "cell_type": "code",
      "metadata": {
        "id": "qhL5QVkAyW46"
      },
      "source": [
        "liste_nature = ['avalanche' , 'blizzard',   'catastroph', 'cliff_fall',  'cyclone',\"deluge\",'drought', 'dust_storm', 'earthquake', 'engulfed', 'epicentre',  'flood', 'hail', 'heat_wave', 'hurricane',  'inundation', 'landslide', 'lava', 'lightning',  'mudslide', 'natural_disaster', 'natural_fires', \"outbreak\", 'pandemonium',   'rainstorm',   'sandstorm', 'seismic', 'sinkhole',   'snowstorm',  'storm',  'thunder', 'thunderstorm', 'tornado',    'tsunami', 'twister', 'typhoon',  'violent_storm', 'volcano', 'whirlwind', 'wildfire', 'windstorm']"
      ],
      "execution_count": null,
      "outputs": []
    },
    {
      "cell_type": "code",
      "metadata": {
        "id": "pLDz7Ek729LH"
      },
      "source": [
        "liste_not_nature = []\n",
        "for i in newlist : \n",
        "  if i not in liste_nature :\n",
        "    liste_not_nature.append(i)\n",
        "print(sorted(liste_not_nature))"
      ],
      "execution_count": null,
      "outputs": []
    },
    {
      "cell_type": "code",
      "metadata": {
        "id": "OMa8VV2P4O_e"
      },
      "source": [
        "new_list_not_nature = [  'accident',  'airplane_accident',   'apocalypse', 'armageddon', 'army', 'arson', 'attack', 'battle', 'bioterrorist', 'bomb', 'bridge_collapse', 'building_fires',  'chemical_emergency',  'collided', 'collision', 'crashed',  'curfew',  'demolition', 'derail', 'detonation',    'electrocute', 'explosion',   'fire_truck',   'hijack', 'hostage',   'mass_murder', 'massacre', 'mayhem',  'military', 'nuclear',  'oil_spill',  'radiation_emergency',  'riot',  'structural_failure', 'suicide_bombing',  'terrorist',  'war_zone', 'weapon']"
      ],
      "execution_count": null,
      "outputs": []
    },
    {
      "cell_type": "code",
      "metadata": {
        "id": "UTHdmcn664wC"
      },
      "source": [
        "#len = df_train.shape[0]\n",
        "#i = 0 \n",
        "#while i < len: \n",
        "#  if str(df_train[\"keyword\"].iloc[i]) in liste_nature : \n",
        "#    df_train[\"target\"].iloc[i] = 1\n",
        "#  elif str(df_train[\"keyword\"].iloc[i]) in new_list_not_nature : \n",
        "#    df_train[\"target\"].iloc[i] = 0\n",
        "#  i +=1\n",
        "#df_train"
      ],
      "execution_count": null,
      "outputs": []
    },
    {
      "cell_type": "code",
      "metadata": {
        "id": "2iGnw5MmbQJQ"
      },
      "source": [
        "df_deluge.sample(50)"
      ],
      "execution_count": null,
      "outputs": []
    },
    {
      "cell_type": "code",
      "metadata": {
        "id": "-_NKkfyEt3qR"
      },
      "source": [
        "df_train_pourcentage =df_train[df_train['keyword'].str.contains(\"%20\")]"
      ],
      "execution_count": null,
      "outputs": []
    },
    {
      "cell_type": "code",
      "metadata": {
        "id": "uQVsiRKLuAjK"
      },
      "source": [
        "df_train_pourcentage[\"keyword\"].value_counts()"
      ],
      "execution_count": null,
      "outputs": []
    },
    {
      "cell_type": "code",
      "metadata": {
        "id": "0J2cf3GPuNX7"
      },
      "source": [
        "df_test[\"keyword\"].replace([\"bush%20fires\",\"forest%20fires\",\"wild%20fires\",\"hellfire\",\"forest%20fire\"],\"natural_fires\", inplace = True)\n",
        "df_test[\"keyword\"].replace([\"suicide%20bomber\",\"suicide%20bombing\",\"suicide%20bomb\"],\"suicide_bombing\", inplace = True)\n",
        "df_test[\"keyword\"].replace([\"building%20fires\",\"buildings%20burning\",\"buildings%20on%20fire\",\"burning%20buildings\"],\"building_fires\", inplace = True)\n",
        "df_test[\"keyword\"].replace([\"blew%20up\",\"blown%20up\"],\"blew_up\", inplace = True)\n",
        "df_test[\"keyword\"].replace([\"structural%20failure\"],\"structural_failure\", inplace = True)\n",
        "df_test[\"keyword\"].replace([\"natural%20disaster\"],\"natural_disaster\", inplace = True)\n",
        "df_test[\"keyword\"].replace([\"body%20bags\",\"body%20bagging\",\"body%20bag\"],\"body_bags\", inplace = True)\n",
        "df_test[\"keyword\"].replace([\"emergency%20services\"],\"emergency_services\", inplace = True)\n",
        "df_test[\"keyword\"].replace([\"dust%20storm\"],\"dust_storm\", inplace = True)\n",
        "df_test[\"keyword\"].replace([\"heat%20wave\"],\"heat_wave\", inplace = True)\n",
        "df_test[\"keyword\"].replace([\"mass%20murder\",\"mass%20murderer\"],\"mass_murder\", inplace = True)\n",
        "df_test[\"keyword\"].replace([\"war%20zone\"],\"war_zone\", inplace = True)\n",
        "df_test[\"keyword\"].replace([\"emergency%20plan\"],\"emergency_plan\", inplace = True)\n",
        "df_test[\"keyword\"].replace([\"nuclear%20reactor\",\"nuclear%20disaster\"],\"nuclear\", inplace = True)\n",
        "df_test[\"keyword\"].replace([\"airplane%20accident\"],\"airplane_accident\", inplace = True)\n",
        "df_test[\"keyword\"].replace([\"chemical%20emergency\"],\"chemical_emergency\", inplace = True)\n",
        "df_test[\"keyword\"].replace([\"radiation%20emergency\"],\"radiation_emergency\", inplace = True)\n",
        "df_test[\"keyword\"].replace([\"oil%20spill\"],\"oil_spill\", inplace = True)\n",
        "df_test[\"keyword\"].replace([\"loud%20bang\"],\"loud_bang\", inplace = True)\n",
        "df_test[\"keyword\"].replace([\"cliff%20fall\"],\"cliff_fall\", inplace = True)\n",
        "df_test[\"keyword\"].replace([\"bridge%20collapse\"],\"bridge_collapse\", inplace = True)\n",
        "df_test[\"keyword\"].replace([\"fire%20truck\"],\"fire_truck\", inplace = True)\n",
        "df_test[\"keyword\"].replace([\"violent%20storm\"],\"violent_storm\", inplace = True)\n",
        "df_test[\"keyword\"].replace([\"first%20responders\"],\"first_responders\", inplace = True)\n",
        "df_test[\"keyword\"].replace([\"annihilated\",\"annihilation\"],\"annihilation\", inplace = True)\n",
        "df_test[\"keyword\"].replace([\"arson\",\"arsonist\"],\"arson\", inplace = True)\n",
        "df_test[\"keyword\"].replace([\"attacked\",\"attack\"],\"attack\", inplace = True)\n",
        "df_test[\"keyword\"].replace([\"bioterrorist\",\"bioterror\",\"bioterrorism\"],\"bioterrorist\", inplace = True)\n",
        "df_test[\"keyword\"].replace([\"blaze\",\"blazing\"],\"blaze\", inplace = True)\n",
        "df_test[\"keyword\"].replace([\"blood\",\"bloody\"],\"blood\", inplace = True)\n",
        "df_test[\"keyword\"].replace([\"bomb\",\"bombing\",\"bombed\"],\"bomb\", inplace = True)\n",
        "df_test[\"keyword\"].replace([\"burned\",\"burning\"],\"burning\", inplace = True)\n",
        "df_test[\"keyword\"].replace([\"casualty\",\"casualties\"],\"casualty\", inplace = True)\n",
        "df_test[\"keyword\"].replace([\"catastroph\",\"catastrophic\",\"catastrophe\"],\"catastroph\", inplace = True)\n",
        "df_test[\"keyword\"].replace([\"collapse\",\"collapsed\"],\"collapse\", inplace = True)\n",
        "df_test[\"keyword\"].replace([\"collision\",\"collide\"],\"collision\", inplace = True)\n",
        "df_test[\"keyword\"].replace([\"crash\",\"crashed\"],\"crashed\", inplace = True)\n",
        "df_test[\"keyword\"].replace([\"crush\",\"crushed\"],\"crush\", inplace = True)\n",
        "df_test[\"keyword\"].replace([\"death\",\"dead\",\"deaths\"],\"dead\", inplace = True)\n",
        "df_test[\"keyword\"].replace([\"deluge\",\"deluged\"],\"deluge\", inplace = True)\n",
        "df_test[\"keyword\"].replace([\"demolition\",\"demolish\",\"demolished\"],\"demolition\", inplace = True)\n",
        "df_test[\"keyword\"].replace([\"derail\",\"derailment\",\"derailed\"],\"derail\", inplace = True)\n",
        "df_test[\"keyword\"].replace([\"deluge\",\"deluged\"],\"deluge\", inplace = True)\n",
        "df_test[\"keyword\"].replace([\"destruction\",\"destroy\",\"destroyed\"],\"destruction\", inplace = True)\n",
        "df_test[\"keyword\"].replace([\"desolation\",\"desolate\"],\"desolation\", inplace = True)\n",
        "df_test[\"keyword\"].replace([\"detonation\",\"detonate\"],\"detonation\", inplace = True)\n",
        "df_test[\"keyword\"].replace([\"devastation\",\"devastated\"],\"devastation\", inplace = True)\n",
        "df_test[\"keyword\"].replace([\"drown\",\"drowned\",\"drowning\"],\"drown\", inplace = True)\n",
        "df_test[\"keyword\"].replace([\"electrocute\",\"electrocuted\"],\"electrocute\", inplace = True)\n",
        "df_test[\"keyword\"].replace([\"emergency\",\"emergency_plan\",\"emergency_services\"],\"emergency\", inplace = True)\n",
        "df_test[\"keyword\"].replace([\"evacuation\",\"evacuated\",\"evacuate\"],\"evacuation\", inplace = True)\n",
        "df_test[\"keyword\"].replace([\"explosion\",\"exploded\",\"explode\"],\"explosion\", inplace = True)\n",
        "df_test[\"keyword\"].replace([\"fatal\",\"fatalities\", \"fatality\"],\"fatal\", inplace = True)\n",
        "df_test[\"keyword\"].replace([\"floods\",\"flood\",\"flooding\"],\"flood\", inplace = True)\n",
        "df_test[\"keyword\"].replace([\"hail\",\"hailstorm\"],\"hail\", inplace = True)\n",
        "df_test[\"keyword\"].replace([\"hazard\",\"hazardous\"],\"hazard\", inplace = True)\n",
        "df_test[\"keyword\"].replace([\"hijack\",\"hijacker\",\"hijacking\"],\"hijack\", inplace = True)\n",
        "df_test[\"keyword\"].replace([\"hostage\",\"hostages\"],\"hostage\", inplace = True)\n",
        "df_test[\"keyword\"].replace([\"injury\",\"injuries\",\"injured\"],\"injury\", inplace = True)\n",
        "df_test[\"keyword\"].replace([\"inundation\",\"inundated\"],\"inundation\", inplace = True)\n",
        "df_test[\"keyword\"].replace([\"obliteration\",\"obliterated\", \"obliterate\"],\"obliteration\", inplace = True)\n",
        "df_test[\"keyword\"].replace([\"panic\",\"panicking\"],\"panic\", inplace = True)\n",
        "df_test[\"keyword\"].replace([\"quarantine\",\"quarantined\"],\"quarantine\", inplace = True)\n",
        "df_test[\"keyword\"].replace([\"rescue\",\"rescued\",\"rescuers\"],\"rescue\", inplace = True)\n",
        "df_test[\"keyword\"].replace([\"riot\",\"rioting\"],\"riot\", inplace = True)\n",
        "df_test[\"keyword\"].replace([\"screams\",\"screaming\",\"screamed\"],\"scream\", inplace = True)\n",
        "df_test[\"keyword\"].replace([\"siren\",\"sirens\"],\"siren\", inplace = True)\n",
        "df_test[\"keyword\"].replace([\"survivors\",\"survive\",\"survived\"],\"survivor\", inplace = True)\n",
        "df_test[\"keyword\"].replace([\"terrosrism\",\"terrorist\"],\"terrorist\", inplace = True)\n",
        "df_test[\"keyword\"].replace([\"trauma\",\"traumatised\"],\"trauma\", inplace = True)\n",
        "df_test[\"keyword\"].replace([\"weapon\",\"weapons\"],\"weapon\", inplace = True)\n",
        "df_test[\"keyword\"].replace([\"wounded\",\"wounds\"],\"wounds\", inplace = True)\n",
        "df_test[\"keyword\"].replace([\"wreck\",\"wreckage\",\"wrecked\"],\"wreckage\", inplace = True)"
      ],
      "execution_count": null,
      "outputs": []
    },
    {
      "cell_type": "code",
      "metadata": {
        "id": "XJo5-Fj-uiXn"
      },
      "source": [
        "df_test_pourcentage =df_train[df_train['keyword'].str.contains(\"%20\")]"
      ],
      "execution_count": null,
      "outputs": []
    },
    {
      "cell_type": "code",
      "metadata": {
        "id": "tHXHoRa0umBv"
      },
      "source": [
        "df_test_pourcentage[\"keyword\"].value_counts()"
      ],
      "execution_count": null,
      "outputs": []
    },
    {
      "cell_type": "code",
      "metadata": {
        "id": "PWEsnwGVKqSr"
      },
      "source": [
        "import pandas as pd\n",
        "from sklearn.feature_extraction.text import CountVectorizer,TfidfVectorizer\n",
        "from sklearn.base import TransformerMixin\n",
        "from sklearn.pipeline import Pipeline\n",
        "import spacy\n",
        "from sklearn.base import TransformerMixin\n",
        "from sklearn.pipeline import Pipeline\n",
        "import string\n",
        "from spacy.lang.en.stop_words import STOP_WORDS\n",
        "from spacy.lang.en import English\n",
        "from sklearn.model_selection import train_test_split\n",
        "from sklearn.linear_model import LogisticRegression, LogisticRegressionCV\n",
        "from sklearn.metrics import confusion_matrix, accuracy_score, precision_score, recall_score, f1_score\n"
      ],
      "execution_count": null,
      "outputs": []
    },
    {
      "cell_type": "code",
      "metadata": {
        "id": "la5GVUdjMksT"
      },
      "source": [
        "stopwords = spacy.lang.en.stop_words.STOP_WORDS\n",
        "punctuationmarks = string.punctuation"
      ],
      "execution_count": null,
      "outputs": []
    },
    {
      "cell_type": "code",
      "metadata": {
        "id": "xAby5vEFMUob"
      },
      "source": [
        "sp = spacy.load('en_core_web_sm')\n",
        "\n",
        "def tokenize_function(tweet):\n",
        "    tokens = sp(tweet)\n",
        "    tokens = [ i.lemma_.lower().strip() if i.lemma_ != \"-PRON-\" else i.lower_ for i in tokens ]\n",
        "    tokens = [ i for i in tokens if i not in stopwords and i not in punctuationmarks ]\n",
        "    return tokens"
      ],
      "execution_count": null,
      "outputs": []
    },
    {
      "cell_type": "code",
      "metadata": {
        "id": "YkOT97E9GqRd"
      },
      "source": [
        "df_train[\"keyword_text\"] = df_train['keyword'] + ' ' + df_train['text'] \n",
        "df_train[\"keyword_text\"] = df_train[\"keyword_text\"].astype(str)\n",
        "df_test[\"keyword_text\"] = df_test['keyword'] + ' ' + df_test['text'] \n",
        "df_test[\"keyword_text\"] = df_test[\"keyword_text\"].astype(str)"
      ],
      "execution_count": null,
      "outputs": []
    },
    {
      "cell_type": "code",
      "metadata": {
        "id": "ENf9z1L-M6Qq"
      },
      "source": [
        "X_train = df_train[\"keyword_text\"]\n",
        "y_train = df_train['target']\n",
        "X_test = df_test[\"keyword_text\"]"
      ],
      "execution_count": null,
      "outputs": []
    },
    {
      "cell_type": "code",
      "metadata": {
        "id": "y4lYXnFkMmDE"
      },
      "source": [
        "tfidf_feature_vector = TfidfVectorizer(tokenizer=tokenize_function)"
      ],
      "execution_count": null,
      "outputs": []
    },
    {
      "cell_type": "code",
      "metadata": {
        "id": "_j9qhugpMs6V"
      },
      "source": [
        "classifierCV = LogisticRegressionCV(solver='lbfgs', cv=10, max_iter=10000, random_state=72)"
      ],
      "execution_count": null,
      "outputs": []
    },
    {
      "cell_type": "code",
      "metadata": {
        "id": "rCOP0mjBMvHQ"
      },
      "source": [
        "pipe = Pipeline([('vectorizer', tfidf_feature_vector),\n",
        "                 ('classifier', classifierCV)])"
      ],
      "execution_count": null,
      "outputs": []
    },
    {
      "cell_type": "code",
      "metadata": {
        "id": "TYlttaE_NY1F"
      },
      "source": [
        "pipe.fit(X_train, y_train)"
      ],
      "execution_count": null,
      "outputs": []
    },
    {
      "cell_type": "code",
      "metadata": {
        "id": "bCfl7o5SNHvU"
      },
      "source": [
        "sentiment_pred = pipe.predict(X_test)"
      ],
      "execution_count": null,
      "outputs": []
    },
    {
      "cell_type": "code",
      "metadata": {
        "id": "W90eLqhIN0EQ"
      },
      "source": [
        "train_accuracy_score = accuracy_score(y_train, pipe.predict(X_train))\n",
        "print(\"The training accuracy is\", train_accuracy_score)"
      ],
      "execution_count": null,
      "outputs": []
    },
    {
      "cell_type": "code",
      "metadata": {
        "id": "A6-ta8QdQ3Ml"
      },
      "source": [
        "soumission = pd.DataFrame(sentiment_pred, columns=[\"target\"])"
      ],
      "execution_count": null,
      "outputs": []
    },
    {
      "cell_type": "code",
      "metadata": {
        "id": "fR4kLjVfSh1m"
      },
      "source": [
        "soumission"
      ],
      "execution_count": null,
      "outputs": []
    },
    {
      "cell_type": "code",
      "metadata": {
        "id": "GysrK9pDTd7X"
      },
      "source": [
        "from google.colab import drive\n",
        "drive.mount(\"drive\", force_remount=True)\n"
      ],
      "execution_count": null,
      "outputs": []
    },
    {
      "cell_type": "code",
      "metadata": {
        "id": "zhbWzfM9mpgx"
      },
      "source": [
        "soumissioncsv =soumission.to_csv(\"soumission3_1.csv\")"
      ],
      "execution_count": null,
      "outputs": []
    },
    {
      "cell_type": "code",
      "metadata": {
        "id": "w64rCByhmZfp"
      },
      "source": [
        "!cp soumission3_1.csv \"drive/My Drive/Projet_DM\""
      ],
      "execution_count": null,
      "outputs": []
    }
  ]
}