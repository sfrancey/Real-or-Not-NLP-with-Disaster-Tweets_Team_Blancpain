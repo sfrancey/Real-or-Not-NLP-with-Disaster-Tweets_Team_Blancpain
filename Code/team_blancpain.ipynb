{
  "nbformat": 4,
  "nbformat_minor": 0,
  "metadata": {
    "colab": {
      "name": "team_blancpain.ipynb",
      "provenance": [],
      "collapsed_sections": [
        "FbefT-y0p_a8"
      ],
      "include_colab_link": true
    },
    "kernelspec": {
      "name": "python3",
      "display_name": "Python 3"
    }
  },
  "cells": [
    {
      "cell_type": "markdown",
      "metadata": {
        "id": "view-in-github",
        "colab_type": "text"
      },
      "source": [
        "<a href=\"https://colab.research.google.com/github/sfrancey/Real-or-Not-NLP-with-Disaster-Tweets_Team_Blancpain/blob/main/Code/team_blancpain.ipynb\" target=\"_parent\"><img src=\"https://colab.research.google.com/assets/colab-badge.svg\" alt=\"Open In Colab\"/></a>"
      ]
    },
    {
      "cell_type": "markdown",
      "metadata": {
        "id": "AXzHa0DHmtVT"
      },
      "source": [
        "#DMML TEAM BLANCPAIN\n",
        "\n"
      ]
    },
    {
      "cell_type": "code",
      "metadata": {
        "id": "JRjtY_22nCqP"
      },
      "source": [
        "%matplotlib inline\n",
        "import numpy as np\n",
        "import matplotlib.pyplot as plt\n",
        "from matplotlib import collections  as mc\n",
        "%load_ext autoreload\n",
        "%autoreload 2\n",
        "import pandas as pd \n",
        "import seaborn as sns\n",
        "from sklearn.preprocessing import LabelEncoder, OneHotEncoder\n",
        "sns.set_style(\"white\")"
      ],
      "execution_count": 2,
      "outputs": []
    },
    {
      "cell_type": "markdown",
      "metadata": {
        "id": "FbefT-y0p_a8"
      },
      "source": [
        "##Data Importation##"
      ]
    },
    {
      "cell_type": "code",
      "metadata": {
        "id": "zJ261KjjoGUD"
      },
      "source": [
        "df_train = pd.read_csv('https://raw.githubusercontent.com/sfrancey/Real-or-Not-NLP-with-Disaster-Tweets_Team_Blancpain/main/Data/training_data.csv')\n",
        "\n",
        "df_test = pd.read_csv('https://raw.githubusercontent.com/sfrancey/Real-or-Not-NLP-with-Disaster-Tweets_Team_Blancpain/main/Data/test_data.csv')\n",
        "\n",
        "df_sample = pd.read_csv('https://raw.githubusercontent.com/sfrancey/Real-or-Not-NLP-with-Disaster-Tweets_Team_Blancpain/main/Data/sample_submission.csv')"
      ],
      "execution_count": 3,
      "outputs": []
    },
    {
      "cell_type": "markdown",
      "metadata": {
        "id": "K0dr6-QBNMKL"
      },
      "source": [
        "##Data visualization##"
      ]
    },
    {
      "cell_type": "code",
      "metadata": {
        "id": "-SxdnAJ6oaRU",
        "colab": {
          "base_uri": "https://localhost:8080/",
          "height": 359
        },
        "outputId": "8ad9afa4-9291-4fbc-f5c0-6e8018720c21"
      },
      "source": [
        "df_train.head(10)"
      ],
      "execution_count": 4,
      "outputs": [
        {
          "output_type": "execute_result",
          "data": {
            "text/html": [
              "<div>\n",
              "<style scoped>\n",
              "    .dataframe tbody tr th:only-of-type {\n",
              "        vertical-align: middle;\n",
              "    }\n",
              "\n",
              "    .dataframe tbody tr th {\n",
              "        vertical-align: top;\n",
              "    }\n",
              "\n",
              "    .dataframe thead th {\n",
              "        text-align: right;\n",
              "    }\n",
              "</style>\n",
              "<table border=\"1\" class=\"dataframe\">\n",
              "  <thead>\n",
              "    <tr style=\"text-align: right;\">\n",
              "      <th></th>\n",
              "      <th>id</th>\n",
              "      <th>keyword</th>\n",
              "      <th>location</th>\n",
              "      <th>text</th>\n",
              "      <th>target</th>\n",
              "    </tr>\n",
              "  </thead>\n",
              "  <tbody>\n",
              "    <tr>\n",
              "      <th>0</th>\n",
              "      <td>3738</td>\n",
              "      <td>destroyed</td>\n",
              "      <td>USA</td>\n",
              "      <td>Black Eye 9: A space battle occurred at Star O...</td>\n",
              "      <td>0</td>\n",
              "    </tr>\n",
              "    <tr>\n",
              "      <th>1</th>\n",
              "      <td>853</td>\n",
              "      <td>bioterror</td>\n",
              "      <td>NaN</td>\n",
              "      <td>#world FedEx no longer to transport bioterror ...</td>\n",
              "      <td>0</td>\n",
              "    </tr>\n",
              "    <tr>\n",
              "      <th>2</th>\n",
              "      <td>10540</td>\n",
              "      <td>windstorm</td>\n",
              "      <td>Palm Beach County, FL</td>\n",
              "      <td>Reality Training: Train falls off elevated tra...</td>\n",
              "      <td>1</td>\n",
              "    </tr>\n",
              "    <tr>\n",
              "      <th>3</th>\n",
              "      <td>5988</td>\n",
              "      <td>hazardous</td>\n",
              "      <td>USA</td>\n",
              "      <td>#Taiwan Grace: expect that large rocks trees m...</td>\n",
              "      <td>1</td>\n",
              "    </tr>\n",
              "    <tr>\n",
              "      <th>4</th>\n",
              "      <td>6328</td>\n",
              "      <td>hostage</td>\n",
              "      <td>Australia</td>\n",
              "      <td>New ISIS Video: ISIS Threatens to Behead Croat...</td>\n",
              "      <td>1</td>\n",
              "    </tr>\n",
              "    <tr>\n",
              "      <th>5</th>\n",
              "      <td>6669</td>\n",
              "      <td>landslide</td>\n",
              "      <td>Scotland</td>\n",
              "      <td>FreeBesieged: .MartinMJ22 YouGov Which '#Tory ...</td>\n",
              "      <td>1</td>\n",
              "    </tr>\n",
              "    <tr>\n",
              "      <th>6</th>\n",
              "      <td>9772</td>\n",
              "      <td>trapped</td>\n",
              "      <td>New York City</td>\n",
              "      <td>Billionaires have a plan to free half a billio...</td>\n",
              "      <td>0</td>\n",
              "    </tr>\n",
              "    <tr>\n",
              "      <th>7</th>\n",
              "      <td>10361</td>\n",
              "      <td>weapons</td>\n",
              "      <td>Multinational *****</td>\n",
              "      <td>@JamesMelville Some old testimony of weapons u...</td>\n",
              "      <td>0</td>\n",
              "    </tr>\n",
              "    <tr>\n",
              "      <th>8</th>\n",
              "      <td>1953</td>\n",
              "      <td>burning%20buildings</td>\n",
              "      <td>Los Angeles</td>\n",
              "      <td>Ali you flew planes and ran into burning build...</td>\n",
              "      <td>0</td>\n",
              "    </tr>\n",
              "    <tr>\n",
              "      <th>9</th>\n",
              "      <td>9586</td>\n",
              "      <td>thunder</td>\n",
              "      <td>NaN</td>\n",
              "      <td>The thunder shook my house woke my sister and ...</td>\n",
              "      <td>1</td>\n",
              "    </tr>\n",
              "  </tbody>\n",
              "</table>\n",
              "</div>"
            ],
            "text/plain": [
              "      id  ... target\n",
              "0   3738  ...      0\n",
              "1    853  ...      0\n",
              "2  10540  ...      1\n",
              "3   5988  ...      1\n",
              "4   6328  ...      1\n",
              "5   6669  ...      1\n",
              "6   9772  ...      0\n",
              "7  10361  ...      0\n",
              "8   1953  ...      0\n",
              "9   9586  ...      1\n",
              "\n",
              "[10 rows x 5 columns]"
            ]
          },
          "metadata": {
            "tags": []
          },
          "execution_count": 4
        }
      ]
    },
    {
      "cell_type": "code",
      "metadata": {
        "id": "nqHF4OATodQD",
        "colab": {
          "base_uri": "https://localhost:8080/"
        },
        "outputId": "f787a473-f987-47a7-c88f-d1ab15761b9a"
      },
      "source": [
        "print(\"There are {0} rows and {1} columns in the train dataset.\".format(df_train.shape[0],df_train.shape[1]))\n"
      ],
      "execution_count": 5,
      "outputs": [
        {
          "output_type": "stream",
          "text": [
            "There are 6471 rows and 5 columns in the train dataset.\n"
          ],
          "name": "stdout"
        }
      ]
    },
    {
      "cell_type": "code",
      "metadata": {
        "id": "N-llenpKopx2",
        "colab": {
          "base_uri": "https://localhost:8080/",
          "height": 359
        },
        "outputId": "03b25fc7-89b1-48dc-f08a-dd7f2d37db61"
      },
      "source": [
        "df_test.head(10)"
      ],
      "execution_count": 6,
      "outputs": [
        {
          "output_type": "execute_result",
          "data": {
            "text/html": [
              "<div>\n",
              "<style scoped>\n",
              "    .dataframe tbody tr th:only-of-type {\n",
              "        vertical-align: middle;\n",
              "    }\n",
              "\n",
              "    .dataframe tbody tr th {\n",
              "        vertical-align: top;\n",
              "    }\n",
              "\n",
              "    .dataframe thead th {\n",
              "        text-align: right;\n",
              "    }\n",
              "</style>\n",
              "<table border=\"1\" class=\"dataframe\">\n",
              "  <thead>\n",
              "    <tr style=\"text-align: right;\">\n",
              "      <th></th>\n",
              "      <th>id</th>\n",
              "      <th>keyword</th>\n",
              "      <th>location</th>\n",
              "      <th>text</th>\n",
              "    </tr>\n",
              "  </thead>\n",
              "  <tbody>\n",
              "    <tr>\n",
              "      <th>0</th>\n",
              "      <td>9972</td>\n",
              "      <td>tsunami</td>\n",
              "      <td>NaN</td>\n",
              "      <td>Crptotech tsunami and banks.\\n http://t.co/KHz...</td>\n",
              "    </tr>\n",
              "    <tr>\n",
              "      <th>1</th>\n",
              "      <td>9865</td>\n",
              "      <td>traumatised</td>\n",
              "      <td>Portsmouth, UK</td>\n",
              "      <td>I'm that traumatised that I can't even spell p...</td>\n",
              "    </tr>\n",
              "    <tr>\n",
              "      <th>2</th>\n",
              "      <td>1937</td>\n",
              "      <td>burning%20buildings</td>\n",
              "      <td>NaN</td>\n",
              "      <td>@foxnewsvideo @AIIAmericanGirI @ANHQDC So ... ...</td>\n",
              "    </tr>\n",
              "    <tr>\n",
              "      <th>3</th>\n",
              "      <td>3560</td>\n",
              "      <td>desolate</td>\n",
              "      <td>NaN</td>\n",
              "      <td>Me watching Law &amp;amp; Order (IB: @sauldale305)...</td>\n",
              "    </tr>\n",
              "    <tr>\n",
              "      <th>4</th>\n",
              "      <td>2731</td>\n",
              "      <td>crushed</td>\n",
              "      <td>bahstun/porta reeko</td>\n",
              "      <td>Papi absolutely crushed that ball</td>\n",
              "    </tr>\n",
              "    <tr>\n",
              "      <th>5</th>\n",
              "      <td>10020</td>\n",
              "      <td>twister</td>\n",
              "      <td>NaN</td>\n",
              "      <td>Brain twister let drop up telly structuring ca...</td>\n",
              "    </tr>\n",
              "    <tr>\n",
              "      <th>6</th>\n",
              "      <td>8676</td>\n",
              "      <td>sinkhole</td>\n",
              "      <td>San Diego, CA</td>\n",
              "      <td>RT twit_san_diego 'Possible sinkhole disrupts ...</td>\n",
              "    </tr>\n",
              "    <tr>\n",
              "      <th>7</th>\n",
              "      <td>3131</td>\n",
              "      <td>debris</td>\n",
              "      <td>NaN</td>\n",
              "      <td>Aircraft debris found on island is from MH370 ...</td>\n",
              "    </tr>\n",
              "    <tr>\n",
              "      <th>8</th>\n",
              "      <td>2195</td>\n",
              "      <td>catastrophic</td>\n",
              "      <td>Dublin, Ireland</td>\n",
              "      <td>'Kessler Syndrome' is the name for the catastr...</td>\n",
              "    </tr>\n",
              "    <tr>\n",
              "      <th>9</th>\n",
              "      <td>3484</td>\n",
              "      <td>derailed</td>\n",
              "      <td>DC</td>\n",
              "      <td>So a train derailed and instead of me getting ...</td>\n",
              "    </tr>\n",
              "  </tbody>\n",
              "</table>\n",
              "</div>"
            ],
            "text/plain": [
              "      id  ...                                               text\n",
              "0   9972  ...  Crptotech tsunami and banks.\\n http://t.co/KHz...\n",
              "1   9865  ...  I'm that traumatised that I can't even spell p...\n",
              "2   1937  ...  @foxnewsvideo @AIIAmericanGirI @ANHQDC So ... ...\n",
              "3   3560  ...  Me watching Law &amp; Order (IB: @sauldale305)...\n",
              "4   2731  ...                  Papi absolutely crushed that ball\n",
              "5  10020  ...  Brain twister let drop up telly structuring ca...\n",
              "6   8676  ...  RT twit_san_diego 'Possible sinkhole disrupts ...\n",
              "7   3131  ...  Aircraft debris found on island is from MH370 ...\n",
              "8   2195  ...  'Kessler Syndrome' is the name for the catastr...\n",
              "9   3484  ...  So a train derailed and instead of me getting ...\n",
              "\n",
              "[10 rows x 4 columns]"
            ]
          },
          "metadata": {
            "tags": []
          },
          "execution_count": 6
        }
      ]
    },
    {
      "cell_type": "code",
      "metadata": {
        "id": "lDQGKCzYp3VU",
        "colab": {
          "base_uri": "https://localhost:8080/"
        },
        "outputId": "3177851b-c4c8-422d-a05c-6a470e4141e3"
      },
      "source": [
        "print(\"There are {0} rows and {1} columns in the test dataset.\".format(df_test.shape[0],df_test.shape[1]))\n"
      ],
      "execution_count": 7,
      "outputs": [
        {
          "output_type": "stream",
          "text": [
            "There are 1142 rows and 4 columns in the test dataset.\n"
          ],
          "name": "stdout"
        }
      ]
    },
    {
      "cell_type": "code",
      "metadata": {
        "id": "IM4UytkdMHOP",
        "colab": {
          "base_uri": "https://localhost:8080/"
        },
        "outputId": "644b0bd3-695c-437c-d6ef-19ce940808d3"
      },
      "source": [
        "base_rate = max(len(df_train[df_train[\"target\"] == 0]) / len(df_train), len(df_train[df_train[\"target\"] == 1]) / len(df_train))\n",
        "print(\"The base rate for this problem is :\", base_rate)"
      ],
      "execution_count": 8,
      "outputs": [
        {
          "output_type": "stream",
          "text": [
            "The base rate for this problem is : 0.5719363313243703\n"
          ],
          "name": "stdout"
        }
      ]
    },
    {
      "cell_type": "code",
      "metadata": {
        "id": "gK5iNy9MOIQ-",
        "outputId": "22a3d342-2b64-4bad-d3eb-5c139127406c",
        "colab": {
          "base_uri": "https://localhost:8080/",
          "height": 336
        }
      },
      "source": [
        "# extracting the number of examples of each class\n",
        "Real_len = df_train[df_train['target'] == 1].shape[0]\n",
        "Not_len = df_train[df_train['target'] == 0].shape[0]\n",
        "\n",
        "# bar plot of the 3 classes\n",
        "plt.rcParams['figure.figsize'] = (7, 5)\n",
        "plt.bar(10,Real_len,3, label=\"Real\", color='blue')\n",
        "plt.bar(15,Not_len,3, label=\"Not\", color='red')\n",
        "plt.legend()\n",
        "plt.ylabel('Number of examples')\n",
        "plt.title('Propertion of examples')\n",
        "plt.show()"
      ],
      "execution_count": 9,
      "outputs": [
        {
          "output_type": "display_data",
          "data": {
            "image/png": "[encoded data removed]",
            "text/plain": [
              "<Figure size 504x360 with 1 Axes>"
            ]
          },
          "metadata": {
            "tags": []
          }
        }
      ]
    },
    {
      "cell_type": "markdown",
      "metadata": {
        "id": "KyHwOAcMZt5U"
      },
      "source": [
        "##EDA"
      ]
    },
    {
      "cell_type": "code",
      "metadata": {
        "id": "RPH-zP9IZ-V4"
      },
      "source": [
        "df_train.fillna(\"Unknown\", inplace = True)"
      ],
      "execution_count": 10,
      "outputs": []
    },
    {
      "cell_type": "code",
      "metadata": {
        "id": "Edf36Mrbs5uB"
      },
      "source": [
        "df_train[\"keyword\"].replace([\"bush%20fires\",\"forest%20fires\",\"wild%20fires\",\"hellfire\",\"forest%20fire\"],\"natural_fires\", inplace = True)\n",
        "df_train[\"keyword\"].replace([\"suicide%20bomber\",\"suicide%20bombing\",\"suicide%20bomb\"],\"suicide_bombing\", inplace = True)\n",
        "df_train[\"keyword\"].replace([\"building%20fires\",\"buildings%20burning\",\"buildings%20on%20fire\",\"burning%20buildings\"],\"building_fires\", inplace = True)\n",
        "df_train[\"keyword\"].replace([\"blew%20up\",\"blown%20up\"],\"blew_up\", inplace = True)\n",
        "df_train[\"keyword\"].replace([\"structural%20failure\"],\"structural_failure\", inplace = True)\n",
        "df_train[\"keyword\"].replace([\"natural%20disaster\"],\"natural_disaster\", inplace = True)\n",
        "df_train[\"keyword\"].replace([\"body%20bags\",\"body%20bagging\",\"body%20bag\"],\"body_bags\", inplace = True)\n",
        "df_train[\"keyword\"].replace([\"emergency%20services\"],\"emergency_services\", inplace = True)\n",
        "df_train[\"keyword\"].replace([\"dust%20storm\"],\"dust_storm\", inplace = True)\n",
        "df_train[\"keyword\"].replace([\"heat%20wave\"],\"heat_wave\", inplace = True)\n",
        "df_train[\"keyword\"].replace([\"mass%20murder\",\"mass%20murderer\"],\"mass_murder\", inplace = True)\n",
        "df_train[\"keyword\"].replace([\"war%20zone\"],\"war_zone\", inplace = True)\n",
        "df_train[\"keyword\"].replace([\"emergency%20plan\"],\"emergency_plan\", inplace = True)\n",
        "df_train[\"keyword\"].replace([\"nuclear%20reactor\",\"nuclear%20disaster\"],\"nuclear\", inplace = True)\n",
        "df_train[\"keyword\"].replace([\"airplane%20accident\"],\"airplane_accident\", inplace = True)\n",
        "df_train[\"keyword\"].replace([\"chemical%20emergency\"],\"chemical_emergency\", inplace = True)\n",
        "df_train[\"keyword\"].replace([\"radiation%20emergency\"],\"radiation_emergency\", inplace = True)\n",
        "df_train[\"keyword\"].replace([\"oil%20spill\"],\"oil_spill\", inplace = True)\n",
        "df_train[\"keyword\"].replace([\"loud%20bang\"],\"loud_bang\", inplace = True)\n",
        "df_train[\"keyword\"].replace([\"cliff%20fall\"],\"cliff_fall\", inplace = True)\n",
        "df_train[\"keyword\"].replace([\"bridge%20collapse\"],\"bridge_collapse\", inplace = True)\n",
        "df_train[\"keyword\"].replace([\"fire%20truck\"],\"fire_truck\", inplace = True)\n",
        "df_train[\"keyword\"].replace([\"violent%20storm\"],\"violent_storm\", inplace = True)\n",
        "df_train[\"keyword\"].replace([\"first%20responders\"],\"first_responders\", inplace = True)\n",
        "df_train[\"keyword\"].replace([\"annihilated\",\"annihilation\"],\"annihilation\", inplace = True)\n",
        "df_train[\"keyword\"].replace([\"arson\",\"arsonist\"],\"arson\", inplace = True)\n",
        "df_train[\"keyword\"].replace([\"attacked\",\"attack\"],\"attack\", inplace = True)\n",
        "df_train[\"keyword\"].replace([\"bioterrorist\",\"bioterror\",\"bioterrorism\"],\"bioterrorist\", inplace = True)\n",
        "df_train[\"keyword\"].replace([\"blaze\",\"blazing\"],\"blaze\", inplace = True)\n",
        "df_train[\"keyword\"].replace([\"blood\",\"bloody\"],\"blood\", inplace = True)\n",
        "df_train[\"keyword\"].replace([\"bomb\",\"bombing\",\"bombed\"],\"bomb\", inplace = True)\n",
        "df_train[\"keyword\"].replace([\"burned\",\"burning\"],\"burning\", inplace = True)\n",
        "df_train[\"keyword\"].replace([\"casualty\",\"casualties\"],\"casualty\", inplace = True)\n",
        "df_train[\"keyword\"].replace([\"catastroph\",\"catastrophic\",\"catastrophe\"],\"catastroph\", inplace = True)\n",
        "df_train[\"keyword\"].replace([\"collapse\",\"collapsed\"],\"collapse\", inplace = True)\n",
        "df_train[\"keyword\"].replace([\"collision\",\"collide\"],\"collision\", inplace = True)\n",
        "df_train[\"keyword\"].replace([\"crash\",\"crashed\"],\"crashed\", inplace = True)\n",
        "df_train[\"keyword\"].replace([\"crush\",\"crushed\"],\"crush\", inplace = True)\n",
        "df_train[\"keyword\"].replace([\"death\",\"dead\",\"deaths\"],\"dead\", inplace = True)\n",
        "df_train[\"keyword\"].replace([\"deluge\",\"deluged\"],\"deluge\", inplace = True)\n",
        "df_train[\"keyword\"].replace([\"demolition\",\"demolish\",\"demolished\"],\"demolition\", inplace = True)\n",
        "df_train[\"keyword\"].replace([\"derail\",\"derailment\",\"derailed\"],\"derail\", inplace = True)\n",
        "df_train[\"keyword\"].replace([\"deluge\",\"deluged\"],\"deluge\", inplace = True)\n",
        "df_train[\"keyword\"].replace([\"destruction\",\"destroy\",\"destroyed\"],\"destruction\", inplace = True)\n",
        "df_train[\"keyword\"].replace([\"desolation\",\"desolate\"],\"desolation\", inplace = True)\n",
        "df_train[\"keyword\"].replace([\"detonation\",\"detonate\"],\"detonation\", inplace = True)\n",
        "df_train[\"keyword\"].replace([\"devastation\",\"devastated\"],\"devastation\", inplace = True)\n",
        "df_train[\"keyword\"].replace([\"drown\",\"drowned\",\"drowning\"],\"drown\", inplace = True)\n",
        "df_train[\"keyword\"].replace([\"electrocute\",\"electrocuted\"],\"electrocute\", inplace = True)\n",
        "df_train[\"keyword\"].replace([\"emergency\",\"emergency_plan\",\"emergency_services\"],\"emergency\", inplace = True)\n",
        "df_train[\"keyword\"].replace([\"evacuation\",\"evacuated\",\"evacuate\"],\"evacuation\", inplace = True)\n",
        "df_train[\"keyword\"].replace([\"explosion\",\"exploded\",\"explode\"],\"explosion\", inplace = True)\n",
        "df_train[\"keyword\"].replace([\"fatal\",\"fatalities\", \"fatality\"],\"fatal\", inplace = True)\n",
        "df_train[\"keyword\"].replace([\"flood\",\"flooding\",\"floods\"],\"flood\", inplace = True)\n",
        "df_train[\"keyword\"].replace([\"hail\",\"hailstorm\"],\"hail\", inplace = True)\n",
        "df_train[\"keyword\"].replace([\"hazard\",\"hazardous\"],\"hazard\", inplace = True)\n",
        "df_train[\"keyword\"].replace([\"hijack\",\"hijacker\",\"hijacking\"],\"hijack\", inplace = True)\n",
        "df_train[\"keyword\"].replace([\"hostage\",\"hostages\"],\"hostage\", inplace = True)\n",
        "df_train[\"keyword\"].replace([\"injury\",\"injuries\",\"injured\"],\"injury\", inplace = True)\n",
        "df_train[\"keyword\"].replace([\"inundation\",\"inundated\"],\"inundation\", inplace = True)\n",
        "df_train[\"keyword\"].replace([\"obliteration\",\"obliterated\", \"obliterate\"],\"obliteration\", inplace = True)\n",
        "df_train[\"keyword\"].replace([\"panic\",\"panicking\"],\"panic\", inplace = True)\n",
        "df_train[\"keyword\"].replace([\"quarantine\",\"quarantined\"],\"quarantine\", inplace = True)\n",
        "df_train[\"keyword\"].replace([\"rescue\",\"rescued\",\"rescuers\"],\"rescue\", inplace = True)\n",
        "df_train[\"keyword\"].replace([\"riot\",\"rioting\"],\"riot\", inplace = True)\n",
        "df_train[\"keyword\"].replace([\"screams\",\"screaming\",\"screamed\"],\"scream\", inplace = True)\n",
        "df_train[\"keyword\"].replace([\"siren\",\"sirens\"],\"siren\", inplace = True)\n",
        "df_train[\"keyword\"].replace([\"survivors\",\"survive\",\"survived\"],\"survivor\", inplace = True)\n",
        "df_train[\"keyword\"].replace([\"terrorism\",\"terrorist\"],\"terrorist\", inplace = True)\n",
        "df_train[\"keyword\"].replace([\"trauma\",\"traumatised\"],\"trauma\", inplace = True)\n",
        "df_train[\"keyword\"].replace([\"weapon\",\"weapons\"],\"weapon\", inplace = True)\n",
        "df_train[\"keyword\"].replace([\"wounded\",\"wounds\"],\"wounds\", inplace = True)\n",
        "df_train[\"keyword\"].replace([\"wreck\",\"wreckage\",\"wrecked\"],\"wreckage\", inplace = True)"
      ],
      "execution_count": 11,
      "outputs": []
    },
    {
      "cell_type": "code",
      "metadata": {
        "id": "MkPKcB3Maky4"
      },
      "source": [
        "df_deluge = pd.DataFrame(df_train[\"keyword\"].value_counts())"
      ],
      "execution_count": 12,
      "outputs": []
    },
    {
      "cell_type": "code",
      "metadata": {
        "id": "SX1pg7O-fkj1",
        "outputId": "5f24864b-b62b-4f86-e59f-7b395b809af7",
        "colab": {
          "base_uri": "https://localhost:8080/"
        }
      },
      "source": [
        "df_deluge.shape"
      ],
      "execution_count": 13,
      "outputs": [
        {
          "output_type": "execute_result",
          "data": {
            "text/plain": [
              "(143, 1)"
            ]
          },
          "metadata": {
            "tags": []
          },
          "execution_count": 13
        }
      ]
    },
    {
      "cell_type": "code",
      "metadata": {
        "id": "Ttt6bBILoV3Y",
        "outputId": "9a28a439-bffd-4ac5-da14-8e7d2268dff0",
        "colab": {
          "base_uri": "https://localhost:8080/"
        }
      },
      "source": [
        "newlist=[]\n",
        "len = df_train.shape[0]\n",
        "i=0\n",
        "while i<len:\n",
        "  category = df_train['keyword'].iloc[i]\n",
        "  if category not in newlist:\n",
        "    newlist.append(category)\n",
        "  i+=1\n",
        "print(sorted(newlist))\n"
      ],
      "execution_count": 14,
      "outputs": [
        {
          "output_type": "stream",
          "text": [
            "['Unknown', 'ablaze', 'accident', 'aftershock', 'airplane_accident', 'ambulance', 'annihilation', 'apocalypse', 'armageddon', 'army', 'arson', 'attack', 'avalanche', 'battle', 'bioterrorist', 'blaze', 'bleeding', 'blew_up', 'blight', 'blizzard', 'blood', 'body_bags', 'bomb', 'bridge_collapse', 'building_fires', 'burning', 'casualty', 'catastroph', 'chemical_emergency', 'cliff_fall', 'collapse', 'collided', 'collision', 'crashed', 'crush', 'curfew', 'cyclone', 'damage', 'danger', 'dead', 'debris', 'deluge', 'demolition', 'derail', 'desolation', 'destruction', 'detonation', 'devastation', 'disaster', 'displaced', 'drought', 'drown', 'dust_storm', 'earthquake', 'electrocute', 'emergency', 'engulfed', 'epicentre', 'evacuation', 'explosion', 'eyewitness', 'famine', 'fatal', 'fear', 'fire', 'fire_truck', 'first_responders', 'flames', 'flattened', 'flood', 'hail', 'harm', 'hazard', 'heat_wave', 'hijack', 'hostage', 'hurricane', 'injury', 'inundation', 'landslide', 'lava', 'lightning', 'loud_bang', 'mass_murder', 'massacre', 'mayhem', 'meltdown', 'military', 'mudslide', 'natural_disaster', 'natural_fires', 'nuclear', 'obliteration', 'oil_spill', 'outbreak', 'pandemonium', 'panic', 'police', 'quarantine', 'radiation_emergency', 'rainstorm', 'razed', 'refugees', 'rescue', 'riot', 'rubble', 'ruin', 'sandstorm', 'scream', 'seismic', 'sinkhole', 'sinking', 'siren', 'smoke', 'snowstorm', 'storm', 'stretcher', 'structural_failure', 'suicide_bombing', 'sunk', 'survivor', 'terrorist', 'threat', 'thunder', 'thunderstorm', 'tornado', 'tragedy', 'trapped', 'trauma', 'trouble', 'tsunami', 'twister', 'typhoon', 'upheaval', 'violent_storm', 'volcano', 'war_zone', 'weapon', 'whirlwind', 'wildfire', 'windstorm', 'wounds', 'wreckage']\n"
          ],
          "name": "stdout"
        }
      ]
    },
    {
      "cell_type": "code",
      "metadata": {
        "id": "qhL5QVkAyW46"
      },
      "source": [
        "liste_nature = ['avalanche' , 'blizzard',   'catastroph', 'cliff_fall',  'cyclone',\"deluge\",'drought', 'dust_storm', 'earthquake', 'engulfed', 'epicentre',  'flood', 'hail', 'heat_wave', 'hurricane',  'inundation', 'landslide', 'lava', 'lightning',  'mudslide', 'natural_disaster', 'natural_fires', \"outbreak\", 'pandemonium',   'rainstorm',   'sandstorm', 'seismic', 'sinkhole',   'snowstorm',  'storm',  'thunder', 'thunderstorm', 'tornado',    'tsunami', 'twister', 'typhoon',  'violent_storm', 'volcano', 'whirlwind', 'wildfire', 'windstorm']"
      ],
      "execution_count": 15,
      "outputs": []
    },
    {
      "cell_type": "code",
      "metadata": {
        "id": "pLDz7Ek729LH",
        "outputId": "b2c247a9-2a70-4b30-8392-250008ae2740",
        "colab": {
          "base_uri": "https://localhost:8080/"
        }
      },
      "source": [
        "liste_not_nature = []\n",
        "for i in newlist : \n",
        "  if i not in liste_nature :\n",
        "    liste_not_nature.append(i)\n",
        "print(sorted(liste_not_nature))"
      ],
      "execution_count": 16,
      "outputs": [
        {
          "output_type": "stream",
          "text": [
            "['Unknown', 'ablaze', 'accident', 'aftershock', 'airplane_accident', 'ambulance', 'annihilation', 'apocalypse', 'armageddon', 'army', 'arson', 'attack', 'battle', 'bioterrorist', 'blaze', 'bleeding', 'blew_up', 'blight', 'blood', 'body_bags', 'bomb', 'bridge_collapse', 'building_fires', 'burning', 'casualty', 'chemical_emergency', 'collapse', 'collided', 'collision', 'crashed', 'crush', 'curfew', 'damage', 'danger', 'dead', 'debris', 'demolition', 'derail', 'desolation', 'destruction', 'detonation', 'devastation', 'disaster', 'displaced', 'drown', 'electrocute', 'emergency', 'evacuation', 'explosion', 'eyewitness', 'famine', 'fatal', 'fear', 'fire', 'fire_truck', 'first_responders', 'flames', 'flattened', 'harm', 'hazard', 'hijack', 'hostage', 'injury', 'loud_bang', 'mass_murder', 'massacre', 'mayhem', 'meltdown', 'military', 'nuclear', 'obliteration', 'oil_spill', 'panic', 'police', 'quarantine', 'radiation_emergency', 'razed', 'refugees', 'rescue', 'riot', 'rubble', 'ruin', 'scream', 'sinking', 'siren', 'smoke', 'stretcher', 'structural_failure', 'suicide_bombing', 'sunk', 'survivor', 'terrorist', 'threat', 'tragedy', 'trapped', 'trauma', 'trouble', 'upheaval', 'war_zone', 'weapon', 'wounds', 'wreckage']\n"
          ],
          "name": "stdout"
        }
      ]
    },
    {
      "cell_type": "code",
      "metadata": {
        "id": "OMa8VV2P4O_e"
      },
      "source": [
        "new_list_not_nature = [  'accident',  'airplane_accident',   'apocalypse', 'armageddon', 'army', 'arson', 'attack', 'battle', 'bioterrorist', 'bomb', 'bridge_collapse', 'building_fires',  'chemical_emergency',  'collided', 'collision', 'crashed',  'curfew',  'demolition', 'derail', 'detonation',    'electrocute', 'explosion',   'fire_truck',   'hijack', 'hostage',   'mass_murder', 'massacre', 'mayhem',  'military', 'nuclear',  'oil_spill',  'radiation_emergency',  'riot',  'structural_failure', 'suicide_bombing',  'terrorist',  'war_zone', 'weapon']"
      ],
      "execution_count": 17,
      "outputs": []
    },
    {
      "cell_type": "code",
      "metadata": {
        "id": "UTHdmcn664wC"
      },
      "source": [
        "#len = df_train.shape[0]\n",
        "#i = 0 \n",
        "#while i < len: \n",
        "#  if str(df_train[\"keyword\"].iloc[i]) in liste_nature : \n",
        "#    df_train[\"target\"].iloc[i] = 1\n",
        "#  elif str(df_train[\"keyword\"].iloc[i]) in new_list_not_nature : \n",
        "#    df_train[\"target\"].iloc[i] = 0\n",
        "#  i +=1\n",
        "#df_train"
      ],
      "execution_count": 18,
      "outputs": []
    },
    {
      "cell_type": "code",
      "metadata": {
        "id": "2iGnw5MmbQJQ",
        "outputId": "cb172ad2-43fc-4c61-9acf-390aa8d7aebf",
        "colab": {
          "base_uri": "https://localhost:8080/",
          "height": 1000
        }
      },
      "source": [
        "df_deluge.sample(50)"
      ],
      "execution_count": 19,
      "outputs": [
        {
          "output_type": "execute_result",
          "data": {
            "text/html": [
              "<div>\n",
              "<style scoped>\n",
              "    .dataframe tbody tr th:only-of-type {\n",
              "        vertical-align: middle;\n",
              "    }\n",
              "\n",
              "    .dataframe tbody tr th {\n",
              "        vertical-align: top;\n",
              "    }\n",
              "\n",
              "    .dataframe thead th {\n",
              "        text-align: right;\n",
              "    }\n",
              "</style>\n",
              "<table border=\"1\" class=\"dataframe\">\n",
              "  <thead>\n",
              "    <tr style=\"text-align: right;\">\n",
              "      <th></th>\n",
              "      <th>keyword</th>\n",
              "    </tr>\n",
              "  </thead>\n",
              "  <tbody>\n",
              "    <tr>\n",
              "      <th>riot</th>\n",
              "      <td>55</td>\n",
              "    </tr>\n",
              "    <tr>\n",
              "      <th>battle</th>\n",
              "      <td>21</td>\n",
              "    </tr>\n",
              "    <tr>\n",
              "      <th>sinking</th>\n",
              "      <td>36</td>\n",
              "    </tr>\n",
              "    <tr>\n",
              "      <th>crashed</th>\n",
              "      <td>57</td>\n",
              "    </tr>\n",
              "    <tr>\n",
              "      <th>twister</th>\n",
              "      <td>35</td>\n",
              "    </tr>\n",
              "    <tr>\n",
              "      <th>upheaval</th>\n",
              "      <td>32</td>\n",
              "    </tr>\n",
              "    <tr>\n",
              "      <th>cliff_fall</th>\n",
              "      <td>28</td>\n",
              "    </tr>\n",
              "    <tr>\n",
              "      <th>armageddon</th>\n",
              "      <td>34</td>\n",
              "    </tr>\n",
              "    <tr>\n",
              "      <th>heat_wave</th>\n",
              "      <td>32</td>\n",
              "    </tr>\n",
              "    <tr>\n",
              "      <th>loud_bang</th>\n",
              "      <td>29</td>\n",
              "    </tr>\n",
              "    <tr>\n",
              "      <th>eyewitness</th>\n",
              "      <td>27</td>\n",
              "    </tr>\n",
              "    <tr>\n",
              "      <th>fear</th>\n",
              "      <td>35</td>\n",
              "    </tr>\n",
              "    <tr>\n",
              "      <th>deluge</th>\n",
              "      <td>61</td>\n",
              "    </tr>\n",
              "    <tr>\n",
              "      <th>siren</th>\n",
              "      <td>60</td>\n",
              "    </tr>\n",
              "    <tr>\n",
              "      <th>refugees</th>\n",
              "      <td>30</td>\n",
              "    </tr>\n",
              "    <tr>\n",
              "      <th>sandstorm</th>\n",
              "      <td>32</td>\n",
              "    </tr>\n",
              "    <tr>\n",
              "      <th>first_responders</th>\n",
              "      <td>22</td>\n",
              "    </tr>\n",
              "    <tr>\n",
              "      <th>injury</th>\n",
              "      <td>91</td>\n",
              "    </tr>\n",
              "    <tr>\n",
              "      <th>earthquake</th>\n",
              "      <td>38</td>\n",
              "    </tr>\n",
              "    <tr>\n",
              "      <th>curfew</th>\n",
              "      <td>32</td>\n",
              "    </tr>\n",
              "    <tr>\n",
              "      <th>terrorist</th>\n",
              "      <td>54</td>\n",
              "    </tr>\n",
              "    <tr>\n",
              "      <th>hazard</th>\n",
              "      <td>60</td>\n",
              "    </tr>\n",
              "    <tr>\n",
              "      <th>derail</th>\n",
              "      <td>94</td>\n",
              "    </tr>\n",
              "    <tr>\n",
              "      <th>explosion</th>\n",
              "      <td>85</td>\n",
              "    </tr>\n",
              "    <tr>\n",
              "      <th>famine</th>\n",
              "      <td>27</td>\n",
              "    </tr>\n",
              "    <tr>\n",
              "      <th>bioterrorist</th>\n",
              "      <td>55</td>\n",
              "    </tr>\n",
              "    <tr>\n",
              "      <th>drown</th>\n",
              "      <td>89</td>\n",
              "    </tr>\n",
              "    <tr>\n",
              "      <th>tornado</th>\n",
              "      <td>28</td>\n",
              "    </tr>\n",
              "    <tr>\n",
              "      <th>ablaze</th>\n",
              "      <td>33</td>\n",
              "    </tr>\n",
              "    <tr>\n",
              "      <th>mayhem</th>\n",
              "      <td>29</td>\n",
              "    </tr>\n",
              "    <tr>\n",
              "      <th>collided</th>\n",
              "      <td>36</td>\n",
              "    </tr>\n",
              "    <tr>\n",
              "      <th>burning</th>\n",
              "      <td>59</td>\n",
              "    </tr>\n",
              "    <tr>\n",
              "      <th>violent_storm</th>\n",
              "      <td>26</td>\n",
              "    </tr>\n",
              "    <tr>\n",
              "      <th>blood</th>\n",
              "      <td>55</td>\n",
              "    </tr>\n",
              "    <tr>\n",
              "      <th>crush</th>\n",
              "      <td>59</td>\n",
              "    </tr>\n",
              "    <tr>\n",
              "      <th>annihilation</th>\n",
              "      <td>51</td>\n",
              "    </tr>\n",
              "    <tr>\n",
              "      <th>whirlwind</th>\n",
              "      <td>32</td>\n",
              "    </tr>\n",
              "    <tr>\n",
              "      <th>building_fires</th>\n",
              "      <td>95</td>\n",
              "    </tr>\n",
              "    <tr>\n",
              "      <th>bridge_collapse</th>\n",
              "      <td>27</td>\n",
              "    </tr>\n",
              "    <tr>\n",
              "      <th>blight</th>\n",
              "      <td>28</td>\n",
              "    </tr>\n",
              "    <tr>\n",
              "      <th>danger</th>\n",
              "      <td>28</td>\n",
              "    </tr>\n",
              "    <tr>\n",
              "      <th>sinkhole</th>\n",
              "      <td>34</td>\n",
              "    </tr>\n",
              "    <tr>\n",
              "      <th>landslide</th>\n",
              "      <td>30</td>\n",
              "    </tr>\n",
              "    <tr>\n",
              "      <th>fire_truck</th>\n",
              "      <td>27</td>\n",
              "    </tr>\n",
              "    <tr>\n",
              "      <th>emergency</th>\n",
              "      <td>88</td>\n",
              "    </tr>\n",
              "    <tr>\n",
              "      <th>hail</th>\n",
              "      <td>59</td>\n",
              "    </tr>\n",
              "    <tr>\n",
              "      <th>drought</th>\n",
              "      <td>29</td>\n",
              "    </tr>\n",
              "    <tr>\n",
              "      <th>natural_disaster</th>\n",
              "      <td>26</td>\n",
              "    </tr>\n",
              "    <tr>\n",
              "      <th>Unknown</th>\n",
              "      <td>55</td>\n",
              "    </tr>\n",
              "    <tr>\n",
              "      <th>wreckage</th>\n",
              "      <td>98</td>\n",
              "    </tr>\n",
              "  </tbody>\n",
              "</table>\n",
              "</div>"
            ],
            "text/plain": [
              "                  keyword\n",
              "riot                   55\n",
              "battle                 21\n",
              "sinking                36\n",
              "crashed                57\n",
              "twister                35\n",
              "upheaval               32\n",
              "cliff_fall             28\n",
              "armageddon             34\n",
              "heat_wave              32\n",
              "loud_bang              29\n",
              "eyewitness             27\n",
              "fear                   35\n",
              "deluge                 61\n",
              "siren                  60\n",
              "refugees               30\n",
              "sandstorm              32\n",
              "first_responders       22\n",
              "injury                 91\n",
              "earthquake             38\n",
              "curfew                 32\n",
              "terrorist              54\n",
              "hazard                 60\n",
              "derail                 94\n",
              "explosion              85\n",
              "famine                 27\n",
              "bioterrorist           55\n",
              "drown                  89\n",
              "tornado                28\n",
              "ablaze                 33\n",
              "mayhem                 29\n",
              "collided               36\n",
              "burning                59\n",
              "violent_storm          26\n",
              "blood                  55\n",
              "crush                  59\n",
              "annihilation           51\n",
              "whirlwind              32\n",
              "building_fires         95\n",
              "bridge_collapse        27\n",
              "blight                 28\n",
              "danger                 28\n",
              "sinkhole               34\n",
              "landslide              30\n",
              "fire_truck             27\n",
              "emergency              88\n",
              "hail                   59\n",
              "drought                29\n",
              "natural_disaster       26\n",
              "Unknown                55\n",
              "wreckage               98"
            ]
          },
          "metadata": {
            "tags": []
          },
          "execution_count": 19
        }
      ]
    },
    {
      "cell_type": "code",
      "metadata": {
        "id": "-_NKkfyEt3qR"
      },
      "source": [
        "df_train_pourcentage =df_train[df_train['keyword'].str.contains(\"%20\")]"
      ],
      "execution_count": 20,
      "outputs": []
    },
    {
      "cell_type": "code",
      "metadata": {
        "id": "uQVsiRKLuAjK",
        "outputId": "56fc54c7-9c72-4eaf-e81b-47e2c4c4eeae",
        "colab": {
          "base_uri": "https://localhost:8080/"
        }
      },
      "source": [
        "df_train_pourcentage[\"keyword\"].value_counts()"
      ],
      "execution_count": 21,
      "outputs": [
        {
          "output_type": "execute_result",
          "data": {
            "text/plain": [
              "Series([], Name: keyword, dtype: int64)"
            ]
          },
          "metadata": {
            "tags": []
          },
          "execution_count": 21
        }
      ]
    },
    {
      "cell_type": "code",
      "metadata": {
        "id": "0J2cf3GPuNX7"
      },
      "source": [
        "df_test[\"keyword\"].replace([\"bush%20fires\",\"forest%20fires\",\"wild%20fires\",\"hellfire\",\"forest%20fire\"],\"natural_fires\", inplace = True)\n",
        "df_test[\"keyword\"].replace([\"suicide%20bomber\",\"suicide%20bombing\",\"suicide%20bomb\"],\"suicide_bombing\", inplace = True)\n",
        "df_test[\"keyword\"].replace([\"building%20fires\",\"buildings%20burning\",\"buildings%20on%20fire\",\"burning%20buildings\"],\"building_fires\", inplace = True)\n",
        "df_test[\"keyword\"].replace([\"blew%20up\",\"blown%20up\"],\"blew_up\", inplace = True)\n",
        "df_test[\"keyword\"].replace([\"structural%20failure\"],\"structural_failure\", inplace = True)\n",
        "df_test[\"keyword\"].replace([\"natural%20disaster\"],\"natural_disaster\", inplace = True)\n",
        "df_test[\"keyword\"].replace([\"body%20bags\",\"body%20bagging\",\"body%20bag\"],\"body_bags\", inplace = True)\n",
        "df_test[\"keyword\"].replace([\"emergency%20services\"],\"emergency_services\", inplace = True)\n",
        "df_test[\"keyword\"].replace([\"dust%20storm\"],\"dust_storm\", inplace = True)\n",
        "df_test[\"keyword\"].replace([\"heat%20wave\"],\"heat_wave\", inplace = True)\n",
        "df_test[\"keyword\"].replace([\"mass%20murder\",\"mass%20murderer\"],\"mass_murder\", inplace = True)\n",
        "df_test[\"keyword\"].replace([\"war%20zone\"],\"war_zone\", inplace = True)\n",
        "df_test[\"keyword\"].replace([\"emergency%20plan\"],\"emergency_plan\", inplace = True)\n",
        "df_test[\"keyword\"].replace([\"nuclear%20reactor\",\"nuclear%20disaster\"],\"nuclear\", inplace = True)\n",
        "df_test[\"keyword\"].replace([\"airplane%20accident\"],\"airplane_accident\", inplace = True)\n",
        "df_test[\"keyword\"].replace([\"chemical%20emergency\"],\"chemical_emergency\", inplace = True)\n",
        "df_test[\"keyword\"].replace([\"radiation%20emergency\"],\"radiation_emergency\", inplace = True)\n",
        "df_test[\"keyword\"].replace([\"oil%20spill\"],\"oil_spill\", inplace = True)\n",
        "df_test[\"keyword\"].replace([\"loud%20bang\"],\"loud_bang\", inplace = True)\n",
        "df_test[\"keyword\"].replace([\"cliff%20fall\"],\"cliff_fall\", inplace = True)\n",
        "df_test[\"keyword\"].replace([\"bridge%20collapse\"],\"bridge_collapse\", inplace = True)\n",
        "df_test[\"keyword\"].replace([\"fire%20truck\"],\"fire_truck\", inplace = True)\n",
        "df_test[\"keyword\"].replace([\"violent%20storm\"],\"violent_storm\", inplace = True)\n",
        "df_test[\"keyword\"].replace([\"first%20responders\"],\"first_responders\", inplace = True)\n",
        "df_test[\"keyword\"].replace([\"annihilated\",\"annihilation\"],\"annihilation\", inplace = True)\n",
        "df_test[\"keyword\"].replace([\"arson\",\"arsonist\"],\"arson\", inplace = True)\n",
        "df_test[\"keyword\"].replace([\"attacked\",\"attack\"],\"attack\", inplace = True)\n",
        "df_test[\"keyword\"].replace([\"bioterrorist\",\"bioterror\",\"bioterrorism\"],\"bioterrorist\", inplace = True)\n",
        "df_test[\"keyword\"].replace([\"blaze\",\"blazing\"],\"blaze\", inplace = True)\n",
        "df_test[\"keyword\"].replace([\"blood\",\"bloody\"],\"blood\", inplace = True)\n",
        "df_test[\"keyword\"].replace([\"bomb\",\"bombing\",\"bombed\"],\"bomb\", inplace = True)\n",
        "df_test[\"keyword\"].replace([\"burned\",\"burning\"],\"burning\", inplace = True)\n",
        "df_test[\"keyword\"].replace([\"casualty\",\"casualties\"],\"casualty\", inplace = True)\n",
        "df_test[\"keyword\"].replace([\"catastroph\",\"catastrophic\",\"catastrophe\"],\"catastroph\", inplace = True)\n",
        "df_test[\"keyword\"].replace([\"collapse\",\"collapsed\"],\"collapse\", inplace = True)\n",
        "df_test[\"keyword\"].replace([\"collision\",\"collide\"],\"collision\", inplace = True)\n",
        "df_test[\"keyword\"].replace([\"crash\",\"crashed\"],\"crashed\", inplace = True)\n",
        "df_test[\"keyword\"].replace([\"crush\",\"crushed\"],\"crush\", inplace = True)\n",
        "df_test[\"keyword\"].replace([\"death\",\"dead\",\"deaths\"],\"dead\", inplace = True)\n",
        "df_test[\"keyword\"].replace([\"deluge\",\"deluged\"],\"deluge\", inplace = True)\n",
        "df_test[\"keyword\"].replace([\"demolition\",\"demolish\",\"demolished\"],\"demolition\", inplace = True)\n",
        "df_test[\"keyword\"].replace([\"derail\",\"derailment\",\"derailed\"],\"derail\", inplace = True)\n",
        "df_test[\"keyword\"].replace([\"deluge\",\"deluged\"],\"deluge\", inplace = True)\n",
        "df_test[\"keyword\"].replace([\"destruction\",\"destroy\",\"destroyed\"],\"destruction\", inplace = True)\n",
        "df_test[\"keyword\"].replace([\"desolation\",\"desolate\"],\"desolation\", inplace = True)\n",
        "df_test[\"keyword\"].replace([\"detonation\",\"detonate\"],\"detonation\", inplace = True)\n",
        "df_test[\"keyword\"].replace([\"devastation\",\"devastated\"],\"devastation\", inplace = True)\n",
        "df_test[\"keyword\"].replace([\"drown\",\"drowned\",\"drowning\"],\"drown\", inplace = True)\n",
        "df_test[\"keyword\"].replace([\"electrocute\",\"electrocuted\"],\"electrocute\", inplace = True)\n",
        "df_test[\"keyword\"].replace([\"emergency\",\"emergency_plan\",\"emergency_services\"],\"emergency\", inplace = True)\n",
        "df_test[\"keyword\"].replace([\"evacuation\",\"evacuated\",\"evacuate\"],\"evacuation\", inplace = True)\n",
        "df_test[\"keyword\"].replace([\"explosion\",\"exploded\",\"explode\"],\"explosion\", inplace = True)\n",
        "df_test[\"keyword\"].replace([\"fatal\",\"fatalities\", \"fatality\"],\"fatal\", inplace = True)\n",
        "df_test[\"keyword\"].replace([\"floods\",\"flood\",\"flooding\"],\"flood\", inplace = True)\n",
        "df_test[\"keyword\"].replace([\"hail\",\"hailstorm\"],\"hail\", inplace = True)\n",
        "df_test[\"keyword\"].replace([\"hazard\",\"hazardous\"],\"hazard\", inplace = True)\n",
        "df_test[\"keyword\"].replace([\"hijack\",\"hijacker\",\"hijacking\"],\"hijack\", inplace = True)\n",
        "df_test[\"keyword\"].replace([\"hostage\",\"hostages\"],\"hostage\", inplace = True)\n",
        "df_test[\"keyword\"].replace([\"injury\",\"injuries\",\"injured\"],\"injury\", inplace = True)\n",
        "df_test[\"keyword\"].replace([\"inundation\",\"inundated\"],\"inundation\", inplace = True)\n",
        "df_test[\"keyword\"].replace([\"obliteration\",\"obliterated\", \"obliterate\"],\"obliteration\", inplace = True)\n",
        "df_test[\"keyword\"].replace([\"panic\",\"panicking\"],\"panic\", inplace = True)\n",
        "df_test[\"keyword\"].replace([\"quarantine\",\"quarantined\"],\"quarantine\", inplace = True)\n",
        "df_test[\"keyword\"].replace([\"rescue\",\"rescued\",\"rescuers\"],\"rescue\", inplace = True)\n",
        "df_test[\"keyword\"].replace([\"riot\",\"rioting\"],\"riot\", inplace = True)\n",
        "df_test[\"keyword\"].replace([\"screams\",\"screaming\",\"screamed\"],\"scream\", inplace = True)\n",
        "df_test[\"keyword\"].replace([\"siren\",\"sirens\"],\"siren\", inplace = True)\n",
        "df_test[\"keyword\"].replace([\"survivors\",\"survive\",\"survived\"],\"survivor\", inplace = True)\n",
        "df_test[\"keyword\"].replace([\"terrosrism\",\"terrorist\"],\"terrorist\", inplace = True)\n",
        "df_test[\"keyword\"].replace([\"trauma\",\"traumatised\"],\"trauma\", inplace = True)\n",
        "df_test[\"keyword\"].replace([\"weapon\",\"weapons\"],\"weapon\", inplace = True)\n",
        "df_test[\"keyword\"].replace([\"wounded\",\"wounds\"],\"wounds\", inplace = True)\n",
        "df_test[\"keyword\"].replace([\"wreck\",\"wreckage\",\"wrecked\"],\"wreckage\", inplace = True)"
      ],
      "execution_count": 22,
      "outputs": []
    },
    {
      "cell_type": "code",
      "metadata": {
        "id": "XJo5-Fj-uiXn"
      },
      "source": [
        "df_test_pourcentage =df_train[df_train['keyword'].str.contains(\"%20\")]"
      ],
      "execution_count": 23,
      "outputs": []
    },
    {
      "cell_type": "code",
      "metadata": {
        "id": "tHXHoRa0umBv",
        "outputId": "07ed6ee6-5c3f-480e-9dd4-8273e241fc7f",
        "colab": {
          "base_uri": "https://localhost:8080/"
        }
      },
      "source": [
        "df_test_pourcentage[\"keyword\"].value_counts()"
      ],
      "execution_count": 24,
      "outputs": [
        {
          "output_type": "execute_result",
          "data": {
            "text/plain": [
              "Series([], Name: keyword, dtype: int64)"
            ]
          },
          "metadata": {
            "tags": []
          },
          "execution_count": 24
        }
      ]
    },
    {
      "cell_type": "code",
      "metadata": {
        "id": "PWEsnwGVKqSr"
      },
      "source": [
        "import pandas as pd\n",
        "from sklearn.feature_extraction.text import CountVectorizer,TfidfVectorizer\n",
        "from sklearn.base import TransformerMixin\n",
        "from sklearn.pipeline import Pipeline\n",
        "import spacy\n",
        "from sklearn.base import TransformerMixin\n",
        "from sklearn.pipeline import Pipeline\n",
        "import string\n",
        "from spacy.lang.en.stop_words import STOP_WORDS\n",
        "from spacy.lang.en import English\n",
        "from sklearn.model_selection import train_test_split\n",
        "from sklearn.linear_model import LogisticRegression, LogisticRegressionCV\n",
        "from sklearn.metrics import confusion_matrix, accuracy_score, precision_score, recall_score, f1_score\n"
      ],
      "execution_count": 25,
      "outputs": []
    },
    {
      "cell_type": "code",
      "metadata": {
        "id": "la5GVUdjMksT"
      },
      "source": [
        "stopwords = spacy.lang.en.stop_words.STOP_WORDS\n",
        "punctuationmarks = string.punctuation"
      ],
      "execution_count": 26,
      "outputs": []
    },
    {
      "cell_type": "code",
      "metadata": {
        "id": "xAby5vEFMUob"
      },
      "source": [
        "sp = spacy.load('en_core_web_sm')\n",
        "\n",
        "def tokenize_function(tweet):\n",
        "    tokens = sp(tweet)\n",
        "    tokens = [ i.lemma_.lower().strip() if i.lemma_ != \"-PRON-\" else i.lower_ for i in tokens ]\n",
        "    tokens = [ i for i in tokens if i not in stopwords and i not in punctuationmarks ]\n",
        "    return tokens"
      ],
      "execution_count": 27,
      "outputs": []
    },
    {
      "cell_type": "code",
      "metadata": {
        "id": "YkOT97E9GqRd"
      },
      "source": [
        "df_train[\"keyword_text\"] = df_train['keyword'] + ' ' + df_train['text'] \n",
        "df_train[\"keyword_text\"] = df_train[\"keyword_text\"].astype(str)\n",
        "df_test[\"keyword_text\"] = df_test['keyword'] + ' ' + df_test['text'] \n",
        "df_test[\"keyword_text\"] = df_test[\"keyword_text\"].astype(str)"
      ],
      "execution_count": 28,
      "outputs": []
    },
    {
      "cell_type": "code",
      "metadata": {
        "id": "ENf9z1L-M6Qq"
      },
      "source": [
        "X_train = df_train[\"keyword_text\"]\n",
        "y_train = df_train['target']\n",
        "X_test = df_test[\"keyword_text\"]"
      ],
      "execution_count": 29,
      "outputs": []
    },
    {
      "cell_type": "code",
      "metadata": {
        "id": "y4lYXnFkMmDE"
      },
      "source": [
        "tfidf_feature_vector = TfidfVectorizer(tokenizer=tokenize_function)"
      ],
      "execution_count": 30,
      "outputs": []
    },
    {
      "cell_type": "code",
      "metadata": {
        "id": "_j9qhugpMs6V"
      },
      "source": [
        "classifierCV = LogisticRegressionCV(solver='lbfgs', cv=10, max_iter=10000, random_state=72)"
      ],
      "execution_count": 31,
      "outputs": []
    },
    {
      "cell_type": "code",
      "metadata": {
        "id": "rCOP0mjBMvHQ"
      },
      "source": [
        "pipe = Pipeline([('vectorizer', tfidf_feature_vector),\n",
        "                 ('classifier', classifierCV)])"
      ],
      "execution_count": 32,
      "outputs": []
    },
    {
      "cell_type": "code",
      "metadata": {
        "id": "TYlttaE_NY1F",
        "outputId": "04e7ac96-58ca-46df-ec89-3a174d503812",
        "colab": {
          "base_uri": "https://localhost:8080/"
        }
      },
      "source": [
        "pipe.fit(X_train, y_train)"
      ],
      "execution_count": 33,
      "outputs": [
        {
          "output_type": "execute_result",
          "data": {
            "text/plain": [
              "Pipeline(memory=None,\n",
              "         steps=[('vectorizer',\n",
              "                 TfidfVectorizer(analyzer='word', binary=False,\n",
              "                                 decode_error='strict',\n",
              "                                 dtype=<class 'numpy.float64'>,\n",
              "                                 encoding='utf-8', input='content',\n",
              "                                 lowercase=True, max_df=1.0, max_features=None,\n",
              "                                 min_df=1, ngram_range=(1, 1), norm='l2',\n",
              "                                 preprocessor=None, smooth_idf=True,\n",
              "                                 stop_words=None, strip_accents=None,\n",
              "                                 sublinear_tf=False,\n",
              "                                 token_patt...\n",
              "                                 tokenizer=<function tokenize_function at 0x7f3231c0d158>,\n",
              "                                 use_idf=True, vocabulary=None)),\n",
              "                ('classifier',\n",
              "                 LogisticRegressionCV(Cs=10, class_weight=None, cv=10,\n",
              "                                      dual=False, fit_intercept=True,\n",
              "                                      intercept_scaling=1.0, l1_ratios=None,\n",
              "                                      max_iter=10000, multi_class='auto',\n",
              "                                      n_jobs=None, penalty='l2',\n",
              "                                      random_state=72, refit=True, scoring=None,\n",
              "                                      solver='lbfgs', tol=0.0001, verbose=0))],\n",
              "         verbose=False)"
            ]
          },
          "metadata": {
            "tags": []
          },
          "execution_count": 33
        }
      ]
    },
    {
      "cell_type": "code",
      "metadata": {
        "id": "bCfl7o5SNHvU"
      },
      "source": [
        "sentiment_pred = pipe.predict(X_test)"
      ],
      "execution_count": 34,
      "outputs": []
    },
    {
      "cell_type": "code",
      "metadata": {
        "id": "W90eLqhIN0EQ",
        "outputId": "52de62e6-7588-4a07-ea5b-031b3e2752ef",
        "colab": {
          "base_uri": "https://localhost:8080/"
        }
      },
      "source": [
        "train_accuracy_score = accuracy_score(y_train, pipe.predict(X_train))\n",
        "print(\"The training accuracy is\", train_accuracy_score)"
      ],
      "execution_count": 35,
      "outputs": [
        {
          "output_type": "stream",
          "text": [
            "The training accuracy is 0.9292226858290836\n"
          ],
          "name": "stdout"
        }
      ]
    },
    {
      "cell_type": "code",
      "metadata": {
        "id": "A6-ta8QdQ3Ml"
      },
      "source": [
        "soumission = pd.DataFrame(sentiment_pred, columns=[\"target\"])"
      ],
      "execution_count": 36,
      "outputs": []
    },
    {
      "cell_type": "code",
      "metadata": {
        "id": "fR4kLjVfSh1m",
        "outputId": "b4bfdf58-7991-4514-861b-afd34e3722c7",
        "colab": {
          "base_uri": "https://localhost:8080/",
          "height": 419
        }
      },
      "source": [
        "soumission"
      ],
      "execution_count": 37,
      "outputs": [
        {
          "output_type": "execute_result",
          "data": {
            "text/html": [
              "<div>\n",
              "<style scoped>\n",
              "    .dataframe tbody tr th:only-of-type {\n",
              "        vertical-align: middle;\n",
              "    }\n",
              "\n",
              "    .dataframe tbody tr th {\n",
              "        vertical-align: top;\n",
              "    }\n",
              "\n",
              "    .dataframe thead th {\n",
              "        text-align: right;\n",
              "    }\n",
              "</style>\n",
              "<table border=\"1\" class=\"dataframe\">\n",
              "  <thead>\n",
              "    <tr style=\"text-align: right;\">\n",
              "      <th></th>\n",
              "      <th>target</th>\n",
              "    </tr>\n",
              "  </thead>\n",
              "  <tbody>\n",
              "    <tr>\n",
              "      <th>0</th>\n",
              "      <td>0</td>\n",
              "    </tr>\n",
              "    <tr>\n",
              "      <th>1</th>\n",
              "      <td>0</td>\n",
              "    </tr>\n",
              "    <tr>\n",
              "      <th>2</th>\n",
              "      <td>1</td>\n",
              "    </tr>\n",
              "    <tr>\n",
              "      <th>3</th>\n",
              "      <td>0</td>\n",
              "    </tr>\n",
              "    <tr>\n",
              "      <th>4</th>\n",
              "      <td>0</td>\n",
              "    </tr>\n",
              "    <tr>\n",
              "      <th>...</th>\n",
              "      <td>...</td>\n",
              "    </tr>\n",
              "    <tr>\n",
              "      <th>1137</th>\n",
              "      <td>1</td>\n",
              "    </tr>\n",
              "    <tr>\n",
              "      <th>1138</th>\n",
              "      <td>1</td>\n",
              "    </tr>\n",
              "    <tr>\n",
              "      <th>1139</th>\n",
              "      <td>1</td>\n",
              "    </tr>\n",
              "    <tr>\n",
              "      <th>1140</th>\n",
              "      <td>0</td>\n",
              "    </tr>\n",
              "    <tr>\n",
              "      <th>1141</th>\n",
              "      <td>1</td>\n",
              "    </tr>\n",
              "  </tbody>\n",
              "</table>\n",
              "<p>1142 rows × 1 columns</p>\n",
              "</div>"
            ],
            "text/plain": [
              "      target\n",
              "0          0\n",
              "1          0\n",
              "2          1\n",
              "3          0\n",
              "4          0\n",
              "...      ...\n",
              "1137       1\n",
              "1138       1\n",
              "1139       1\n",
              "1140       0\n",
              "1141       1\n",
              "\n",
              "[1142 rows x 1 columns]"
            ]
          },
          "metadata": {
            "tags": []
          },
          "execution_count": 37
        }
      ]
    },
    {
      "cell_type": "code",
      "metadata": {
        "id": "GysrK9pDTd7X",
        "outputId": "493d6a98-1632-43a6-d97d-6711fae1f2eb",
        "colab": {
          "base_uri": "https://localhost:8080/"
        }
      },
      "source": [
        "from google.colab import drive\n",
        "drive.mount(\"drive\", force_remount=True)\n"
      ],
      "execution_count": 38,
      "outputs": [
        {
          "output_type": "stream",
          "text": [
            "Mounted at drive\n"
          ],
          "name": "stdout"
        }
      ]
    },
    {
      "cell_type": "code",
      "metadata": {
        "id": "zhbWzfM9mpgx"
      },
      "source": [
        "soumissioncsv =soumission.to_csv(\"soumission3_1.csv\")"
      ],
      "execution_count": 39,
      "outputs": []
    },
    {
      "cell_type": "code",
      "metadata": {
        "id": "w64rCByhmZfp"
      },
      "source": [
        "!cp soumission3_1.csv \"drive/My Drive/Projet_DM\""
      ],
      "execution_count": 40,
      "outputs": []
    }
  ]
}