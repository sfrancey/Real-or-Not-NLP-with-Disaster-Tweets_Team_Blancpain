{
  "nbformat": 4,
  "nbformat_minor": 0,
  "metadata": {
    "colab": {
      "name": "team_blancpain.ipynb",
      "provenance": [],
      "collapsed_sections": [
        "FbefT-y0p_a8"
      ],
      "include_colab_link": true
    },
    "kernelspec": {
      "name": "python3",
      "display_name": "Python 3"
    }
  },
  "cells": [
    {
      "cell_type": "markdown",
      "metadata": {
        "id": "view-in-github",
        "colab_type": "text"
      },
      "source": [
        "<a href=\"https://colab.research.google.com/github/sfrancey/Real-or-Not-NLP-with-Disaster-Tweets_Team_Blancpain/blob/main/Code/team_blancpain.ipynb\" target=\"_parent\"><img src=\"https://colab.research.google.com/assets/colab-badge.svg\" alt=\"Open In Colab\"/></a>"
      ]
    },
    {
      "cell_type": "markdown",
      "metadata": {
        "id": "AXzHa0DHmtVT"
      },
      "source": [
        "#DMML TEAM BLANCPAIN\n",
        "\n"
      ]
    },
    {
      "cell_type": "code",
      "metadata": {
        "id": "JRjtY_22nCqP"
      },
      "source": [
        "%matplotlib inline\n",
        "import numpy as np\n",
        "import matplotlib.pyplot as plt\n",
        "from matplotlib import collections  as mc\n",
        "%load_ext autoreload\n",
        "%autoreload 2\n",
        "import pandas as pd \n",
        "import seaborn as sns\n",
        "from sklearn.preprocessing import LabelEncoder, OneHotEncoder\n",
        "sns.set_style(\"white\")"
      ],
      "execution_count": 1,
      "outputs": []
    },
    {
      "cell_type": "markdown",
      "metadata": {
        "id": "FbefT-y0p_a8"
      },
      "source": [
        "##Data Importation and visualization##"
      ]
    },
    {
      "cell_type": "code",
      "metadata": {
        "id": "zJ261KjjoGUD"
      },
      "source": [
        "df_train = pd.read_csv('https://raw.githubusercontent.com/sfrancey/Real-or-Not-NLP-with-Disaster-Tweets_Team_Blancpain/main/Data/training_data.csv')\n",
        "\n",
        "df_test = pd.read_csv('https://raw.githubusercontent.com/sfrancey/Real-or-Not-NLP-with-Disaster-Tweets_Team_Blancpain/main/Data/test_data.csv')\n",
        "\n",
        "df_sample = pd.read_csv('https://raw.githubusercontent.com/sfrancey/Real-or-Not-NLP-with-Disaster-Tweets_Team_Blancpain/main/Data/sample_submission.csv')"
      ],
      "execution_count": 2,
      "outputs": []
    },
    {
      "cell_type": "code",
      "metadata": {
        "id": "-SxdnAJ6oaRU",
        "outputId": "e941829b-5ee1-4620-ba03-12b7a4c7d83f",
        "colab": {
          "base_uri": "https://localhost:8080/",
          "height": 362
        }
      },
      "source": [
        "df_train.head(10)"
      ],
      "execution_count": 3,
      "outputs": [
        {
          "output_type": "execute_result",
          "data": {
            "text/html": [
              "<div>\n",
              "<style scoped>\n",
              "    .dataframe tbody tr th:only-of-type {\n",
              "        vertical-align: middle;\n",
              "    }\n",
              "\n",
              "    .dataframe tbody tr th {\n",
              "        vertical-align: top;\n",
              "    }\n",
              "\n",
              "    .dataframe thead th {\n",
              "        text-align: right;\n",
              "    }\n",
              "</style>\n",
              "<table border=\"1\" class=\"dataframe\">\n",
              "  <thead>\n",
              "    <tr style=\"text-align: right;\">\n",
              "      <th></th>\n",
              "      <th>id</th>\n",
              "      <th>keyword</th>\n",
              "      <th>location</th>\n",
              "      <th>text</th>\n",
              "      <th>target</th>\n",
              "    </tr>\n",
              "  </thead>\n",
              "  <tbody>\n",
              "    <tr>\n",
              "      <th>0</th>\n",
              "      <td>3738</td>\n",
              "      <td>destroyed</td>\n",
              "      <td>USA</td>\n",
              "      <td>Black Eye 9: A space battle occurred at Star O...</td>\n",
              "      <td>0</td>\n",
              "    </tr>\n",
              "    <tr>\n",
              "      <th>1</th>\n",
              "      <td>853</td>\n",
              "      <td>bioterror</td>\n",
              "      <td>NaN</td>\n",
              "      <td>#world FedEx no longer to transport bioterror ...</td>\n",
              "      <td>0</td>\n",
              "    </tr>\n",
              "    <tr>\n",
              "      <th>2</th>\n",
              "      <td>10540</td>\n",
              "      <td>windstorm</td>\n",
              "      <td>Palm Beach County, FL</td>\n",
              "      <td>Reality Training: Train falls off elevated tra...</td>\n",
              "      <td>1</td>\n",
              "    </tr>\n",
              "    <tr>\n",
              "      <th>3</th>\n",
              "      <td>5988</td>\n",
              "      <td>hazardous</td>\n",
              "      <td>USA</td>\n",
              "      <td>#Taiwan Grace: expect that large rocks trees m...</td>\n",
              "      <td>1</td>\n",
              "    </tr>\n",
              "    <tr>\n",
              "      <th>4</th>\n",
              "      <td>6328</td>\n",
              "      <td>hostage</td>\n",
              "      <td>Australia</td>\n",
              "      <td>New ISIS Video: ISIS Threatens to Behead Croat...</td>\n",
              "      <td>1</td>\n",
              "    </tr>\n",
              "    <tr>\n",
              "      <th>5</th>\n",
              "      <td>6669</td>\n",
              "      <td>landslide</td>\n",
              "      <td>Scotland</td>\n",
              "      <td>FreeBesieged: .MartinMJ22 YouGov Which '#Tory ...</td>\n",
              "      <td>1</td>\n",
              "    </tr>\n",
              "    <tr>\n",
              "      <th>6</th>\n",
              "      <td>9772</td>\n",
              "      <td>trapped</td>\n",
              "      <td>New York City</td>\n",
              "      <td>Billionaires have a plan to free half a billio...</td>\n",
              "      <td>0</td>\n",
              "    </tr>\n",
              "    <tr>\n",
              "      <th>7</th>\n",
              "      <td>10361</td>\n",
              "      <td>weapons</td>\n",
              "      <td>Multinational *****</td>\n",
              "      <td>@JamesMelville Some old testimony of weapons u...</td>\n",
              "      <td>0</td>\n",
              "    </tr>\n",
              "    <tr>\n",
              "      <th>8</th>\n",
              "      <td>1953</td>\n",
              "      <td>burning%20buildings</td>\n",
              "      <td>Los Angeles</td>\n",
              "      <td>Ali you flew planes and ran into burning build...</td>\n",
              "      <td>0</td>\n",
              "    </tr>\n",
              "    <tr>\n",
              "      <th>9</th>\n",
              "      <td>9586</td>\n",
              "      <td>thunder</td>\n",
              "      <td>NaN</td>\n",
              "      <td>The thunder shook my house woke my sister and ...</td>\n",
              "      <td>1</td>\n",
              "    </tr>\n",
              "  </tbody>\n",
              "</table>\n",
              "</div>"
            ],
            "text/plain": [
              "      id  ... target\n",
              "0   3738  ...      0\n",
              "1    853  ...      0\n",
              "2  10540  ...      1\n",
              "3   5988  ...      1\n",
              "4   6328  ...      1\n",
              "5   6669  ...      1\n",
              "6   9772  ...      0\n",
              "7  10361  ...      0\n",
              "8   1953  ...      0\n",
              "9   9586  ...      1\n",
              "\n",
              "[10 rows x 5 columns]"
            ]
          },
          "metadata": {
            "tags": []
          },
          "execution_count": 3
        }
      ]
    },
    {
      "cell_type": "code",
      "metadata": {
        "id": "nqHF4OATodQD",
        "outputId": "bab02908-dca9-434d-c245-87438c8fcfd7",
        "colab": {
          "base_uri": "https://localhost:8080/"
        }
      },
      "source": [
        "print(\"There are {0} rows and {1} columns in the dataset.\".format(df_train.shape[0],df_train.shape[1]))\n"
      ],
      "execution_count": 4,
      "outputs": [
        {
          "output_type": "stream",
          "text": [
            "There are 6471 rows and 5 columns in the dataset.\n"
          ],
          "name": "stdout"
        }
      ]
    },
    {
      "cell_type": "code",
      "metadata": {
        "id": "N-llenpKopx2",
        "outputId": "bc67671d-dab2-473f-fcae-8c991959c360",
        "colab": {
          "base_uri": "https://localhost:8080/",
          "height": 362
        }
      },
      "source": [
        "df_test.head(10)"
      ],
      "execution_count": 5,
      "outputs": [
        {
          "output_type": "execute_result",
          "data": {
            "text/html": [
              "<div>\n",
              "<style scoped>\n",
              "    .dataframe tbody tr th:only-of-type {\n",
              "        vertical-align: middle;\n",
              "    }\n",
              "\n",
              "    .dataframe tbody tr th {\n",
              "        vertical-align: top;\n",
              "    }\n",
              "\n",
              "    .dataframe thead th {\n",
              "        text-align: right;\n",
              "    }\n",
              "</style>\n",
              "<table border=\"1\" class=\"dataframe\">\n",
              "  <thead>\n",
              "    <tr style=\"text-align: right;\">\n",
              "      <th></th>\n",
              "      <th>id</th>\n",
              "      <th>keyword</th>\n",
              "      <th>location</th>\n",
              "      <th>text</th>\n",
              "    </tr>\n",
              "  </thead>\n",
              "  <tbody>\n",
              "    <tr>\n",
              "      <th>0</th>\n",
              "      <td>9972</td>\n",
              "      <td>tsunami</td>\n",
              "      <td>NaN</td>\n",
              "      <td>Crptotech tsunami and banks.\\n http://t.co/KHz...</td>\n",
              "    </tr>\n",
              "    <tr>\n",
              "      <th>1</th>\n",
              "      <td>9865</td>\n",
              "      <td>traumatised</td>\n",
              "      <td>Portsmouth, UK</td>\n",
              "      <td>I'm that traumatised that I can't even spell p...</td>\n",
              "    </tr>\n",
              "    <tr>\n",
              "      <th>2</th>\n",
              "      <td>1937</td>\n",
              "      <td>burning%20buildings</td>\n",
              "      <td>NaN</td>\n",
              "      <td>@foxnewsvideo @AIIAmericanGirI @ANHQDC So ... ...</td>\n",
              "    </tr>\n",
              "    <tr>\n",
              "      <th>3</th>\n",
              "      <td>3560</td>\n",
              "      <td>desolate</td>\n",
              "      <td>NaN</td>\n",
              "      <td>Me watching Law &amp;amp; Order (IB: @sauldale305)...</td>\n",
              "    </tr>\n",
              "    <tr>\n",
              "      <th>4</th>\n",
              "      <td>2731</td>\n",
              "      <td>crushed</td>\n",
              "      <td>bahstun/porta reeko</td>\n",
              "      <td>Papi absolutely crushed that ball</td>\n",
              "    </tr>\n",
              "    <tr>\n",
              "      <th>5</th>\n",
              "      <td>10020</td>\n",
              "      <td>twister</td>\n",
              "      <td>NaN</td>\n",
              "      <td>Brain twister let drop up telly structuring ca...</td>\n",
              "    </tr>\n",
              "    <tr>\n",
              "      <th>6</th>\n",
              "      <td>8676</td>\n",
              "      <td>sinkhole</td>\n",
              "      <td>San Diego, CA</td>\n",
              "      <td>RT twit_san_diego 'Possible sinkhole disrupts ...</td>\n",
              "    </tr>\n",
              "    <tr>\n",
              "      <th>7</th>\n",
              "      <td>3131</td>\n",
              "      <td>debris</td>\n",
              "      <td>NaN</td>\n",
              "      <td>Aircraft debris found on island is from MH370 ...</td>\n",
              "    </tr>\n",
              "    <tr>\n",
              "      <th>8</th>\n",
              "      <td>2195</td>\n",
              "      <td>catastrophic</td>\n",
              "      <td>Dublin, Ireland</td>\n",
              "      <td>'Kessler Syndrome' is the name for the catastr...</td>\n",
              "    </tr>\n",
              "    <tr>\n",
              "      <th>9</th>\n",
              "      <td>3484</td>\n",
              "      <td>derailed</td>\n",
              "      <td>DC</td>\n",
              "      <td>So a train derailed and instead of me getting ...</td>\n",
              "    </tr>\n",
              "  </tbody>\n",
              "</table>\n",
              "</div>"
            ],
            "text/plain": [
              "      id  ...                                               text\n",
              "0   9972  ...  Crptotech tsunami and banks.\\n http://t.co/KHz...\n",
              "1   9865  ...  I'm that traumatised that I can't even spell p...\n",
              "2   1937  ...  @foxnewsvideo @AIIAmericanGirI @ANHQDC So ... ...\n",
              "3   3560  ...  Me watching Law &amp; Order (IB: @sauldale305)...\n",
              "4   2731  ...                  Papi absolutely crushed that ball\n",
              "5  10020  ...  Brain twister let drop up telly structuring ca...\n",
              "6   8676  ...  RT twit_san_diego 'Possible sinkhole disrupts ...\n",
              "7   3131  ...  Aircraft debris found on island is from MH370 ...\n",
              "8   2195  ...  'Kessler Syndrome' is the name for the catastr...\n",
              "9   3484  ...  So a train derailed and instead of me getting ...\n",
              "\n",
              "[10 rows x 4 columns]"
            ]
          },
          "metadata": {
            "tags": []
          },
          "execution_count": 5
        }
      ]
    },
    {
      "cell_type": "code",
      "metadata": {
        "id": "lDQGKCzYp3VU",
        "outputId": "fbe39704-8231-4725-da09-121ecb85c580",
        "colab": {
          "base_uri": "https://localhost:8080/"
        }
      },
      "source": [
        "print(\"There are {0} rows and {1} columns in the dataset.\".format(df_test.shape[0],df_test.shape[1]))\n"
      ],
      "execution_count": 6,
      "outputs": [
        {
          "output_type": "stream",
          "text": [
            "There are 1142 rows and 4 columns in the dataset.\n"
          ],
          "name": "stdout"
        }
      ]
    },
    {
      "cell_type": "code",
      "metadata": {
        "id": "xDLRINKuqJMa",
        "outputId": "724ed990-856d-4265-efc3-6e589f452fc3",
        "colab": {
          "base_uri": "https://localhost:8080/",
          "height": 362
        }
      },
      "source": [
        "df_sample.head(10)"
      ],
      "execution_count": 7,
      "outputs": [
        {
          "output_type": "execute_result",
          "data": {
            "text/html": [
              "<div>\n",
              "<style scoped>\n",
              "    .dataframe tbody tr th:only-of-type {\n",
              "        vertical-align: middle;\n",
              "    }\n",
              "\n",
              "    .dataframe tbody tr th {\n",
              "        vertical-align: top;\n",
              "    }\n",
              "\n",
              "    .dataframe thead th {\n",
              "        text-align: right;\n",
              "    }\n",
              "</style>\n",
              "<table border=\"1\" class=\"dataframe\">\n",
              "  <thead>\n",
              "    <tr style=\"text-align: right;\">\n",
              "      <th></th>\n",
              "      <th>target</th>\n",
              "    </tr>\n",
              "  </thead>\n",
              "  <tbody>\n",
              "    <tr>\n",
              "      <th>0</th>\n",
              "      <td>0</td>\n",
              "    </tr>\n",
              "    <tr>\n",
              "      <th>1</th>\n",
              "      <td>0</td>\n",
              "    </tr>\n",
              "    <tr>\n",
              "      <th>2</th>\n",
              "      <td>0</td>\n",
              "    </tr>\n",
              "    <tr>\n",
              "      <th>3</th>\n",
              "      <td>0</td>\n",
              "    </tr>\n",
              "    <tr>\n",
              "      <th>4</th>\n",
              "      <td>0</td>\n",
              "    </tr>\n",
              "    <tr>\n",
              "      <th>5</th>\n",
              "      <td>0</td>\n",
              "    </tr>\n",
              "    <tr>\n",
              "      <th>6</th>\n",
              "      <td>0</td>\n",
              "    </tr>\n",
              "    <tr>\n",
              "      <th>7</th>\n",
              "      <td>0</td>\n",
              "    </tr>\n",
              "    <tr>\n",
              "      <th>8</th>\n",
              "      <td>0</td>\n",
              "    </tr>\n",
              "    <tr>\n",
              "      <th>9</th>\n",
              "      <td>0</td>\n",
              "    </tr>\n",
              "  </tbody>\n",
              "</table>\n",
              "</div>"
            ],
            "text/plain": [
              "   target\n",
              "0       0\n",
              "1       0\n",
              "2       0\n",
              "3       0\n",
              "4       0\n",
              "5       0\n",
              "6       0\n",
              "7       0\n",
              "8       0\n",
              "9       0"
            ]
          },
          "metadata": {
            "tags": []
          },
          "execution_count": 7
        }
      ]
    },
    {
      "cell_type": "code",
      "metadata": {
        "id": "D5SdI6FWqOq-",
        "outputId": "ab39f284-58fa-4168-af39-79a2edca0da4",
        "colab": {
          "base_uri": "https://localhost:8080/"
        }
      },
      "source": [
        "print(\"There are {0} rows and {1} columns in the dataset.\".format(df_sample.shape[0],df_sample.shape[1]))"
      ],
      "execution_count": 8,
      "outputs": [
        {
          "output_type": "stream",
          "text": [
            "There are 1142 rows and 1 columns in the dataset.\n"
          ],
          "name": "stdout"
        }
      ]
    },
    {
      "cell_type": "markdown",
      "metadata": {
        "id": "KyHwOAcMZt5U"
      },
      "source": [
        "##EDA"
      ]
    },
    {
      "cell_type": "code",
      "metadata": {
        "id": "RPH-zP9IZ-V4"
      },
      "source": [
        "df_train.fillna(\"Unknown\", inplace = True)"
      ],
      "execution_count": 87,
      "outputs": []
    },
    {
      "cell_type": "code",
      "metadata": {
        "id": "Edf36Mrbs5uB"
      },
      "source": [
        "df_train[\"keyword\"].replace([\"bush%20fires\",\"forest%20fires\",\"wild%20fires\",\"hellfire\",\"forest%20fire\"],\"natural_fires\", inplace = True)\n",
        "df_train[\"keyword\"].replace([\"suicide%20bomber\",\"suicide%20bombing\",\"suicide%20bomb\"],\"suicide_bombing\", inplace = True)\n",
        "df_train[\"keyword\"].replace([\"building%20fires\",\"buildings%20burning\",\"buildings%20on%20fire\",\"burning%20buildings\"],\"building_fires\", inplace = True)\n",
        "df_train[\"keyword\"].replace([\"blew%20up\",\"blown%20up\"],\"blew_up\", inplace = True)\n",
        "df_train[\"keyword\"].replace([\"structural%20failure\"],\"structural_failure\", inplace = True)\n",
        "df_train[\"keyword\"].replace([\"natural%20disaster\"],\"natural_disaster\", inplace = True)\n",
        "df_train[\"keyword\"].replace([\"body%20bags\",\"body%20bagging\",\"body%20bag\"],\"body_bags\", inplace = True)\n",
        "df_train[\"keyword\"].replace([\"emergency%20services\"],\"emergency_services\", inplace = True)\n",
        "df_train[\"keyword\"].replace([\"dust%20storm\"],\"dust_storm\", inplace = True)\n",
        "df_train[\"keyword\"].replace([\"heat%20wave\"],\"heat_wave\", inplace = True)\n",
        "df_train[\"keyword\"].replace([\"mass%20murder\",\"mass%20murderer\"],\"mass_murder\", inplace = True)\n",
        "df_train[\"keyword\"].replace([\"war%20zone\"],\"war_zone\", inplace = True)\n",
        "df_train[\"keyword\"].replace([\"emergency%20plan\"],\"emergency_plan\", inplace = True)\n",
        "df_train[\"keyword\"].replace([\"nuclear%20reactor\",\"nuclear%20disaster\"],\"nuclear\", inplace = True)\n",
        "df_train[\"keyword\"].replace([\"airplane%20accident\"],\"airplane_accident\", inplace = True)\n",
        "df_train[\"keyword\"].replace([\"chemical%20emergency\"],\"chemical_emergency\", inplace = True)\n",
        "df_train[\"keyword\"].replace([\"radiation%20emergency\"],\"radiation_emergency\", inplace = True)\n",
        "df_train[\"keyword\"].replace([\"oil%20spill\"],\"oil_spill\", inplace = True)\n",
        "df_train[\"keyword\"].replace([\"loud%20bang\"],\"loud_bang\", inplace = True)\n",
        "df_train[\"keyword\"].replace([\"cliff%20fall\"],\"cliff_fall\", inplace = True)\n",
        "df_train[\"keyword\"].replace([\"bridge%20collapse\"],\"bridge_collapse\", inplace = True)\n",
        "df_train[\"keyword\"].replace([\"fire%20truck\"],\"fire_truck\", inplace = True)\n",
        "df_train[\"keyword\"].replace([\"violent%20storm\"],\"violent_storm\", inplace = True)\n",
        "df_train[\"keyword\"].replace([\"first%20responders\"],\"first_responders\", inplace = True)"
      ],
      "execution_count": null,
      "outputs": []
    },
    {
      "cell_type": "code",
      "metadata": {
        "id": "MkPKcB3Maky4"
      },
      "source": [
        "df_deluge = pd.DataFrame(df_train[\"keyword\"].value_counts())"
      ],
      "execution_count": 82,
      "outputs": []
    },
    {
      "cell_type": "code",
      "metadata": {
        "id": "SX1pg7O-fkj1",
        "outputId": "60d1c07a-6bed-4e46-de11-27a7a9f2cef3",
        "colab": {
          "base_uri": "https://localhost:8080/"
        }
      },
      "source": [
        "df_deluge.shape"
      ],
      "execution_count": 83,
      "outputs": [
        {
          "output_type": "execute_result",
          "data": {
            "text/plain": [
              "(208, 1)"
            ]
          },
          "metadata": {
            "tags": []
          },
          "execution_count": 83
        }
      ]
    },
    {
      "cell_type": "code",
      "metadata": {
        "id": "2iGnw5MmbQJQ",
        "outputId": "c0c4b91d-84f6-4dc4-f41b-9d8651262df2",
        "colab": {
          "base_uri": "https://localhost:8080/",
          "height": 1000
        }
      },
      "source": [
        "df_deluge.sample(50)"
      ],
      "execution_count": 67,
      "outputs": [
        {
          "output_type": "execute_result",
          "data": {
            "text/html": [
              "<div>\n",
              "<style scoped>\n",
              "    .dataframe tbody tr th:only-of-type {\n",
              "        vertical-align: middle;\n",
              "    }\n",
              "\n",
              "    .dataframe tbody tr th {\n",
              "        vertical-align: top;\n",
              "    }\n",
              "\n",
              "    .dataframe thead th {\n",
              "        text-align: right;\n",
              "    }\n",
              "</style>\n",
              "<table border=\"1\" class=\"dataframe\">\n",
              "  <thead>\n",
              "    <tr style=\"text-align: right;\">\n",
              "      <th></th>\n",
              "      <th>keyword</th>\n",
              "    </tr>\n",
              "  </thead>\n",
              "  <tbody>\n",
              "    <tr>\n",
              "      <th>screaming</th>\n",
              "      <td>32</td>\n",
              "    </tr>\n",
              "    <tr>\n",
              "      <th>crashed</th>\n",
              "      <td>29</td>\n",
              "    </tr>\n",
              "    <tr>\n",
              "      <th>engulfed</th>\n",
              "      <td>29</td>\n",
              "    </tr>\n",
              "    <tr>\n",
              "      <th>devastation</th>\n",
              "      <td>32</td>\n",
              "    </tr>\n",
              "    <tr>\n",
              "      <th>obliteration</th>\n",
              "      <td>24</td>\n",
              "    </tr>\n",
              "    <tr>\n",
              "      <th>derail</th>\n",
              "      <td>32</td>\n",
              "    </tr>\n",
              "    <tr>\n",
              "      <th>bioterrorism</th>\n",
              "      <td>24</td>\n",
              "    </tr>\n",
              "    <tr>\n",
              "      <th>fear</th>\n",
              "      <td>35</td>\n",
              "    </tr>\n",
              "    <tr>\n",
              "      <th>bomb</th>\n",
              "      <td>29</td>\n",
              "    </tr>\n",
              "    <tr>\n",
              "      <th>aftershock</th>\n",
              "      <td>32</td>\n",
              "    </tr>\n",
              "    <tr>\n",
              "      <th>building_fires</th>\n",
              "      <td>95</td>\n",
              "    </tr>\n",
              "    <tr>\n",
              "      <th>mass_murder</th>\n",
              "      <td>52</td>\n",
              "    </tr>\n",
              "    <tr>\n",
              "      <th>injury</th>\n",
              "      <td>32</td>\n",
              "    </tr>\n",
              "    <tr>\n",
              "      <th>tsunami</th>\n",
              "      <td>25</td>\n",
              "    </tr>\n",
              "    <tr>\n",
              "      <th>screamed</th>\n",
              "      <td>30</td>\n",
              "    </tr>\n",
              "    <tr>\n",
              "      <th>mayhem</th>\n",
              "      <td>29</td>\n",
              "    </tr>\n",
              "    <tr>\n",
              "      <th>hijack</th>\n",
              "      <td>28</td>\n",
              "    </tr>\n",
              "    <tr>\n",
              "      <th>nuclear</th>\n",
              "      <td>63</td>\n",
              "    </tr>\n",
              "    <tr>\n",
              "      <th>sunk</th>\n",
              "      <td>34</td>\n",
              "    </tr>\n",
              "    <tr>\n",
              "      <th>fire%20truck</th>\n",
              "      <td>27</td>\n",
              "    </tr>\n",
              "    <tr>\n",
              "      <th>tornado</th>\n",
              "      <td>28</td>\n",
              "    </tr>\n",
              "    <tr>\n",
              "      <th>hijacker</th>\n",
              "      <td>33</td>\n",
              "    </tr>\n",
              "    <tr>\n",
              "      <th>ambulance</th>\n",
              "      <td>36</td>\n",
              "    </tr>\n",
              "    <tr>\n",
              "      <th>wrecked</th>\n",
              "      <td>32</td>\n",
              "    </tr>\n",
              "    <tr>\n",
              "      <th>whirlwind</th>\n",
              "      <td>32</td>\n",
              "    </tr>\n",
              "    <tr>\n",
              "      <th>explosion</th>\n",
              "      <td>30</td>\n",
              "    </tr>\n",
              "    <tr>\n",
              "      <th>drowned</th>\n",
              "      <td>31</td>\n",
              "    </tr>\n",
              "    <tr>\n",
              "      <th>rescued</th>\n",
              "      <td>32</td>\n",
              "    </tr>\n",
              "    <tr>\n",
              "      <th>upheaval</th>\n",
              "      <td>32</td>\n",
              "    </tr>\n",
              "    <tr>\n",
              "      <th>riot</th>\n",
              "      <td>26</td>\n",
              "    </tr>\n",
              "    <tr>\n",
              "      <th>panic</th>\n",
              "      <td>31</td>\n",
              "    </tr>\n",
              "    <tr>\n",
              "      <th>hostages</th>\n",
              "      <td>36</td>\n",
              "    </tr>\n",
              "    <tr>\n",
              "      <th>annihilated</th>\n",
              "      <td>27</td>\n",
              "    </tr>\n",
              "    <tr>\n",
              "      <th>oil_spill</th>\n",
              "      <td>31</td>\n",
              "    </tr>\n",
              "    <tr>\n",
              "      <th>blight</th>\n",
              "      <td>28</td>\n",
              "    </tr>\n",
              "    <tr>\n",
              "      <th>outbreak</th>\n",
              "      <td>35</td>\n",
              "    </tr>\n",
              "    <tr>\n",
              "      <th>explode</th>\n",
              "      <td>29</td>\n",
              "    </tr>\n",
              "    <tr>\n",
              "      <th>wounded</th>\n",
              "      <td>31</td>\n",
              "    </tr>\n",
              "    <tr>\n",
              "      <th>casualties</th>\n",
              "      <td>29</td>\n",
              "    </tr>\n",
              "    <tr>\n",
              "      <th>snowstorm</th>\n",
              "      <td>22</td>\n",
              "    </tr>\n",
              "    <tr>\n",
              "      <th>crash</th>\n",
              "      <td>28</td>\n",
              "    </tr>\n",
              "    <tr>\n",
              "      <th>quarantined</th>\n",
              "      <td>31</td>\n",
              "    </tr>\n",
              "    <tr>\n",
              "      <th>bombed</th>\n",
              "      <td>29</td>\n",
              "    </tr>\n",
              "    <tr>\n",
              "      <th>razed</th>\n",
              "      <td>31</td>\n",
              "    </tr>\n",
              "    <tr>\n",
              "      <th>military</th>\n",
              "      <td>29</td>\n",
              "    </tr>\n",
              "    <tr>\n",
              "      <th>body_bags</th>\n",
              "      <td>89</td>\n",
              "    </tr>\n",
              "    <tr>\n",
              "      <th>windstorm</th>\n",
              "      <td>31</td>\n",
              "    </tr>\n",
              "    <tr>\n",
              "      <th>traumatised</th>\n",
              "      <td>28</td>\n",
              "    </tr>\n",
              "    <tr>\n",
              "      <th>survived</th>\n",
              "      <td>31</td>\n",
              "    </tr>\n",
              "    <tr>\n",
              "      <th>electrocute</th>\n",
              "      <td>28</td>\n",
              "    </tr>\n",
              "  </tbody>\n",
              "</table>\n",
              "</div>"
            ],
            "text/plain": [
              "                keyword\n",
              "screaming            32\n",
              "crashed              29\n",
              "engulfed             29\n",
              "devastation          32\n",
              "obliteration         24\n",
              "derail               32\n",
              "bioterrorism         24\n",
              "fear                 35\n",
              "bomb                 29\n",
              "aftershock           32\n",
              "building_fires       95\n",
              "mass_murder          52\n",
              "injury               32\n",
              "tsunami              25\n",
              "screamed             30\n",
              "mayhem               29\n",
              "hijack               28\n",
              "nuclear              63\n",
              "sunk                 34\n",
              "fire%20truck         27\n",
              "tornado              28\n",
              "hijacker             33\n",
              "ambulance            36\n",
              "wrecked              32\n",
              "whirlwind            32\n",
              "explosion            30\n",
              "drowned              31\n",
              "rescued              32\n",
              "upheaval             32\n",
              "riot                 26\n",
              "panic                31\n",
              "hostages             36\n",
              "annihilated          27\n",
              "oil_spill            31\n",
              "blight               28\n",
              "outbreak             35\n",
              "explode              29\n",
              "wounded              31\n",
              "casualties           29\n",
              "snowstorm            22\n",
              "crash                28\n",
              "quarantined          31\n",
              "bombed               29\n",
              "razed                31\n",
              "military             29\n",
              "body_bags            89\n",
              "windstorm            31\n",
              "traumatised          28\n",
              "survived             31\n",
              "electrocute          28"
            ]
          },
          "metadata": {
            "tags": []
          },
          "execution_count": 67
        }
      ]
    },
    {
      "cell_type": "code",
      "metadata": {
        "id": "-_NKkfyEt3qR"
      },
      "source": [
        "df_train_pourcentage =df_train[df_train['keyword'].str.contains(\"%20\")]"
      ],
      "execution_count": 93,
      "outputs": []
    },
    {
      "cell_type": "code",
      "metadata": {
        "id": "uQVsiRKLuAjK",
        "outputId": "15895711-f82d-41ac-857f-913dcc03593d",
        "colab": {
          "base_uri": "https://localhost:8080/"
        }
      },
      "source": [
        "df_train_pourcentage[\"keyword\"].value_counts()"
      ],
      "execution_count": 94,
      "outputs": [
        {
          "output_type": "execute_result",
          "data": {
            "text/plain": [
              "Series([], Name: keyword, dtype: int64)"
            ]
          },
          "metadata": {
            "tags": []
          },
          "execution_count": 94
        }
      ]
    },
    {
      "cell_type": "code",
      "metadata": {
        "id": "0J2cf3GPuNX7"
      },
      "source": [
        "df_test[\"keyword\"].replace([\"bush%20fires\",\"forest%20fires\",\"wild%20fires\",\"hellfire\",\"forest%20fire\"],\"natural_fires\", inplace = True)\n",
        "df_test[\"keyword\"].replace([\"suicide%20bomber\",\"suicide%20bombing\",\"suicide%20bomb\"],\"suicide_bombing\", inplace = True)\n",
        "df_test[\"keyword\"].replace([\"building%20fires\",\"buildings%20burning\",\"buildings%20on%20fire\",\"burning%20buildings\"],\"building_fires\", inplace = True)\n",
        "df_test[\"keyword\"].replace([\"blew%20up\",\"blown%20up\"],\"blew_up\", inplace = True)\n",
        "df_test[\"keyword\"].replace([\"structural%20failure\"],\"structural_failure\", inplace = True)\n",
        "df_test[\"keyword\"].replace([\"natural%20disaster\"],\"natural_disaster\", inplace = True)\n",
        "df_test[\"keyword\"].replace([\"body%20bags\",\"body%20bagging\",\"body%20bag\"],\"body_bags\", inplace = True)\n",
        "df_test[\"keyword\"].replace([\"emergency%20services\"],\"emergency_services\", inplace = True)\n",
        "df_test[\"keyword\"].replace([\"dust%20storm\"],\"dust_storm\", inplace = True)\n",
        "df_test[\"keyword\"].replace([\"heat%20wave\"],\"heat_wave\", inplace = True)\n",
        "df_test[\"keyword\"].replace([\"mass%20murder\",\"mass%20murderer\"],\"mass_murder\", inplace = True)\n",
        "df_test[\"keyword\"].replace([\"war%20zone\"],\"war_zone\", inplace = True)\n",
        "df_test[\"keyword\"].replace([\"emergency%20plan\"],\"emergency_plan\", inplace = True)\n",
        "df_test[\"keyword\"].replace([\"nuclear%20reactor\",\"nuclear%20disaster\"],\"nuclear\", inplace = True)\n",
        "df_test[\"keyword\"].replace([\"airplane%20accident\"],\"airplane_accident\", inplace = True)\n",
        "df_test[\"keyword\"].replace([\"chemical%20emergency\"],\"chemical_emergency\", inplace = True)\n",
        "df_test[\"keyword\"].replace([\"radiation%20emergency\"],\"radiation_emergency\", inplace = True)\n",
        "df_test[\"keyword\"].replace([\"oil%20spill\"],\"oil_spill\", inplace = True)\n",
        "df_test[\"keyword\"].replace([\"loud%20bang\"],\"loud_bang\", inplace = True)\n",
        "df_test[\"keyword\"].replace([\"cliff%20fall\"],\"cliff_fall\", inplace = True)\n",
        "df_test[\"keyword\"].replace([\"bridge%20collapse\"],\"bridge_collapse\", inplace = True)\n",
        "df_test[\"keyword\"].replace([\"fire%20truck\"],\"fire_truck\", inplace = True)\n",
        "df_test[\"keyword\"].replace([\"violent%20storm\"],\"violent_storm\", inplace = True)\n",
        "df_test[\"keyword\"].replace([\"first%20responders\"],\"first_responders\", inplace = True)"
      ],
      "execution_count": 92,
      "outputs": []
    },
    {
      "cell_type": "code",
      "metadata": {
        "id": "XJo5-Fj-uiXn"
      },
      "source": [
        "df_test_pourcentage =df_train[df_train['keyword'].str.contains(\"%20\")]"
      ],
      "execution_count": 95,
      "outputs": []
    },
    {
      "cell_type": "code",
      "metadata": {
        "id": "tHXHoRa0umBv",
        "outputId": "6cf73d45-6c18-4ab5-e284-3e01446361dd",
        "colab": {
          "base_uri": "https://localhost:8080/"
        }
      },
      "source": [
        "df_test_pourcentage[\"keyword\"].value_counts()"
      ],
      "execution_count": 96,
      "outputs": [
        {
          "output_type": "execute_result",
          "data": {
            "text/plain": [
              "Series([], Name: keyword, dtype: int64)"
            ]
          },
          "metadata": {
            "tags": []
          },
          "execution_count": 96
        }
      ]
    },
    {
      "cell_type": "code",
      "metadata": {
        "id": "PWEsnwGVKqSr"
      },
      "source": [
        "import pandas as pd\n",
        "from sklearn.feature_extraction.text import CountVectorizer,TfidfVectorizer\n",
        "from sklearn.base import TransformerMixin\n",
        "from sklearn.pipeline import Pipeline\n",
        "import spacy\n",
        "from sklearn.base import TransformerMixin\n",
        "from sklearn.pipeline import Pipeline\n",
        "import string\n",
        "from spacy.lang.en.stop_words import STOP_WORDS\n",
        "from spacy.lang.en import English\n",
        "from sklearn.model_selection import train_test_split\n",
        "from sklearn.linear_model import LogisticRegression\n",
        "from sklearn.metrics import confusion_matrix, accuracy_score, precision_score, recall_score, f1_score"
      ],
      "execution_count": 99,
      "outputs": []
    },
    {
      "cell_type": "code",
      "metadata": {
        "id": "la5GVUdjMksT"
      },
      "source": [
        "stopwords = spacy.lang.en.stop_words.STOP_WORDS\n",
        "punctuationmarks = string.punctuation"
      ],
      "execution_count": 101,
      "outputs": []
    },
    {
      "cell_type": "code",
      "metadata": {
        "id": "xAby5vEFMUob"
      },
      "source": [
        "sp = spacy.load('en_core_web_sm')\n",
        "\n",
        "def tokenize_function(tweet):\n",
        "    tokens = sp(tweet)\n",
        "    tokens = [ i.lemma_.lower().strip() if i.lemma_ != \"-PRON-\" else i.lower_ for i in tokens ]\n",
        "    tokens = [ i for i in tokens if i not in stopwords and i not in punctuationmarks ]\n",
        "    return tokens"
      ],
      "execution_count": 102,
      "outputs": []
    },
    {
      "cell_type": "code",
      "metadata": {
        "id": "ENf9z1L-M6Qq"
      },
      "source": [
        "X_train = df_train['text']\n",
        "y_train = df_train['target']\n",
        "X_test = df_test[\"text\"]"
      ],
      "execution_count": 111,
      "outputs": []
    },
    {
      "cell_type": "code",
      "metadata": {
        "id": "y4lYXnFkMmDE"
      },
      "source": [
        "tfidf_feature_vector = TfidfVectorizer(tokenizer=tokenize_function)"
      ],
      "execution_count": 112,
      "outputs": []
    },
    {
      "cell_type": "code",
      "metadata": {
        "id": "_j9qhugpMs6V"
      },
      "source": [
        "l_reg = LogisticRegression(solver=\"lbfgs\", max_iter=1000, random_state = 72)"
      ],
      "execution_count": 113,
      "outputs": []
    },
    {
      "cell_type": "code",
      "metadata": {
        "id": "rCOP0mjBMvHQ"
      },
      "source": [
        "pipe = Pipeline([('vectorizer', tfidf_feature_vector),\n",
        "                 ('classifier', l_reg)])"
      ],
      "execution_count": 114,
      "outputs": []
    },
    {
      "cell_type": "code",
      "metadata": {
        "id": "TYlttaE_NY1F",
        "outputId": "7f746515-d250-4daa-babb-2c68feaa2013",
        "colab": {
          "base_uri": "https://localhost:8080/"
        }
      },
      "source": [
        "pipe.fit(X_train, y_train)"
      ],
      "execution_count": 116,
      "outputs": [
        {
          "output_type": "execute_result",
          "data": {
            "text/plain": [
              "Pipeline(memory=None,\n",
              "         steps=[('vectorizer',\n",
              "                 TfidfVectorizer(analyzer='word', binary=False,\n",
              "                                 decode_error='strict',\n",
              "                                 dtype=<class 'numpy.float64'>,\n",
              "                                 encoding='utf-8', input='content',\n",
              "                                 lowercase=True, max_df=1.0, max_features=None,\n",
              "                                 min_df=1, ngram_range=(1, 1), norm='l2',\n",
              "                                 preprocessor=None, smooth_idf=True,\n",
              "                                 stop_words=None, strip_accents=None,\n",
              "                                 sublinear_tf=False,\n",
              "                                 token_patt...\n",
              "                                 tokenizer=<function tokenize_function at 0x7f929ab53400>,\n",
              "                                 use_idf=True, vocabulary=None)),\n",
              "                ('classifier',\n",
              "                 LogisticRegression(C=1.0, class_weight=None, dual=False,\n",
              "                                    fit_intercept=True, intercept_scaling=1,\n",
              "                                    l1_ratio=None, max_iter=1000,\n",
              "                                    multi_class='auto', n_jobs=None,\n",
              "                                    penalty='l2', random_state=72,\n",
              "                                    solver='lbfgs', tol=0.0001, verbose=0,\n",
              "                                    warm_start=False))],\n",
              "         verbose=False)"
            ]
          },
          "metadata": {
            "tags": []
          },
          "execution_count": 116
        }
      ]
    },
    {
      "cell_type": "code",
      "metadata": {
        "id": "bCfl7o5SNHvU"
      },
      "source": [
        "sentiment_pred = pipe.predict(X_test)"
      ],
      "execution_count": 117,
      "outputs": []
    },
    {
      "cell_type": "code",
      "metadata": {
        "id": "W90eLqhIN0EQ",
        "outputId": "424f302d-df84-47cd-aa55-8e51c77e4ea8",
        "colab": {
          "base_uri": "https://localhost:8080/"
        }
      },
      "source": [
        "train_accuracy_score = accuracy_score(y_train, pipe.predict(X_train))\n",
        "print(\"The training accuracy is\", train_accuracy_score)"
      ],
      "execution_count": 118,
      "outputs": [
        {
          "output_type": "stream",
          "text": [
            "The training accuracy is 0.8882707464070468\n"
          ],
          "name": "stdout"
        }
      ]
    }
  ]
}