{
  "nbformat": 4,
  "nbformat_minor": 0,
  "metadata": {
    "colab": {
      "name": "team_blancpain.ipynb",
      "provenance": [],
      "collapsed_sections": [
        "FbefT-y0p_a8"
      ],
      "include_colab_link": true
    },
    "kernelspec": {
      "name": "python3",
      "display_name": "Python 3"
    }
  },
  "cells": [
    {
      "cell_type": "markdown",
      "metadata": {
        "id": "view-in-github",
        "colab_type": "text"
      },
      "source": [
        "<a href=\"https://colab.research.google.com/github/sfrancey/Real-or-Not-NLP-with-Disaster-Tweets_Team_Blancpain/blob/main/Code/team_blancpain.ipynb\" target=\"_parent\"><img src=\"https://colab.research.google.com/assets/colab-badge.svg\" alt=\"Open In Colab\"/></a>"
      ]
    },
    {
      "cell_type": "markdown",
      "metadata": {
        "id": "AXzHa0DHmtVT"
      },
      "source": [
        "#DMML TEAM BLANCPAIN\n",
        "\n"
      ]
    },
    {
      "cell_type": "code",
      "metadata": {
        "id": "JRjtY_22nCqP"
      },
      "source": [
        "%matplotlib inline\n",
        "import numpy as np\n",
        "import matplotlib.pyplot as plt\n",
        "from matplotlib import collections  as mc\n",
        "%load_ext autoreload\n",
        "%autoreload 2\n",
        "import pandas as pd \n",
        "import seaborn as sns\n",
        "from sklearn.preprocessing import LabelEncoder, OneHotEncoder\n",
        "sns.set_style(\"white\")"
      ],
      "execution_count": null,
      "outputs": []
    },
    {
      "cell_type": "markdown",
      "metadata": {
        "id": "FbefT-y0p_a8"
      },
      "source": [
        "##Data Importation and visualization##"
      ]
    },
    {
      "cell_type": "code",
      "metadata": {
        "id": "zJ261KjjoGUD"
      },
      "source": [
        "df_train = pd.read_csv('https://raw.githubusercontent.com/sfrancey/Real-or-Not-NLP-with-Disaster-Tweets_Team_Blancpain/main/Data/training_data.csv')\n",
        "\n",
        "df_test = pd.read_csv('https://raw.githubusercontent.com/sfrancey/Real-or-Not-NLP-with-Disaster-Tweets_Team_Blancpain/main/Data/test_data.csv')\n",
        "\n",
        "df_sample = pd.read_csv('https://raw.githubusercontent.com/sfrancey/Real-or-Not-NLP-with-Disaster-Tweets_Team_Blancpain/main/Data/sample_submission.csv')"
      ],
      "execution_count": null,
      "outputs": []
    },
    {
      "cell_type": "code",
      "metadata": {
        "id": "-SxdnAJ6oaRU",
        "colab": {
          "base_uri": "https://localhost:8080/",
          "height": 362
        },
        "outputId": "219cf60a-d071-4a02-b1fe-e18f29e3f314"
      },
      "source": [
        "df_train.head(10)"
      ],
      "execution_count": null,
      "outputs": [
        {
          "output_type": "execute_result",
          "data": {
            "text/html": [
              "<div>\n",
              "<style scoped>\n",
              "    .dataframe tbody tr th:only-of-type {\n",
              "        vertical-align: middle;\n",
              "    }\n",
              "\n",
              "    .dataframe tbody tr th {\n",
              "        vertical-align: top;\n",
              "    }\n",
              "\n",
              "    .dataframe thead th {\n",
              "        text-align: right;\n",
              "    }\n",
              "</style>\n",
              "<table border=\"1\" class=\"dataframe\">\n",
              "  <thead>\n",
              "    <tr style=\"text-align: right;\">\n",
              "      <th></th>\n",
              "      <th>id</th>\n",
              "      <th>keyword</th>\n",
              "      <th>location</th>\n",
              "      <th>text</th>\n",
              "      <th>target</th>\n",
              "    </tr>\n",
              "  </thead>\n",
              "  <tbody>\n",
              "    <tr>\n",
              "      <th>0</th>\n",
              "      <td>3738</td>\n",
              "      <td>destroyed</td>\n",
              "      <td>USA</td>\n",
              "      <td>Black Eye 9: A space battle occurred at Star O...</td>\n",
              "      <td>0</td>\n",
              "    </tr>\n",
              "    <tr>\n",
              "      <th>1</th>\n",
              "      <td>853</td>\n",
              "      <td>bioterror</td>\n",
              "      <td>NaN</td>\n",
              "      <td>#world FedEx no longer to transport bioterror ...</td>\n",
              "      <td>0</td>\n",
              "    </tr>\n",
              "    <tr>\n",
              "      <th>2</th>\n",
              "      <td>10540</td>\n",
              "      <td>windstorm</td>\n",
              "      <td>Palm Beach County, FL</td>\n",
              "      <td>Reality Training: Train falls off elevated tra...</td>\n",
              "      <td>1</td>\n",
              "    </tr>\n",
              "    <tr>\n",
              "      <th>3</th>\n",
              "      <td>5988</td>\n",
              "      <td>hazardous</td>\n",
              "      <td>USA</td>\n",
              "      <td>#Taiwan Grace: expect that large rocks trees m...</td>\n",
              "      <td>1</td>\n",
              "    </tr>\n",
              "    <tr>\n",
              "      <th>4</th>\n",
              "      <td>6328</td>\n",
              "      <td>hostage</td>\n",
              "      <td>Australia</td>\n",
              "      <td>New ISIS Video: ISIS Threatens to Behead Croat...</td>\n",
              "      <td>1</td>\n",
              "    </tr>\n",
              "    <tr>\n",
              "      <th>5</th>\n",
              "      <td>6669</td>\n",
              "      <td>landslide</td>\n",
              "      <td>Scotland</td>\n",
              "      <td>FreeBesieged: .MartinMJ22 YouGov Which '#Tory ...</td>\n",
              "      <td>1</td>\n",
              "    </tr>\n",
              "    <tr>\n",
              "      <th>6</th>\n",
              "      <td>9772</td>\n",
              "      <td>trapped</td>\n",
              "      <td>New York City</td>\n",
              "      <td>Billionaires have a plan to free half a billio...</td>\n",
              "      <td>0</td>\n",
              "    </tr>\n",
              "    <tr>\n",
              "      <th>7</th>\n",
              "      <td>10361</td>\n",
              "      <td>weapons</td>\n",
              "      <td>Multinational *****</td>\n",
              "      <td>@JamesMelville Some old testimony of weapons u...</td>\n",
              "      <td>0</td>\n",
              "    </tr>\n",
              "    <tr>\n",
              "      <th>8</th>\n",
              "      <td>1953</td>\n",
              "      <td>burning%20buildings</td>\n",
              "      <td>Los Angeles</td>\n",
              "      <td>Ali you flew planes and ran into burning build...</td>\n",
              "      <td>0</td>\n",
              "    </tr>\n",
              "    <tr>\n",
              "      <th>9</th>\n",
              "      <td>9586</td>\n",
              "      <td>thunder</td>\n",
              "      <td>NaN</td>\n",
              "      <td>The thunder shook my house woke my sister and ...</td>\n",
              "      <td>1</td>\n",
              "    </tr>\n",
              "  </tbody>\n",
              "</table>\n",
              "</div>"
            ],
            "text/plain": [
              "      id  ... target\n",
              "0   3738  ...      0\n",
              "1    853  ...      0\n",
              "2  10540  ...      1\n",
              "3   5988  ...      1\n",
              "4   6328  ...      1\n",
              "5   6669  ...      1\n",
              "6   9772  ...      0\n",
              "7  10361  ...      0\n",
              "8   1953  ...      0\n",
              "9   9586  ...      1\n",
              "\n",
              "[10 rows x 5 columns]"
            ]
          },
          "metadata": {
            "tags": []
          },
          "execution_count": 3
        }
      ]
    },
    {
      "cell_type": "code",
      "metadata": {
        "id": "nqHF4OATodQD",
        "colab": {
          "base_uri": "https://localhost:8080/"
        },
        "outputId": "045a0589-3a03-4dad-9f0b-bb6fcae5a648"
      },
      "source": [
        "print(\"There are {0} rows and {1} columns in the dataset.\".format(df_train.shape[0],df_train.shape[1]))\n"
      ],
      "execution_count": null,
      "outputs": [
        {
          "output_type": "stream",
          "text": [
            "There are 6471 rows and 5 columns in the dataset.\n"
          ],
          "name": "stdout"
        }
      ]
    },
    {
      "cell_type": "code",
      "metadata": {
        "id": "N-llenpKopx2",
        "colab": {
          "base_uri": "https://localhost:8080/",
          "height": 362
        },
        "outputId": "f5183a44-6e89-478b-e4b1-94c5e2df44b3"
      },
      "source": [
        "df_test.head(10)"
      ],
      "execution_count": null,
      "outputs": [
        {
          "output_type": "execute_result",
          "data": {
            "text/html": [
              "<div>\n",
              "<style scoped>\n",
              "    .dataframe tbody tr th:only-of-type {\n",
              "        vertical-align: middle;\n",
              "    }\n",
              "\n",
              "    .dataframe tbody tr th {\n",
              "        vertical-align: top;\n",
              "    }\n",
              "\n",
              "    .dataframe thead th {\n",
              "        text-align: right;\n",
              "    }\n",
              "</style>\n",
              "<table border=\"1\" class=\"dataframe\">\n",
              "  <thead>\n",
              "    <tr style=\"text-align: right;\">\n",
              "      <th></th>\n",
              "      <th>id</th>\n",
              "      <th>keyword</th>\n",
              "      <th>location</th>\n",
              "      <th>text</th>\n",
              "    </tr>\n",
              "  </thead>\n",
              "  <tbody>\n",
              "    <tr>\n",
              "      <th>0</th>\n",
              "      <td>9972</td>\n",
              "      <td>tsunami</td>\n",
              "      <td>NaN</td>\n",
              "      <td>Crptotech tsunami and banks.\\n http://t.co/KHz...</td>\n",
              "    </tr>\n",
              "    <tr>\n",
              "      <th>1</th>\n",
              "      <td>9865</td>\n",
              "      <td>traumatised</td>\n",
              "      <td>Portsmouth, UK</td>\n",
              "      <td>I'm that traumatised that I can't even spell p...</td>\n",
              "    </tr>\n",
              "    <tr>\n",
              "      <th>2</th>\n",
              "      <td>1937</td>\n",
              "      <td>burning%20buildings</td>\n",
              "      <td>NaN</td>\n",
              "      <td>@foxnewsvideo @AIIAmericanGirI @ANHQDC So ... ...</td>\n",
              "    </tr>\n",
              "    <tr>\n",
              "      <th>3</th>\n",
              "      <td>3560</td>\n",
              "      <td>desolate</td>\n",
              "      <td>NaN</td>\n",
              "      <td>Me watching Law &amp;amp; Order (IB: @sauldale305)...</td>\n",
              "    </tr>\n",
              "    <tr>\n",
              "      <th>4</th>\n",
              "      <td>2731</td>\n",
              "      <td>crushed</td>\n",
              "      <td>bahstun/porta reeko</td>\n",
              "      <td>Papi absolutely crushed that ball</td>\n",
              "    </tr>\n",
              "    <tr>\n",
              "      <th>5</th>\n",
              "      <td>10020</td>\n",
              "      <td>twister</td>\n",
              "      <td>NaN</td>\n",
              "      <td>Brain twister let drop up telly structuring ca...</td>\n",
              "    </tr>\n",
              "    <tr>\n",
              "      <th>6</th>\n",
              "      <td>8676</td>\n",
              "      <td>sinkhole</td>\n",
              "      <td>San Diego, CA</td>\n",
              "      <td>RT twit_san_diego 'Possible sinkhole disrupts ...</td>\n",
              "    </tr>\n",
              "    <tr>\n",
              "      <th>7</th>\n",
              "      <td>3131</td>\n",
              "      <td>debris</td>\n",
              "      <td>NaN</td>\n",
              "      <td>Aircraft debris found on island is from MH370 ...</td>\n",
              "    </tr>\n",
              "    <tr>\n",
              "      <th>8</th>\n",
              "      <td>2195</td>\n",
              "      <td>catastrophic</td>\n",
              "      <td>Dublin, Ireland</td>\n",
              "      <td>'Kessler Syndrome' is the name for the catastr...</td>\n",
              "    </tr>\n",
              "    <tr>\n",
              "      <th>9</th>\n",
              "      <td>3484</td>\n",
              "      <td>derailed</td>\n",
              "      <td>DC</td>\n",
              "      <td>So a train derailed and instead of me getting ...</td>\n",
              "    </tr>\n",
              "  </tbody>\n",
              "</table>\n",
              "</div>"
            ],
            "text/plain": [
              "      id  ...                                               text\n",
              "0   9972  ...  Crptotech tsunami and banks.\\n http://t.co/KHz...\n",
              "1   9865  ...  I'm that traumatised that I can't even spell p...\n",
              "2   1937  ...  @foxnewsvideo @AIIAmericanGirI @ANHQDC So ... ...\n",
              "3   3560  ...  Me watching Law &amp; Order (IB: @sauldale305)...\n",
              "4   2731  ...                  Papi absolutely crushed that ball\n",
              "5  10020  ...  Brain twister let drop up telly structuring ca...\n",
              "6   8676  ...  RT twit_san_diego 'Possible sinkhole disrupts ...\n",
              "7   3131  ...  Aircraft debris found on island is from MH370 ...\n",
              "8   2195  ...  'Kessler Syndrome' is the name for the catastr...\n",
              "9   3484  ...  So a train derailed and instead of me getting ...\n",
              "\n",
              "[10 rows x 4 columns]"
            ]
          },
          "metadata": {
            "tags": []
          },
          "execution_count": 5
        }
      ]
    },
    {
      "cell_type": "code",
      "metadata": {
        "id": "lDQGKCzYp3VU",
        "colab": {
          "base_uri": "https://localhost:8080/"
        },
        "outputId": "b26629cb-1769-4f15-a54c-c94f82c960e6"
      },
      "source": [
        "print(\"There are {0} rows and {1} columns in the dataset.\".format(df_test.shape[0],df_test.shape[1]))\n"
      ],
      "execution_count": null,
      "outputs": [
        {
          "output_type": "stream",
          "text": [
            "There are 1142 rows and 4 columns in the dataset.\n"
          ],
          "name": "stdout"
        }
      ]
    },
    {
      "cell_type": "code",
      "metadata": {
        "id": "xDLRINKuqJMa",
        "colab": {
          "base_uri": "https://localhost:8080/",
          "height": 362
        },
        "outputId": "a063286a-bfa9-435e-acaf-4348caaac928"
      },
      "source": [
        "df_sample.head(10)"
      ],
      "execution_count": null,
      "outputs": [
        {
          "output_type": "execute_result",
          "data": {
            "text/html": [
              "<div>\n",
              "<style scoped>\n",
              "    .dataframe tbody tr th:only-of-type {\n",
              "        vertical-align: middle;\n",
              "    }\n",
              "\n",
              "    .dataframe tbody tr th {\n",
              "        vertical-align: top;\n",
              "    }\n",
              "\n",
              "    .dataframe thead th {\n",
              "        text-align: right;\n",
              "    }\n",
              "</style>\n",
              "<table border=\"1\" class=\"dataframe\">\n",
              "  <thead>\n",
              "    <tr style=\"text-align: right;\">\n",
              "      <th></th>\n",
              "      <th>target</th>\n",
              "    </tr>\n",
              "  </thead>\n",
              "  <tbody>\n",
              "    <tr>\n",
              "      <th>0</th>\n",
              "      <td>0</td>\n",
              "    </tr>\n",
              "    <tr>\n",
              "      <th>1</th>\n",
              "      <td>0</td>\n",
              "    </tr>\n",
              "    <tr>\n",
              "      <th>2</th>\n",
              "      <td>0</td>\n",
              "    </tr>\n",
              "    <tr>\n",
              "      <th>3</th>\n",
              "      <td>0</td>\n",
              "    </tr>\n",
              "    <tr>\n",
              "      <th>4</th>\n",
              "      <td>0</td>\n",
              "    </tr>\n",
              "    <tr>\n",
              "      <th>5</th>\n",
              "      <td>0</td>\n",
              "    </tr>\n",
              "    <tr>\n",
              "      <th>6</th>\n",
              "      <td>0</td>\n",
              "    </tr>\n",
              "    <tr>\n",
              "      <th>7</th>\n",
              "      <td>0</td>\n",
              "    </tr>\n",
              "    <tr>\n",
              "      <th>8</th>\n",
              "      <td>0</td>\n",
              "    </tr>\n",
              "    <tr>\n",
              "      <th>9</th>\n",
              "      <td>0</td>\n",
              "    </tr>\n",
              "  </tbody>\n",
              "</table>\n",
              "</div>"
            ],
            "text/plain": [
              "   target\n",
              "0       0\n",
              "1       0\n",
              "2       0\n",
              "3       0\n",
              "4       0\n",
              "5       0\n",
              "6       0\n",
              "7       0\n",
              "8       0\n",
              "9       0"
            ]
          },
          "metadata": {
            "tags": []
          },
          "execution_count": 7
        }
      ]
    },
    {
      "cell_type": "code",
      "metadata": {
        "id": "D5SdI6FWqOq-",
        "colab": {
          "base_uri": "https://localhost:8080/"
        },
        "outputId": "c1b39aad-9ecf-40a3-c613-770ad841a21f"
      },
      "source": [
        "print(\"There are {0} rows and {1} columns in the dataset.\".format(df_sample.shape[0],df_sample.shape[1]))"
      ],
      "execution_count": null,
      "outputs": [
        {
          "output_type": "stream",
          "text": [
            "There are 1142 rows and 1 columns in the dataset.\n"
          ],
          "name": "stdout"
        }
      ]
    },
    {
      "cell_type": "markdown",
      "metadata": {
        "id": "KyHwOAcMZt5U"
      },
      "source": [
        "##EDA"
      ]
    },
    {
      "cell_type": "code",
      "metadata": {
        "id": "RPH-zP9IZ-V4"
      },
      "source": [
        "df_train.fillna(\"Unknown\", inplace = True)"
      ],
      "execution_count": null,
      "outputs": []
    },
    {
      "cell_type": "code",
      "metadata": {
        "id": "Edf36Mrbs5uB"
      },
      "source": [
        "df_train[\"keyword\"].replace([\"bush%20fires\",\"forest%20fires\",\"wild%20fires\",\"hellfire\",\"forest%20fire\"],\"natural_fires\", inplace = True)\n",
        "df_train[\"keyword\"].replace([\"suicide%20bomber\",\"suicide%20bombing\",\"suicide%20bomb\"],\"suicide_bombing\", inplace = True)\n",
        "df_train[\"keyword\"].replace([\"building%20fires\",\"buildings%20burning\",\"buildings%20on%20fire\",\"burning%20buildings\"],\"building_fires\", inplace = True)\n",
        "df_train[\"keyword\"].replace([\"blew%20up\",\"blown%20up\"],\"blew_up\", inplace = True)\n",
        "df_train[\"keyword\"].replace([\"structural%20failure\"],\"structural_failure\", inplace = True)\n",
        "df_train[\"keyword\"].replace([\"natural%20disaster\"],\"natural_disaster\", inplace = True)\n",
        "df_train[\"keyword\"].replace([\"body%20bags\",\"body%20bagging\",\"body%20bag\"],\"body_bags\", inplace = True)\n",
        "df_train[\"keyword\"].replace([\"emergency%20services\"],\"emergency_services\", inplace = True)\n",
        "df_train[\"keyword\"].replace([\"dust%20storm\"],\"dust_storm\", inplace = True)\n",
        "df_train[\"keyword\"].replace([\"heat%20wave\"],\"heat_wave\", inplace = True)\n",
        "df_train[\"keyword\"].replace([\"mass%20murder\",\"mass%20murderer\"],\"mass_murder\", inplace = True)\n",
        "df_train[\"keyword\"].replace([\"war%20zone\"],\"war_zone\", inplace = True)\n",
        "df_train[\"keyword\"].replace([\"emergency%20plan\"],\"emergency_plan\", inplace = True)\n",
        "df_train[\"keyword\"].replace([\"nuclear%20reactor\",\"nuclear%20disaster\"],\"nuclear\", inplace = True)\n",
        "df_train[\"keyword\"].replace([\"airplane%20accident\"],\"airplane_accident\", inplace = True)\n",
        "df_train[\"keyword\"].replace([\"chemical%20emergency\"],\"chemical_emergency\", inplace = True)\n",
        "df_train[\"keyword\"].replace([\"radiation%20emergency\"],\"radiation_emergency\", inplace = True)\n",
        "df_train[\"keyword\"].replace([\"oil%20spill\"],\"oil_spill\", inplace = True)\n",
        "df_train[\"keyword\"].replace([\"loud%20bang\"],\"loud_bang\", inplace = True)\n",
        "df_train[\"keyword\"].replace([\"cliff%20fall\"],\"cliff_fall\", inplace = True)\n",
        "df_train[\"keyword\"].replace([\"bridge%20collapse\"],\"bridge_collapse\", inplace = True)\n",
        "df_train[\"keyword\"].replace([\"fire%20truck\"],\"fire_truck\", inplace = True)\n",
        "df_train[\"keyword\"].replace([\"violent%20storm\"],\"violent_storm\", inplace = True)\n",
        "df_train[\"keyword\"].replace([\"first%20responders\"],\"first_responders\", inplace = True)"
      ],
      "execution_count": null,
      "outputs": []
    },
    {
      "cell_type": "code",
      "metadata": {
        "id": "MkPKcB3Maky4"
      },
      "source": [
        "df_deluge = pd.DataFrame(df_train[\"keyword\"].value_counts())"
      ],
      "execution_count": null,
      "outputs": []
    },
    {
      "cell_type": "code",
      "metadata": {
        "id": "SX1pg7O-fkj1",
        "colab": {
          "base_uri": "https://localhost:8080/"
        },
        "outputId": "13497c6e-0174-4ef4-f761-3955df63771d"
      },
      "source": [
        "df_deluge.shape"
      ],
      "execution_count": null,
      "outputs": [
        {
          "output_type": "execute_result",
          "data": {
            "text/plain": [
              "(209, 1)"
            ]
          },
          "metadata": {
            "tags": []
          },
          "execution_count": 12
        }
      ]
    },
    {
      "cell_type": "code",
      "metadata": {
        "id": "2iGnw5MmbQJQ",
        "colab": {
          "base_uri": "https://localhost:8080/",
          "height": 1000
        },
        "outputId": "38efb899-0f8f-4703-8b8d-c2c0e9ba18ae"
      },
      "source": [
        "df_deluge.sample(50)"
      ],
      "execution_count": null,
      "outputs": [
        {
          "output_type": "execute_result",
          "data": {
            "text/html": [
              "<div>\n",
              "<style scoped>\n",
              "    .dataframe tbody tr th:only-of-type {\n",
              "        vertical-align: middle;\n",
              "    }\n",
              "\n",
              "    .dataframe tbody tr th {\n",
              "        vertical-align: top;\n",
              "    }\n",
              "\n",
              "    .dataframe thead th {\n",
              "        text-align: right;\n",
              "    }\n",
              "</style>\n",
              "<table border=\"1\" class=\"dataframe\">\n",
              "  <thead>\n",
              "    <tr style=\"text-align: right;\">\n",
              "      <th></th>\n",
              "      <th>keyword</th>\n",
              "    </tr>\n",
              "  </thead>\n",
              "  <tbody>\n",
              "    <tr>\n",
              "      <th>hostage</th>\n",
              "      <td>23</td>\n",
              "    </tr>\n",
              "    <tr>\n",
              "      <th>landslide</th>\n",
              "      <td>30</td>\n",
              "    </tr>\n",
              "    <tr>\n",
              "      <th>wildfire</th>\n",
              "      <td>28</td>\n",
              "    </tr>\n",
              "    <tr>\n",
              "      <th>rescuers</th>\n",
              "      <td>28</td>\n",
              "    </tr>\n",
              "    <tr>\n",
              "      <th>annihilation</th>\n",
              "      <td>24</td>\n",
              "    </tr>\n",
              "    <tr>\n",
              "      <th>blew_up</th>\n",
              "      <td>57</td>\n",
              "    </tr>\n",
              "    <tr>\n",
              "      <th>eyewitness</th>\n",
              "      <td>27</td>\n",
              "    </tr>\n",
              "    <tr>\n",
              "      <th>weapon</th>\n",
              "      <td>33</td>\n",
              "    </tr>\n",
              "    <tr>\n",
              "      <th>razed</th>\n",
              "      <td>31</td>\n",
              "    </tr>\n",
              "    <tr>\n",
              "      <th>battle</th>\n",
              "      <td>21</td>\n",
              "    </tr>\n",
              "    <tr>\n",
              "      <th>hijacking</th>\n",
              "      <td>27</td>\n",
              "    </tr>\n",
              "    <tr>\n",
              "      <th>Unknown</th>\n",
              "      <td>55</td>\n",
              "    </tr>\n",
              "    <tr>\n",
              "      <th>injured</th>\n",
              "      <td>29</td>\n",
              "    </tr>\n",
              "    <tr>\n",
              "      <th>rioting</th>\n",
              "      <td>29</td>\n",
              "    </tr>\n",
              "    <tr>\n",
              "      <th>evacuated</th>\n",
              "      <td>29</td>\n",
              "    </tr>\n",
              "    <tr>\n",
              "      <th>army</th>\n",
              "      <td>31</td>\n",
              "    </tr>\n",
              "    <tr>\n",
              "      <th>destroyed</th>\n",
              "      <td>28</td>\n",
              "    </tr>\n",
              "    <tr>\n",
              "      <th>detonation</th>\n",
              "      <td>28</td>\n",
              "    </tr>\n",
              "    <tr>\n",
              "      <th>refugees</th>\n",
              "      <td>30</td>\n",
              "    </tr>\n",
              "    <tr>\n",
              "      <th>dust_storm</th>\n",
              "      <td>26</td>\n",
              "    </tr>\n",
              "    <tr>\n",
              "      <th>evacuate</th>\n",
              "      <td>32</td>\n",
              "    </tr>\n",
              "    <tr>\n",
              "      <th>nuclear</th>\n",
              "      <td>63</td>\n",
              "    </tr>\n",
              "    <tr>\n",
              "      <th>hailstorm</th>\n",
              "      <td>30</td>\n",
              "    </tr>\n",
              "    <tr>\n",
              "      <th>survived</th>\n",
              "      <td>31</td>\n",
              "    </tr>\n",
              "    <tr>\n",
              "      <th>devastation</th>\n",
              "      <td>32</td>\n",
              "    </tr>\n",
              "    <tr>\n",
              "      <th>devastated</th>\n",
              "      <td>28</td>\n",
              "    </tr>\n",
              "    <tr>\n",
              "      <th>pandemonium</th>\n",
              "      <td>28</td>\n",
              "    </tr>\n",
              "    <tr>\n",
              "      <th>police</th>\n",
              "      <td>29</td>\n",
              "    </tr>\n",
              "    <tr>\n",
              "      <th>radiation_emergency</th>\n",
              "      <td>9</td>\n",
              "    </tr>\n",
              "    <tr>\n",
              "      <th>crush</th>\n",
              "      <td>35</td>\n",
              "    </tr>\n",
              "    <tr>\n",
              "      <th>electrocute</th>\n",
              "      <td>28</td>\n",
              "    </tr>\n",
              "    <tr>\n",
              "      <th>building_fires</th>\n",
              "      <td>95</td>\n",
              "    </tr>\n",
              "    <tr>\n",
              "      <th>massacre</th>\n",
              "      <td>33</td>\n",
              "    </tr>\n",
              "    <tr>\n",
              "      <th>earthquake</th>\n",
              "      <td>38</td>\n",
              "    </tr>\n",
              "    <tr>\n",
              "      <th>blizzard</th>\n",
              "      <td>31</td>\n",
              "    </tr>\n",
              "    <tr>\n",
              "      <th>mass_murder</th>\n",
              "      <td>52</td>\n",
              "    </tr>\n",
              "    <tr>\n",
              "      <th>fire_truck</th>\n",
              "      <td>27</td>\n",
              "    </tr>\n",
              "    <tr>\n",
              "      <th>thunderstorm</th>\n",
              "      <td>29</td>\n",
              "    </tr>\n",
              "    <tr>\n",
              "      <th>thunder</th>\n",
              "      <td>32</td>\n",
              "    </tr>\n",
              "    <tr>\n",
              "      <th>ablaze</th>\n",
              "      <td>33</td>\n",
              "    </tr>\n",
              "    <tr>\n",
              "      <th>hail</th>\n",
              "      <td>29</td>\n",
              "    </tr>\n",
              "    <tr>\n",
              "      <th>hurricane</th>\n",
              "      <td>31</td>\n",
              "    </tr>\n",
              "    <tr>\n",
              "      <th>hazard</th>\n",
              "      <td>30</td>\n",
              "    </tr>\n",
              "    <tr>\n",
              "      <th>flattened</th>\n",
              "      <td>28</td>\n",
              "    </tr>\n",
              "    <tr>\n",
              "      <th>emergency_plan</th>\n",
              "      <td>30</td>\n",
              "    </tr>\n",
              "    <tr>\n",
              "      <th>panic</th>\n",
              "      <td>31</td>\n",
              "    </tr>\n",
              "    <tr>\n",
              "      <th>screams</th>\n",
              "      <td>31</td>\n",
              "    </tr>\n",
              "    <tr>\n",
              "      <th>explosion</th>\n",
              "      <td>30</td>\n",
              "    </tr>\n",
              "    <tr>\n",
              "      <th>fear</th>\n",
              "      <td>35</td>\n",
              "    </tr>\n",
              "    <tr>\n",
              "      <th>snowstorm</th>\n",
              "      <td>22</td>\n",
              "    </tr>\n",
              "  </tbody>\n",
              "</table>\n",
              "</div>"
            ],
            "text/plain": [
              "                     keyword\n",
              "hostage                   23\n",
              "landslide                 30\n",
              "wildfire                  28\n",
              "rescuers                  28\n",
              "annihilation              24\n",
              "blew_up                   57\n",
              "eyewitness                27\n",
              "weapon                    33\n",
              "razed                     31\n",
              "battle                    21\n",
              "hijacking                 27\n",
              "Unknown                   55\n",
              "injured                   29\n",
              "rioting                   29\n",
              "evacuated                 29\n",
              "army                      31\n",
              "destroyed                 28\n",
              "detonation                28\n",
              "refugees                  30\n",
              "dust_storm                26\n",
              "evacuate                  32\n",
              "nuclear                   63\n",
              "hailstorm                 30\n",
              "survived                  31\n",
              "devastation               32\n",
              "devastated                28\n",
              "pandemonium               28\n",
              "police                    29\n",
              "radiation_emergency        9\n",
              "crush                     35\n",
              "electrocute               28\n",
              "building_fires            95\n",
              "massacre                  33\n",
              "earthquake                38\n",
              "blizzard                  31\n",
              "mass_murder               52\n",
              "fire_truck                27\n",
              "thunderstorm              29\n",
              "thunder                   32\n",
              "ablaze                    33\n",
              "hail                      29\n",
              "hurricane                 31\n",
              "hazard                    30\n",
              "flattened                 28\n",
              "emergency_plan            30\n",
              "panic                     31\n",
              "screams                   31\n",
              "explosion                 30\n",
              "fear                      35\n",
              "snowstorm                 22"
            ]
          },
          "metadata": {
            "tags": []
          },
          "execution_count": 13
        }
      ]
    },
    {
      "cell_type": "code",
      "metadata": {
        "id": "-_NKkfyEt3qR"
      },
      "source": [
        "df_train_pourcentage =df_train[df_train['keyword'].str.contains(\"%20\")]"
      ],
      "execution_count": null,
      "outputs": []
    },
    {
      "cell_type": "code",
      "metadata": {
        "id": "uQVsiRKLuAjK",
        "colab": {
          "base_uri": "https://localhost:8080/"
        },
        "outputId": "c904ee3a-a45a-488d-a85f-4d03bec2fc5c"
      },
      "source": [
        "df_train_pourcentage[\"keyword\"].value_counts()"
      ],
      "execution_count": null,
      "outputs": [
        {
          "output_type": "execute_result",
          "data": {
            "text/plain": [
              "Series([], Name: keyword, dtype: int64)"
            ]
          },
          "metadata": {
            "tags": []
          },
          "execution_count": 15
        }
      ]
    },
    {
      "cell_type": "code",
      "metadata": {
        "id": "0J2cf3GPuNX7"
      },
      "source": [
        "df_test[\"keyword\"].replace([\"bush%20fires\",\"forest%20fires\",\"wild%20fires\",\"hellfire\",\"forest%20fire\"],\"natural_fires\", inplace = True)\n",
        "df_test[\"keyword\"].replace([\"suicide%20bomber\",\"suicide%20bombing\",\"suicide%20bomb\"],\"suicide_bombing\", inplace = True)\n",
        "df_test[\"keyword\"].replace([\"building%20fires\",\"buildings%20burning\",\"buildings%20on%20fire\",\"burning%20buildings\"],\"building_fires\", inplace = True)\n",
        "df_test[\"keyword\"].replace([\"blew%20up\",\"blown%20up\"],\"blew_up\", inplace = True)\n",
        "df_test[\"keyword\"].replace([\"structural%20failure\"],\"structural_failure\", inplace = True)\n",
        "df_test[\"keyword\"].replace([\"natural%20disaster\"],\"natural_disaster\", inplace = True)\n",
        "df_test[\"keyword\"].replace([\"body%20bags\",\"body%20bagging\",\"body%20bag\"],\"body_bags\", inplace = True)\n",
        "df_test[\"keyword\"].replace([\"emergency%20services\"],\"emergency_services\", inplace = True)\n",
        "df_test[\"keyword\"].replace([\"dust%20storm\"],\"dust_storm\", inplace = True)\n",
        "df_test[\"keyword\"].replace([\"heat%20wave\"],\"heat_wave\", inplace = True)\n",
        "df_test[\"keyword\"].replace([\"mass%20murder\",\"mass%20murderer\"],\"mass_murder\", inplace = True)\n",
        "df_test[\"keyword\"].replace([\"war%20zone\"],\"war_zone\", inplace = True)\n",
        "df_test[\"keyword\"].replace([\"emergency%20plan\"],\"emergency_plan\", inplace = True)\n",
        "df_test[\"keyword\"].replace([\"nuclear%20reactor\",\"nuclear%20disaster\"],\"nuclear\", inplace = True)\n",
        "df_test[\"keyword\"].replace([\"airplane%20accident\"],\"airplane_accident\", inplace = True)\n",
        "df_test[\"keyword\"].replace([\"chemical%20emergency\"],\"chemical_emergency\", inplace = True)\n",
        "df_test[\"keyword\"].replace([\"radiation%20emergency\"],\"radiation_emergency\", inplace = True)\n",
        "df_test[\"keyword\"].replace([\"oil%20spill\"],\"oil_spill\", inplace = True)\n",
        "df_test[\"keyword\"].replace([\"loud%20bang\"],\"loud_bang\", inplace = True)\n",
        "df_test[\"keyword\"].replace([\"cliff%20fall\"],\"cliff_fall\", inplace = True)\n",
        "df_test[\"keyword\"].replace([\"bridge%20collapse\"],\"bridge_collapse\", inplace = True)\n",
        "df_test[\"keyword\"].replace([\"fire%20truck\"],\"fire_truck\", inplace = True)\n",
        "df_test[\"keyword\"].replace([\"violent%20storm\"],\"violent_storm\", inplace = True)\n",
        "df_test[\"keyword\"].replace([\"first%20responders\"],\"first_responders\", inplace = True)"
      ],
      "execution_count": null,
      "outputs": []
    },
    {
      "cell_type": "code",
      "metadata": {
        "id": "XJo5-Fj-uiXn"
      },
      "source": [
        "df_test_pourcentage =df_train[df_train['keyword'].str.contains(\"%20\")]"
      ],
      "execution_count": null,
      "outputs": []
    },
    {
      "cell_type": "code",
      "metadata": {
        "id": "tHXHoRa0umBv",
        "colab": {
          "base_uri": "https://localhost:8080/"
        },
        "outputId": "a9f7591d-9717-4564-f1b6-4d201fb1a0fe"
      },
      "source": [
        "df_test_pourcentage[\"keyword\"].value_counts()"
      ],
      "execution_count": null,
      "outputs": [
        {
          "output_type": "execute_result",
          "data": {
            "text/plain": [
              "Series([], Name: keyword, dtype: int64)"
            ]
          },
          "metadata": {
            "tags": []
          },
          "execution_count": 18
        }
      ]
    },
    {
      "cell_type": "code",
      "metadata": {
        "id": "PWEsnwGVKqSr"
      },
      "source": [
        "import pandas as pd\n",
        "from sklearn.feature_extraction.text import CountVectorizer,TfidfVectorizer\n",
        "from sklearn.base import TransformerMixin\n",
        "from sklearn.pipeline import Pipeline\n",
        "import spacy\n",
        "from sklearn.base import TransformerMixin\n",
        "from sklearn.pipeline import Pipeline\n",
        "import string\n",
        "from spacy.lang.en.stop_words import STOP_WORDS\n",
        "from spacy.lang.en import English\n",
        "from sklearn.model_selection import train_test_split\n",
        "from sklearn.linear_model import LogisticRegression, LogisticRegressionCV\n",
        "from sklearn.metrics import confusion_matrix, accuracy_score, precision_score, recall_score, f1_score\n"
      ],
      "execution_count": null,
      "outputs": []
    },
    {
      "cell_type": "code",
      "metadata": {
        "id": "la5GVUdjMksT"
      },
      "source": [
        "stopwords = spacy.lang.en.stop_words.STOP_WORDS\n",
        "punctuationmarks = string.punctuation"
      ],
      "execution_count": null,
      "outputs": []
    },
    {
      "cell_type": "code",
      "metadata": {
        "id": "xAby5vEFMUob"
      },
      "source": [
        "sp = spacy.load('en_core_web_sm')\n",
        "\n",
        "def tokenize_function(tweet):\n",
        "    tokens = sp(tweet)\n",
        "    tokens = [ i.lemma_.lower().strip() if i.lemma_ != \"-PRON-\" else i.lower_ for i in tokens ]\n",
        "    tokens = [ i for i in tokens if i not in stopwords and i not in punctuationmarks ]\n",
        "    return tokens"
      ],
      "execution_count": null,
      "outputs": []
    },
    {
      "cell_type": "code",
      "metadata": {
        "id": "ENf9z1L-M6Qq"
      },
      "source": [
        "X_train = df_train['text']\n",
        "y_train = df_train['target']\n",
        "X_test = df_test[\"text\"]"
      ],
      "execution_count": null,
      "outputs": []
    },
    {
      "cell_type": "code",
      "metadata": {
        "id": "y4lYXnFkMmDE"
      },
      "source": [
        "tfidf_feature_vector = TfidfVectorizer(tokenizer=tokenize_function)"
      ],
      "execution_count": null,
      "outputs": []
    },
    {
      "cell_type": "code",
      "metadata": {
        "id": "_j9qhugpMs6V"
      },
      "source": [
        "classifierCV = LogisticRegressionCV(solver='lbfgs', cv=5, max_iter=10000, random_state=72)"
      ],
      "execution_count": null,
      "outputs": []
    },
    {
      "cell_type": "code",
      "metadata": {
        "id": "rCOP0mjBMvHQ"
      },
      "source": [
        "pipe = Pipeline([('vectorizer', tfidf_feature_vector),\n",
        "                 ('classifier', classifierCV)])"
      ],
      "execution_count": null,
      "outputs": []
    },
    {
      "cell_type": "code",
      "metadata": {
        "id": "TYlttaE_NY1F",
        "colab": {
          "base_uri": "https://localhost:8080/"
        },
        "outputId": "2f61823b-00e6-4033-b1e6-8a1773f9b97f"
      },
      "source": [
        "pipe.fit(X_train, y_train)"
      ],
      "execution_count": null,
      "outputs": [
        {
          "output_type": "execute_result",
          "data": {
            "text/plain": [
              "Pipeline(memory=None,\n",
              "         steps=[('vectorizer',\n",
              "                 TfidfVectorizer(analyzer='word', binary=False,\n",
              "                                 decode_error='strict',\n",
              "                                 dtype=<class 'numpy.float64'>,\n",
              "                                 encoding='utf-8', input='content',\n",
              "                                 lowercase=True, max_df=1.0, max_features=None,\n",
              "                                 min_df=1, ngram_range=(1, 1), norm='l2',\n",
              "                                 preprocessor=None, smooth_idf=True,\n",
              "                                 stop_words=None, strip_accents=None,\n",
              "                                 sublinear_tf=False,\n",
              "                                 token_patt...\n",
              "                                 tokenizer=<function tokenize_function at 0x7f33ffde8b70>,\n",
              "                                 use_idf=True, vocabulary=None)),\n",
              "                ('classifier',\n",
              "                 LogisticRegressionCV(Cs=10, class_weight=None, cv=5,\n",
              "                                      dual=False, fit_intercept=True,\n",
              "                                      intercept_scaling=1.0, l1_ratios=None,\n",
              "                                      max_iter=10000, multi_class='auto',\n",
              "                                      n_jobs=None, penalty='l2',\n",
              "                                      random_state=72, refit=True, scoring=None,\n",
              "                                      solver='lbfgs', tol=0.0001, verbose=0))],\n",
              "         verbose=False)"
            ]
          },
          "metadata": {
            "tags": []
          },
          "execution_count": 26
        }
      ]
    },
    {
      "cell_type": "code",
      "metadata": {
        "id": "bCfl7o5SNHvU"
      },
      "source": [
        "sentiment_pred = pipe.predict(X_test)"
      ],
      "execution_count": null,
      "outputs": []
    },
    {
      "cell_type": "code",
      "metadata": {
        "id": "W90eLqhIN0EQ",
        "colab": {
          "base_uri": "https://localhost:8080/"
        },
        "outputId": "0340ea2c-0c19-4b00-9775-377282247366"
      },
      "source": [
        "train_accuracy_score = accuracy_score(y_train, pipe.predict(X_train))\n",
        "print(\"The training accuracy is\", train_accuracy_score)"
      ],
      "execution_count": null,
      "outputs": [
        {
          "output_type": "stream",
          "text": [
            "The training accuracy is 0.9395765723999382\n"
          ],
          "name": "stdout"
        }
      ]
    },
    {
      "cell_type": "code",
      "metadata": {
        "id": "A6-ta8QdQ3Ml"
      },
      "source": [
        "soumission = pd.DataFrame(sentiment_pred, columns=[\"target\"])"
      ],
      "execution_count": null,
      "outputs": []
    },
    {
      "cell_type": "code",
      "metadata": {
        "id": "fR4kLjVfSh1m",
        "colab": {
          "base_uri": "https://localhost:8080/",
          "height": 424
        },
        "outputId": "fb075ca4-3584-488a-e9c8-abe3fc80762f"
      },
      "source": [
        "soumission"
      ],
      "execution_count": null,
      "outputs": [
        {
          "output_type": "execute_result",
          "data": {
            "text/html": [
              "<div>\n",
              "<style scoped>\n",
              "    .dataframe tbody tr th:only-of-type {\n",
              "        vertical-align: middle;\n",
              "    }\n",
              "\n",
              "    .dataframe tbody tr th {\n",
              "        vertical-align: top;\n",
              "    }\n",
              "\n",
              "    .dataframe thead th {\n",
              "        text-align: right;\n",
              "    }\n",
              "</style>\n",
              "<table border=\"1\" class=\"dataframe\">\n",
              "  <thead>\n",
              "    <tr style=\"text-align: right;\">\n",
              "      <th></th>\n",
              "      <th>target</th>\n",
              "    </tr>\n",
              "  </thead>\n",
              "  <tbody>\n",
              "    <tr>\n",
              "      <th>0</th>\n",
              "      <td>0</td>\n",
              "    </tr>\n",
              "    <tr>\n",
              "      <th>1</th>\n",
              "      <td>0</td>\n",
              "    </tr>\n",
              "    <tr>\n",
              "      <th>2</th>\n",
              "      <td>1</td>\n",
              "    </tr>\n",
              "    <tr>\n",
              "      <th>3</th>\n",
              "      <td>1</td>\n",
              "    </tr>\n",
              "    <tr>\n",
              "      <th>4</th>\n",
              "      <td>0</td>\n",
              "    </tr>\n",
              "    <tr>\n",
              "      <th>...</th>\n",
              "      <td>...</td>\n",
              "    </tr>\n",
              "    <tr>\n",
              "      <th>1137</th>\n",
              "      <td>1</td>\n",
              "    </tr>\n",
              "    <tr>\n",
              "      <th>1138</th>\n",
              "      <td>1</td>\n",
              "    </tr>\n",
              "    <tr>\n",
              "      <th>1139</th>\n",
              "      <td>1</td>\n",
              "    </tr>\n",
              "    <tr>\n",
              "      <th>1140</th>\n",
              "      <td>0</td>\n",
              "    </tr>\n",
              "    <tr>\n",
              "      <th>1141</th>\n",
              "      <td>1</td>\n",
              "    </tr>\n",
              "  </tbody>\n",
              "</table>\n",
              "<p>1142 rows × 1 columns</p>\n",
              "</div>"
            ],
            "text/plain": [
              "      target\n",
              "0          0\n",
              "1          0\n",
              "2          1\n",
              "3          1\n",
              "4          0\n",
              "...      ...\n",
              "1137       1\n",
              "1138       1\n",
              "1139       1\n",
              "1140       0\n",
              "1141       1\n",
              "\n",
              "[1142 rows x 1 columns]"
            ]
          },
          "metadata": {
            "tags": []
          },
          "execution_count": 40
        }
      ]
    },
    {
      "cell_type": "code",
      "metadata": {
        "id": "GysrK9pDTd7X",
        "colab": {
          "base_uri": "https://localhost:8080/"
        },
        "outputId": "6b5d84cd-96e0-4b06-adc9-c811a161e87b"
      },
      "source": [
        "from google.colab import drive\n",
        "drive.mount(\"drive\", force_remount=True)\n"
      ],
      "execution_count": null,
      "outputs": [
        {
          "output_type": "stream",
          "text": [
            "Mounted at drive\n"
          ],
          "name": "stdout"
        }
      ]
    },
    {
      "cell_type": "code",
      "metadata": {
        "id": "zhbWzfM9mpgx"
      },
      "source": [
        "soumissioncsv =soumission.to_csv(\"soumission1.csv\")"
      ],
      "execution_count": null,
      "outputs": []
    },
    {
      "cell_type": "code",
      "metadata": {
        "id": "w64rCByhmZfp"
      },
      "source": [
        "!cp soumission1.csv \"drive/My Drive/Projet_DM\""
      ],
      "execution_count": null,
      "outputs": []
    },
    {
      "cell_type": "code",
      "metadata": {
        "id": "TsnuNlzBnZCY"
      },
      "source": [
        ""
      ],
      "execution_count": null,
      "outputs": []
    }
  ]
}