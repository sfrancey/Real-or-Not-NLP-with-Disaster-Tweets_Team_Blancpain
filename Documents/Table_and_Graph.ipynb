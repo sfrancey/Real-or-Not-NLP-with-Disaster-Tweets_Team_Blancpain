{
  "nbformat": 4,
  "nbformat_minor": 0,
  "metadata": {
    "colab": {
      "name": "Table and Graph.ipynb",
      "provenance": [],
      "authorship_tag": "ABX9TyP5V0OfEm4ZZ/wYqiAEK0Dm",
      "include_colab_link": true
    },
    "kernelspec": {
      "name": "python3",
      "display_name": "Python 3"
    }
  },
  "cells": [
    {
      "cell_type": "markdown",
      "metadata": {
        "id": "view-in-github",
        "colab_type": "text"
      },
      "source": [
        "<a href=\"https://colab.research.google.com/github/sfrancey/Real-or-Not-NLP-with-Disaster-Tweets_Team_Blancpain/blob/main/Code/Table_and_Graph.ipynb\" target=\"_parent\"><img src=\"https://colab.research.google.com/assets/colab-badge.svg\" alt=\"Open In Colab\"/></a>"
      ]
    },
    {
      "cell_type": "markdown",
      "metadata": {
        "id": "EiqtVkr4okk8"
      },
      "source": [
        "##Table\n"
      ]
    },
    {
      "cell_type": "code",
      "metadata": {
        "id": "7Tg_T2ObqEd3"
      },
      "source": [
        "import pandas as pd"
      ],
      "execution_count": 2,
      "outputs": []
    },
    {
      "cell_type": "code",
      "metadata": {
        "id": "mDvrajgmogHu"
      },
      "source": [
        "table = pd.read_csv('https://raw.githubusercontent.com/sfrancey/Real-or-Not-NLP-with-Disaster-Tweets_Team_Blancpain/main/Data/tableau.csv',sep=\";\")"
      ],
      "execution_count": 3,
      "outputs": []
    },
    {
      "cell_type": "code",
      "metadata": {
        "colab": {
          "base_uri": "https://localhost:8080/",
          "height": 424
        },
        "id": "Y1ZZkMqKqJkM",
        "outputId": "72886ad9-1313-4147-b824-2e12dc587917"
      },
      "source": [
        "table"
      ],
      "execution_count": 4,
      "outputs": [
        {
          "output_type": "execute_result",
          "data": {
            "text/html": [
              "<div>\n",
              "<style scoped>\n",
              "    .dataframe tbody tr th:only-of-type {\n",
              "        vertical-align: middle;\n",
              "    }\n",
              "\n",
              "    .dataframe tbody tr th {\n",
              "        vertical-align: top;\n",
              "    }\n",
              "\n",
              "    .dataframe thead th {\n",
              "        text-align: right;\n",
              "    }\n",
              "</style>\n",
              "<table border=\"1\" class=\"dataframe\">\n",
              "  <thead>\n",
              "    <tr style=\"text-align: right;\">\n",
              "      <th></th>\n",
              "      <th>Analysé</th>\n",
              "      <th>smileys</th>\n",
              "      <th>parameters</th>\n",
              "      <th>model</th>\n",
              "      <th>features</th>\n",
              "      <th>result</th>\n",
              "    </tr>\n",
              "  </thead>\n",
              "  <tbody>\n",
              "    <tr>\n",
              "      <th>0</th>\n",
              "      <td>keyword</td>\n",
              "      <td>non</td>\n",
              "      <td>stopwords</td>\n",
              "      <td>log</td>\n",
              "      <td>w2v</td>\n",
              "      <td>0.57</td>\n",
              "    </tr>\n",
              "    <tr>\n",
              "      <th>1</th>\n",
              "      <td>keyword</td>\n",
              "      <td>non</td>\n",
              "      <td>punctuation</td>\n",
              "      <td>log</td>\n",
              "      <td>w2v</td>\n",
              "      <td>0.57</td>\n",
              "    </tr>\n",
              "    <tr>\n",
              "      <th>2</th>\n",
              "      <td>keyword</td>\n",
              "      <td>non</td>\n",
              "      <td>stop + punct</td>\n",
              "      <td>log</td>\n",
              "      <td>w2v</td>\n",
              "      <td>0.57</td>\n",
              "    </tr>\n",
              "    <tr>\n",
              "      <th>3</th>\n",
              "      <td>keyword</td>\n",
              "      <td>non</td>\n",
              "      <td>isolated</td>\n",
              "      <td>log</td>\n",
              "      <td>w2v</td>\n",
              "      <td>0.57</td>\n",
              "    </tr>\n",
              "    <tr>\n",
              "      <th>4</th>\n",
              "      <td>text</td>\n",
              "      <td>non</td>\n",
              "      <td>stop + punct</td>\n",
              "      <td>forest</td>\n",
              "      <td>tfidf</td>\n",
              "      <td>0.62</td>\n",
              "    </tr>\n",
              "    <tr>\n",
              "      <th>...</th>\n",
              "      <td>...</td>\n",
              "      <td>...</td>\n",
              "      <td>...</td>\n",
              "      <td>...</td>\n",
              "      <td>...</td>\n",
              "      <td>...</td>\n",
              "    </tr>\n",
              "    <tr>\n",
              "      <th>108</th>\n",
              "      <td>keyword cleaned + text</td>\n",
              "      <td>non</td>\n",
              "      <td>isolated</td>\n",
              "      <td>log</td>\n",
              "      <td>tfidf</td>\n",
              "      <td>0.81</td>\n",
              "    </tr>\n",
              "    <tr>\n",
              "      <th>109</th>\n",
              "      <td>keyword + text</td>\n",
              "      <td>non</td>\n",
              "      <td>NaN</td>\n",
              "      <td>log</td>\n",
              "      <td>tfidf</td>\n",
              "      <td>0.82</td>\n",
              "    </tr>\n",
              "    <tr>\n",
              "      <th>110</th>\n",
              "      <td>text</td>\n",
              "      <td>non</td>\n",
              "      <td>NaN</td>\n",
              "      <td>log</td>\n",
              "      <td>tfidf</td>\n",
              "      <td>0.82</td>\n",
              "    </tr>\n",
              "    <tr>\n",
              "      <th>111</th>\n",
              "      <td>keyword cleaned + text</td>\n",
              "      <td>non</td>\n",
              "      <td>Modeling hyper parameters</td>\n",
              "      <td>log</td>\n",
              "      <td>tfidf</td>\n",
              "      <td>0.82</td>\n",
              "    </tr>\n",
              "    <tr>\n",
              "      <th>112</th>\n",
              "      <td>keyword cleaned + text</td>\n",
              "      <td>non</td>\n",
              "      <td>NaN</td>\n",
              "      <td>log</td>\n",
              "      <td>tfidf</td>\n",
              "      <td>0.82</td>\n",
              "    </tr>\n",
              "  </tbody>\n",
              "</table>\n",
              "<p>113 rows × 6 columns</p>\n",
              "</div>"
            ],
            "text/plain": [
              "                     Analysé smileys  ... features result\n",
              "0                    keyword     non  ...      w2v   0.57\n",
              "1                    keyword     non  ...      w2v   0.57\n",
              "2                    keyword     non  ...      w2v   0.57\n",
              "3                    keyword     non  ...      w2v   0.57\n",
              "4                       text     non  ...    tfidf   0.62\n",
              "..                       ...     ...  ...      ...    ...\n",
              "108  keyword cleaned + text      non  ...    tfidf   0.81\n",
              "109           keyword + text     non  ...    tfidf   0.82\n",
              "110                     text     non  ...    tfidf   0.82\n",
              "111   keyword cleaned + text     non  ...    tfidf   0.82\n",
              "112  keyword cleaned + text      non  ...    tfidf   0.82\n",
              "\n",
              "[113 rows x 6 columns]"
            ]
          },
          "metadata": {
            "tags": []
          },
          "execution_count": 4
        }
      ]
    },
    {
      "cell_type": "markdown",
      "metadata": {
        "id": "ZzTd0jPCthZc"
      },
      "source": [
        "##Graph"
      ]
    },
    {
      "cell_type": "code",
      "metadata": {
        "id": "vwULU5dBthGE"
      },
      "source": [
        "progression = pd.read_csv('https://raw.githubusercontent.com/sfrancey/Real-or-Not-NLP-with-Disaster-Tweets_Team_Blancpain/main/Data/progression.csv',sep=\";\")"
      ],
      "execution_count": 5,
      "outputs": []
    },
    {
      "cell_type": "code",
      "metadata": {
        "colab": {
          "base_uri": "https://localhost:8080/",
          "height": 300
        },
        "id": "9xLX3bY_uN_a",
        "outputId": "a9313efe-4545-4f38-9d43-8288860a3c05"
      },
      "source": [
        "progression"
      ],
      "execution_count": 6,
      "outputs": [
        {
          "output_type": "execute_result",
          "data": {
            "text/html": [
              "<div>\n",
              "<style scoped>\n",
              "    .dataframe tbody tr th:only-of-type {\n",
              "        vertical-align: middle;\n",
              "    }\n",
              "\n",
              "    .dataframe tbody tr th {\n",
              "        vertical-align: top;\n",
              "    }\n",
              "\n",
              "    .dataframe thead th {\n",
              "        text-align: right;\n",
              "    }\n",
              "</style>\n",
              "<table border=\"1\" class=\"dataframe\">\n",
              "  <thead>\n",
              "    <tr style=\"text-align: right;\">\n",
              "      <th></th>\n",
              "      <th>x</th>\n",
              "      <th>y</th>\n",
              "    </tr>\n",
              "  </thead>\n",
              "  <tbody>\n",
              "    <tr>\n",
              "      <th>0</th>\n",
              "      <td>1.0</td>\n",
              "      <td>0.570</td>\n",
              "    </tr>\n",
              "    <tr>\n",
              "      <th>1</th>\n",
              "      <td>2.0</td>\n",
              "      <td>0.740</td>\n",
              "    </tr>\n",
              "    <tr>\n",
              "      <th>2</th>\n",
              "      <td>3.0</td>\n",
              "      <td>0.817</td>\n",
              "    </tr>\n",
              "    <tr>\n",
              "      <th>3</th>\n",
              "      <td>4.0</td>\n",
              "      <td>0.818</td>\n",
              "    </tr>\n",
              "    <tr>\n",
              "      <th>4</th>\n",
              "      <td>5.0</td>\n",
              "      <td>0.770</td>\n",
              "    </tr>\n",
              "    <tr>\n",
              "      <th>5</th>\n",
              "      <td>6.0</td>\n",
              "      <td>0.818</td>\n",
              "    </tr>\n",
              "    <tr>\n",
              "      <th>6</th>\n",
              "      <td>7.1</td>\n",
              "      <td>0.804</td>\n",
              "    </tr>\n",
              "    <tr>\n",
              "      <th>7</th>\n",
              "      <td>7.2</td>\n",
              "      <td>0.790</td>\n",
              "    </tr>\n",
              "  </tbody>\n",
              "</table>\n",
              "</div>"
            ],
            "text/plain": [
              "     x      y\n",
              "0  1.0  0.570\n",
              "1  2.0  0.740\n",
              "2  3.0  0.817\n",
              "3  4.0  0.818\n",
              "4  5.0  0.770\n",
              "5  6.0  0.818\n",
              "6  7.1  0.804\n",
              "7  7.2  0.790"
            ]
          },
          "metadata": {
            "tags": []
          },
          "execution_count": 6
        }
      ]
    },
    {
      "cell_type": "code",
      "metadata": {
        "id": "tZvD5RZtB4PJ"
      },
      "source": [
        "progression.x = progression.x.astype(str)"
      ],
      "execution_count": 10,
      "outputs": []
    },
    {
      "cell_type": "code",
      "metadata": {
        "id": "L3yjrbnQvnJx"
      },
      "source": [
        "import matplotlib as plt"
      ],
      "execution_count": 13,
      "outputs": []
    },
    {
      "cell_type": "code",
      "metadata": {
        "colab": {
          "base_uri": "https://localhost:8080/",
          "height": 746
        },
        "id": "KRhSOSL3vtrm",
        "outputId": "d0c44fa2-422c-4e3e-b853-41880e211c8d"
      },
      "source": [
        "progression.plot(x=\"x\",y=\"y\",figsize=(20,12),title=\"Evolution of our main results\", xlabel=\"Iterations\",ylabel=\"Accuracy score\", legend =False)"
      ],
      "execution_count": 14,
      "outputs": [
        {
          "output_type": "execute_result",
          "data": {
            "text/plain": [
              "<matplotlib.axes._subplots.AxesSubplot at 0x7f114fd2f908>"
            ]
          },
          "metadata": {
            "tags": []
          },
          "execution_count": 14
        },
        {
          "output_type": "display_data",
          "data": {
            "image/png": "[encoded data removed]",
            "text/plain": [
              "<Figure size 1440x864 with 1 Axes>"
            ]
          },
          "metadata": {
            "tags": [],
            "needs_background": "light"
          }
        }
      ]
    }
  ]
}
